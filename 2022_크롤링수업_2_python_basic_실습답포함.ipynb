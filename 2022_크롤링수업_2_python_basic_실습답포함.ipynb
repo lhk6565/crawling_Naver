{
 "cells": [
  {
   "cell_type": "markdown",
   "id": "87433619",
   "metadata": {},
   "source": [
    "# 파이썬 개요 실습_Basics"
   ]
  },
  {
   "cell_type": "markdown",
   "id": "84b88111",
   "metadata": {},
   "source": [
    "## Indent, a brace"
   ]
  },
  {
   "cell_type": "code",
   "execution_count": null,
   "id": "a0f96548",
   "metadata": {},
   "outputs": [],
   "source": [
    "def test():\n",
    "    print(1)\n",
    "    print(2)\n",
    "    \n",
    "test()"
   ]
  },
  {
   "cell_type": "code",
   "execution_count": null,
   "id": "09822339",
   "metadata": {},
   "outputs": [],
   "source": [
    "a = 1\n",
    "b = \"abc\"\n",
    "c = \"a\"\n",
    "\n",
    "print(\"a: \",type(a))\n",
    "print(\"b: \",type(b))\n",
    "print(\"c: \",type(c))"
   ]
  },
  {
   "cell_type": "markdown",
   "id": "bac34fb7",
   "metadata": {},
   "source": [
    "## 자료형 "
   ]
  },
  {
   "cell_type": "markdown",
   "id": "287fb5c9",
   "metadata": {},
   "source": [
    "### 수치형"
   ]
  },
  {
   "cell_type": "code",
   "execution_count": null,
   "id": "12e7ea33",
   "metadata": {},
   "outputs": [],
   "source": [
    "example = 5\n",
    "print(type(example), example)\n",
    "\n",
    "example = 5.\n",
    "print(type(example), example)\n",
    "\n",
    "example = 5.23\n",
    "print(type(example), example)\n",
    "\n",
    "example = 5.23e2\n",
    "print(type(example), example)\n",
    "\n",
    "example = 5.23e-2\n",
    "print(type(example), example)\n",
    "\n",
    "example = 5j\n",
    "print(type(example), example)"
   ]
  },
  {
   "cell_type": "code",
   "execution_count": null,
   "id": "10ea4039",
   "metadata": {
    "scrolled": true
   },
   "outputs": [],
   "source": [
    "print(34 + 1)\n",
    "print(34.0 - 0.1)\n",
    "print(300 * 30)\n",
    "print(1 / 2)\n",
    "print(2 // 3)\n",
    "print(9 ** 0.5)\n",
    "print(20 % 3)"
   ]
  },
  {
   "cell_type": "code",
   "execution_count": null,
   "id": "5ec9966f",
   "metadata": {
    "scrolled": true
   },
   "outputs": [],
   "source": [
    "print(int(1.3))\n",
    "print(int(-1.7))\n",
    "print(int(\"5\"))\n",
    "\n",
    "print(float(5))\n",
    "print(float(\"1.3\"))\n",
    "\n",
    "print(str(3))\n",
    "print(type(str(3)))\n",
    "print(str(-1.3e3))\n",
    "\n",
    "print(round(1.3))\n",
    "print(round(-1.7))\n",
    "print(round(1.37, 1))\n"
   ]
  },
  {
   "cell_type": "markdown",
   "id": "7bb89139",
   "metadata": {},
   "source": [
    "#### TypeError: 'str' object is not callable\n",
    "#### 에러가 나오면 위에서 'str=~' 이라고 변수 이름을 선언한 경우 오류가 발생한다. "
   ]
  },
  {
   "cell_type": "markdown",
   "id": "8be5bfe9",
   "metadata": {},
   "source": [
    "### 문자형"
   ]
  },
  {
   "cell_type": "code",
   "execution_count": null,
   "id": "a07a8628",
   "metadata": {},
   "outputs": [],
   "source": [
    "sentence = \"I ate 3 apples. So I was sick for five days.\"\n",
    "print(sentence)\n",
    "\n",
    "sentence = \"I ate 3 apples.\\nSo I was sick for five days.\"\n",
    "print(sentence)\n",
    "\n",
    "sentence = \"I ate 3 apples.\\tSo I was sick for five days.\"\n",
    "print(sentence)\n",
    "\n",
    "sentence = \"He said, \\\"I ate 3 apples. So I was sick for five days\\\"\"\n",
    "print(sentence)\n"
   ]
  },
  {
   "cell_type": "code",
   "execution_count": null,
   "id": "44649317",
   "metadata": {},
   "outputs": [],
   "source": [
    "number = 3\n",
    "day = \"five\"\n",
    "\n",
    "sentence = \"I ate %d apples. So I was sick for %s days.\" % (number, day)\n",
    "print(sentence)\n",
    "\n",
    "sentence = \"I ate {} apples. So I was sick for {} days\".format(number, day)\n",
    "print(sentence)\n",
    "\n",
    "sentence = \"I ate %.1f apples. So I was sick for %s days\" % (number, day)\n",
    "print(sentence)\n",
    "\n",
    "sentence = \"\\nI ate %d apples.\\nSo I was sick for %s days.\" % (number, day)\n",
    "print(sentence)"
   ]
  },
  {
   "cell_type": "code",
   "execution_count": null,
   "id": "7df69fee",
   "metadata": {},
   "outputs": [],
   "source": [
    "dma = \"Data Management\""
   ]
  },
  {
   "cell_type": "code",
   "execution_count": null,
   "id": "0f6930ed",
   "metadata": {},
   "outputs": [],
   "source": [
    "dma += \" and Analysis\"\n",
    "dma"
   ]
  },
  {
   "cell_type": "code",
   "execution_count": null,
   "id": "5448b896",
   "metadata": {},
   "outputs": [],
   "source": [
    "dma*6"
   ]
  },
  {
   "cell_type": "code",
   "execution_count": null,
   "id": "7ca2dcb1",
   "metadata": {},
   "outputs": [],
   "source": [
    "dma[0:3]"
   ]
  },
  {
   "cell_type": "code",
   "execution_count": null,
   "id": "b2379ea7",
   "metadata": {},
   "outputs": [],
   "source": [
    "dma[:-3]"
   ]
  },
  {
   "cell_type": "code",
   "execution_count": null,
   "id": "11bd1ceb",
   "metadata": {
    "scrolled": true
   },
   "outputs": [],
   "source": [
    "dma[3] = 'd'\n",
    "dma"
   ]
  },
  {
   "cell_type": "code",
   "execution_count": null,
   "id": "402ef3a7",
   "metadata": {},
   "outputs": [],
   "source": [
    "dma.count(\"a\")"
   ]
  },
  {
   "cell_type": "code",
   "execution_count": null,
   "id": "3166d3e1",
   "metadata": {},
   "outputs": [],
   "source": [
    "dma.find(\"a\")"
   ]
  },
  {
   "cell_type": "code",
   "execution_count": null,
   "id": "cd09f76d",
   "metadata": {},
   "outputs": [],
   "source": [
    "dma.find_all(\"a\")"
   ]
  },
  {
   "cell_type": "code",
   "execution_count": null,
   "id": "3a666212",
   "metadata": {},
   "outputs": [],
   "source": [
    "# 참고용\n",
    "import re\n",
    "\n",
    "[m.start() for m in re.finditer('a', dma)]"
   ]
  },
  {
   "cell_type": "code",
   "execution_count": null,
   "id": "4f9082ce",
   "metadata": {},
   "outputs": [],
   "source": [
    "dma.upper()"
   ]
  },
  {
   "cell_type": "code",
   "execution_count": null,
   "id": "342857e8",
   "metadata": {},
   "outputs": [],
   "source": [
    "dma.lower()"
   ]
  },
  {
   "cell_type": "code",
   "execution_count": null,
   "id": "ffbed88c",
   "metadata": {},
   "outputs": [],
   "source": [
    "dma.replace(\"Data\", \"Life\")"
   ]
  },
  {
   "cell_type": "code",
   "execution_count": null,
   "id": "d2d60fb7",
   "metadata": {},
   "outputs": [],
   "source": [
    "dma.split()"
   ]
  },
  {
   "cell_type": "code",
   "execution_count": null,
   "id": "16d48cb7",
   "metadata": {},
   "outputs": [],
   "source": [
    "dma.split(\"a\")"
   ]
  },
  {
   "cell_type": "code",
   "execution_count": null,
   "id": "8baf86f8",
   "metadata": {},
   "outputs": [],
   "source": [
    "dma.join(\",\")"
   ]
  },
  {
   "cell_type": "code",
   "execution_count": null,
   "id": "dbac77f2",
   "metadata": {
    "scrolled": true
   },
   "outputs": [],
   "source": [
    "(\",\").join(dma)"
   ]
  },
  {
   "cell_type": "markdown",
   "id": "f05f04a4",
   "metadata": {},
   "source": [
    "### 리스트"
   ]
  },
  {
   "cell_type": "code",
   "execution_count": null,
   "id": "119d5718",
   "metadata": {},
   "outputs": [],
   "source": [
    "list1 = []\n",
    "\n",
    "list2 = [1, 2, \"list\"]\n",
    "\n",
    "list3 = [[1,2], \"list\"]\n",
    "\n",
    "print(list2)\n",
    "print(list3)"
   ]
  },
  {
   "cell_type": "code",
   "execution_count": null,
   "id": "9abd14a0",
   "metadata": {},
   "outputs": [],
   "source": [
    "a = [1,2,3]\n",
    "b = [4,5,6]\n",
    "\n",
    "print(a+b)"
   ]
  },
  {
   "cell_type": "code",
   "execution_count": null,
   "id": "e326af1d",
   "metadata": {},
   "outputs": [],
   "source": [
    "a[0:5]"
   ]
  },
  {
   "cell_type": "code",
   "execution_count": null,
   "id": "d7194cee",
   "metadata": {},
   "outputs": [],
   "source": [
    "len(a)"
   ]
  },
  {
   "cell_type": "code",
   "execution_count": null,
   "id": "9df580cb",
   "metadata": {},
   "outputs": [],
   "source": [
    "c = [1, 2, 3, 4]\n",
    "\n",
    "sum(c)"
   ]
  },
  {
   "cell_type": "code",
   "execution_count": null,
   "id": "398e8ea5",
   "metadata": {},
   "outputs": [],
   "source": [
    "min(c)"
   ]
  },
  {
   "cell_type": "code",
   "execution_count": null,
   "id": "08cb8e4d",
   "metadata": {},
   "outputs": [],
   "source": [
    "max(c)"
   ]
  },
  {
   "cell_type": "code",
   "execution_count": null,
   "id": "359b78b0",
   "metadata": {},
   "outputs": [],
   "source": [
    "d = [\"a\", \"b\", \"c\", \"A\"]\n",
    "\n",
    "sum(d)"
   ]
  },
  {
   "cell_type": "code",
   "execution_count": null,
   "id": "be11ead3",
   "metadata": {},
   "outputs": [],
   "source": [
    "min(d)"
   ]
  },
  {
   "cell_type": "code",
   "execution_count": null,
   "id": "6e347f7e",
   "metadata": {},
   "outputs": [],
   "source": [
    "max(d)"
   ]
  },
  {
   "cell_type": "code",
   "execution_count": null,
   "id": "24e3d21b",
   "metadata": {},
   "outputs": [],
   "source": [
    "a = [1,2,3]"
   ]
  },
  {
   "cell_type": "code",
   "execution_count": null,
   "id": "fd52dfa6",
   "metadata": {},
   "outputs": [],
   "source": [
    "a.append([4,5,6])\n",
    "a"
   ]
  },
  {
   "cell_type": "code",
   "execution_count": null,
   "id": "a37911f6",
   "metadata": {},
   "outputs": [],
   "source": [
    "a.insert(0, 0)\n",
    "a"
   ]
  },
  {
   "cell_type": "code",
   "execution_count": null,
   "id": "4f6b5369",
   "metadata": {},
   "outputs": [],
   "source": [
    "a.extend([4,5,6])\n",
    "a"
   ]
  },
  {
   "cell_type": "code",
   "execution_count": null,
   "id": "6c606c4c",
   "metadata": {},
   "outputs": [],
   "source": [
    "a.pop(0)\n",
    "a"
   ]
  },
  {
   "cell_type": "code",
   "execution_count": null,
   "id": "60f3bb52",
   "metadata": {},
   "outputs": [],
   "source": [
    "a.index([4,5,6])"
   ]
  },
  {
   "cell_type": "code",
   "execution_count": null,
   "id": "3f5dcfa9",
   "metadata": {},
   "outputs": [],
   "source": [
    "a.remove([4,5,6])\n",
    "a"
   ]
  },
  {
   "cell_type": "code",
   "execution_count": null,
   "id": "1f120021",
   "metadata": {},
   "outputs": [],
   "source": [
    "a.count(2)"
   ]
  },
  {
   "cell_type": "code",
   "execution_count": null,
   "id": "fec7f7c9",
   "metadata": {},
   "outputs": [],
   "source": [
    "a.sort()\n",
    "a"
   ]
  },
  {
   "cell_type": "markdown",
   "id": "26cb888f",
   "metadata": {},
   "source": [
    "### 튜플"
   ]
  },
  {
   "cell_type": "code",
   "execution_count": null,
   "id": "de752852",
   "metadata": {},
   "outputs": [],
   "source": [
    "list_a = [1,2,3]\n",
    "list_a[0] = 3\n",
    "list_a"
   ]
  },
  {
   "cell_type": "code",
   "execution_count": null,
   "id": "0bdd15ce",
   "metadata": {},
   "outputs": [],
   "source": [
    "tuple_a = (1,2,3)\n",
    "tuple_a[0]"
   ]
  },
  {
   "cell_type": "code",
   "execution_count": null,
   "id": "c7ae6d44",
   "metadata": {},
   "outputs": [],
   "source": [
    "tuple_a[0] = 3"
   ]
  },
  {
   "cell_type": "markdown",
   "id": "a3a29b4c",
   "metadata": {},
   "source": [
    "### 집합"
   ]
  },
  {
   "cell_type": "code",
   "execution_count": null,
   "id": "1f8f30c6",
   "metadata": {},
   "outputs": [],
   "source": [
    "set([1,2,3,3,4,4,4])"
   ]
  },
  {
   "cell_type": "code",
   "execution_count": null,
   "id": "b2c2d5cf",
   "metadata": {},
   "outputs": [],
   "source": [
    "set1 = set([1,2,3,4])\n",
    "set2 = set([3,4,5,6])\n",
    "set1 & set2"
   ]
  },
  {
   "cell_type": "code",
   "execution_count": null,
   "id": "49eeaf2e",
   "metadata": {},
   "outputs": [],
   "source": [
    "set1.intersection(set2)"
   ]
  },
  {
   "cell_type": "code",
   "execution_count": null,
   "id": "86133f11",
   "metadata": {},
   "outputs": [],
   "source": [
    "set1 | set2"
   ]
  },
  {
   "cell_type": "code",
   "execution_count": null,
   "id": "7f41cb31",
   "metadata": {},
   "outputs": [],
   "source": [
    "set1.union(set2)"
   ]
  },
  {
   "cell_type": "code",
   "execution_count": null,
   "id": "b6a03e90",
   "metadata": {},
   "outputs": [],
   "source": [
    "set1 - set2"
   ]
  },
  {
   "cell_type": "code",
   "execution_count": null,
   "id": "75b83ddb",
   "metadata": {},
   "outputs": [],
   "source": [
    "set1.difference(set2)"
   ]
  },
  {
   "cell_type": "code",
   "execution_count": null,
   "id": "85759f53",
   "metadata": {},
   "outputs": [],
   "source": [
    "set1.add(5)\n",
    "set1"
   ]
  },
  {
   "cell_type": "code",
   "execution_count": null,
   "id": "1c614d5a",
   "metadata": {},
   "outputs": [],
   "source": [
    "set1.update([5,6,7])\n",
    "set1"
   ]
  },
  {
   "cell_type": "code",
   "execution_count": null,
   "id": "48b8fc61",
   "metadata": {},
   "outputs": [],
   "source": [
    "set1.remove(4)\n",
    "set1"
   ]
  },
  {
   "cell_type": "code",
   "execution_count": null,
   "id": "6528c2ba",
   "metadata": {},
   "outputs": [],
   "source": [
    "list(set1)"
   ]
  },
  {
   "cell_type": "markdown",
   "id": "382820ca",
   "metadata": {},
   "source": [
    "### 딕셔너리"
   ]
  },
  {
   "cell_type": "code",
   "execution_count": null,
   "id": "d1e1ba3b",
   "metadata": {},
   "outputs": [],
   "source": [
    "dic = {'a': 1, \"b\": 2, 3: 4}"
   ]
  },
  {
   "cell_type": "code",
   "execution_count": null,
   "id": "3248ca61",
   "metadata": {},
   "outputs": [],
   "source": [
    "dic"
   ]
  },
  {
   "cell_type": "code",
   "execution_count": null,
   "id": "a2410b48",
   "metadata": {},
   "outputs": [],
   "source": [
    "dic['a'] = [1,2,3]\n",
    "dic"
   ]
  },
  {
   "cell_type": "code",
   "execution_count": null,
   "id": "f057142b",
   "metadata": {},
   "outputs": [],
   "source": [
    "del dic['a']"
   ]
  },
  {
   "cell_type": "code",
   "execution_count": null,
   "id": "098e3cea",
   "metadata": {},
   "outputs": [],
   "source": [
    "dic"
   ]
  },
  {
   "cell_type": "code",
   "execution_count": null,
   "id": "498c387d",
   "metadata": {},
   "outputs": [],
   "source": [
    "dic['c'] = 3\n",
    "dic"
   ]
  },
  {
   "cell_type": "code",
   "execution_count": null,
   "id": "f5839220",
   "metadata": {},
   "outputs": [],
   "source": [
    "'a' in dic"
   ]
  },
  {
   "cell_type": "code",
   "execution_count": null,
   "id": "29925d8e",
   "metadata": {},
   "outputs": [],
   "source": [
    "'b' in dic"
   ]
  },
  {
   "cell_type": "code",
   "execution_count": null,
   "id": "e02bf07f",
   "metadata": {},
   "outputs": [],
   "source": [
    "dic.keys()"
   ]
  },
  {
   "cell_type": "code",
   "execution_count": null,
   "id": "3a13320a",
   "metadata": {},
   "outputs": [],
   "source": [
    "dic.values()"
   ]
  },
  {
   "cell_type": "code",
   "execution_count": null,
   "id": "a35439d7",
   "metadata": {},
   "outputs": [],
   "source": [
    "dic.items()"
   ]
  },
  {
   "cell_type": "markdown",
   "id": "e9b58a02",
   "metadata": {},
   "source": [
    "### 불"
   ]
  },
  {
   "cell_type": "code",
   "execution_count": null,
   "id": "5f037c7e",
   "metadata": {},
   "outputs": [],
   "source": [
    "2>1"
   ]
  },
  {
   "cell_type": "code",
   "execution_count": null,
   "id": "33dc0acb",
   "metadata": {},
   "outputs": [],
   "source": [
    "2<1"
   ]
  },
  {
   "cell_type": "code",
   "execution_count": null,
   "id": "c5979b4d",
   "metadata": {},
   "outputs": [],
   "source": [
    "bool(1)"
   ]
  },
  {
   "cell_type": "code",
   "execution_count": null,
   "id": "9f2d357c",
   "metadata": {},
   "outputs": [],
   "source": [
    "bool(0)"
   ]
  },
  {
   "cell_type": "code",
   "execution_count": null,
   "id": "a8869e9b",
   "metadata": {},
   "outputs": [],
   "source": [
    "bool('False')"
   ]
  },
  {
   "cell_type": "code",
   "execution_count": null,
   "id": "71801895",
   "metadata": {},
   "outputs": [],
   "source": [
    "bool('')"
   ]
  },
  {
   "cell_type": "code",
   "execution_count": null,
   "id": "851ab955",
   "metadata": {},
   "outputs": [],
   "source": [
    "bool([])"
   ]
  },
  {
   "cell_type": "code",
   "execution_count": null,
   "id": "0452e442",
   "metadata": {},
   "outputs": [],
   "source": [
    "bool([False])"
   ]
  },
  {
   "cell_type": "code",
   "execution_count": null,
   "id": "855a6277",
   "metadata": {},
   "outputs": [],
   "source": [
    "True and False"
   ]
  },
  {
   "cell_type": "code",
   "execution_count": null,
   "id": "367688eb",
   "metadata": {},
   "outputs": [],
   "source": [
    "True or False"
   ]
  },
  {
   "cell_type": "code",
   "execution_count": null,
   "id": "12b3df04",
   "metadata": {},
   "outputs": [],
   "source": [
    "not True"
   ]
  },
  {
   "cell_type": "markdown",
   "id": "28386a7c",
   "metadata": {},
   "source": [
    "## 조건문"
   ]
  },
  {
   "cell_type": "code",
   "execution_count": null,
   "id": "273482c2",
   "metadata": {},
   "outputs": [],
   "source": [
    "a = 10\n",
    "if a > 15:\n",
    "    print(\"a는 15보다 큽니다.\")\n",
    "print(\"==============\")"
   ]
  },
  {
   "cell_type": "code",
   "execution_count": null,
   "id": "cf2414de",
   "metadata": {},
   "outputs": [],
   "source": [
    "a = 10\n",
    "if a > 15:\n",
    "    print(\"a는 15보다 큽니다.\")\n",
    "else:\n",
    "    print(\"a는 15보다 작습니다.\")\n",
    "print(\"==============\")"
   ]
  },
  {
   "cell_type": "code",
   "execution_count": null,
   "id": "0f3a7ac1",
   "metadata": {
    "scrolled": true
   },
   "outputs": [],
   "source": [
    "a = 18\n",
    "if a > 20:\n",
    "    print(\"a는 20보다 큽니다.\")\n",
    "elif a > 18:\n",
    "    print(\"a는 20이하 18초과입니다.\")\n",
    "elif a > 16:\n",
    "    print(\"a는 18이하 16초과입니다.\")\n",
    "else:\n",
    "    print(\"a는 15보다 작습니다.\")\n",
    "print(\"==============\")"
   ]
  },
  {
   "cell_type": "markdown",
   "id": "61291cb5",
   "metadata": {},
   "source": [
    "## 반복문"
   ]
  },
  {
   "cell_type": "code",
   "execution_count": null,
   "id": "2bcdc075",
   "metadata": {},
   "outputs": [],
   "source": [
    "for i in range(10):\n",
    "    print(i)"
   ]
  },
  {
   "cell_type": "code",
   "execution_count": null,
   "id": "78167daf",
   "metadata": {},
   "outputs": [],
   "source": [
    "print(\"List\")\n",
    "for x in [1,2,3]:\n",
    "    print(x)\n",
    "    \n",
    "print(\"Tuple\")\n",
    "for x in (1,2,3):\n",
    "    print(x)"
   ]
  },
  {
   "cell_type": "code",
   "execution_count": null,
   "id": "d5cc46a8",
   "metadata": {
    "scrolled": false
   },
   "outputs": [],
   "source": [
    "list = [1, 2, 3, 4]\n",
    "for i in list:\n",
    "    print(i + 2)\n"
   ]
  },
  {
   "cell_type": "code",
   "execution_count": null,
   "id": "2df83332",
   "metadata": {},
   "outputs": [],
   "source": [
    "d = {'a': 1, 'b': 2, 3: 4}\n",
    "for key in d.keys():\n",
    "    print(key)\n",
    "    \n",
    "for value in d.values():\n",
    "    print(value)\n",
    "\n",
    "for key, value in d.items():\n",
    "    print(key, value)"
   ]
  },
  {
   "cell_type": "code",
   "execution_count": null,
   "id": "b1a7fe26",
   "metadata": {},
   "outputs": [],
   "source": [
    "add = 0 \n",
    "for i in range(1, 11): \n",
    "    add = add + i \n",
    "add"
   ]
  },
  {
   "cell_type": "code",
   "execution_count": null,
   "id": "8f050898",
   "metadata": {},
   "outputs": [],
   "source": [
    "marks = [90, 25, 67, 45, 80]\n",
    "for number in range(len(marks)):\n",
    "    print(marks[number]) "
   ]
  },
  {
   "cell_type": "code",
   "execution_count": null,
   "id": "842f57a8",
   "metadata": {},
   "outputs": [],
   "source": [
    "a = [1,2,3]\n",
    "for idx, x in enumerate(a):\n",
    "    print(idx, x) # x = a[idx]"
   ]
  },
  {
   "cell_type": "code",
   "execution_count": null,
   "id": "ea262433",
   "metadata": {
    "scrolled": true
   },
   "outputs": [],
   "source": [
    "\n",
    "\n"
   ]
  },
  {
   "cell_type": "code",
   "execution_count": null,
   "id": "5bf49e9c",
   "metadata": {},
   "outputs": [],
   "source": [
    "i = 0\n",
    "while i < 10:\n",
    "    print(i)\n",
    "    i += 1"
   ]
  },
  {
   "cell_type": "code",
   "execution_count": null,
   "id": "3d8f94b9",
   "metadata": {},
   "outputs": [],
   "source": [
    "for i in range(2, 100):\n",
    "    if(i > 9):\n",
    "        break\n",
    "    print(\"구구단\", i, \"단입니다.\")\n",
    "print(\"구구단 출력을 마칩니다.\")\n"
   ]
  },
  {
   "cell_type": "code",
   "execution_count": null,
   "id": "ce6becef",
   "metadata": {},
   "outputs": [],
   "source": [
    "for i in range(2, 10):\n",
    "    if(i == 5):\n",
    "        print(\"5단은 모르겠습니다.\")\n",
    "        continue\n",
    "    print(\"구구단\", i, \"단입니다.\")"
   ]
  },
  {
   "cell_type": "code",
   "execution_count": null,
   "id": "28c8ce60",
   "metadata": {
    "scrolled": true
   },
   "outputs": [],
   "source": [
    "dan = 2\n",
    "print(\"구구단\", dan, \"단을 출력합니다.\")\n",
    "print(dan, \"x 2 =\", dan * 2)\n",
    "print(dan, \"x 3 =\", dan * 3)\n",
    "print(dan, \"x 4 =\", dan * 4)\n",
    "print(dan, \"x 5 =\", dan * 5)\n",
    "print(dan, \"x 6 =\", dan * 6)\n",
    "print(dan, \"x 7 =\", dan * 7)\n",
    "print(dan, \"x 8 =\", dan * 8)\n",
    "print(dan, \"x 9 =\", dan * 9)"
   ]
  },
  {
   "cell_type": "code",
   "execution_count": null,
   "id": "2f3a10f9",
   "metadata": {},
   "outputs": [],
   "source": [
    "dan = 2\n",
    "print(\"구구단\", dan, \"단을 출력합니다.\")\n",
    "for i in range(2, 10):\n",
    "    print(dan, \"x\", i, \"=\", dan * i)\n"
   ]
  },
  {
   "cell_type": "code",
   "execution_count": null,
   "id": "a4471b55",
   "metadata": {
    "scrolled": true
   },
   "outputs": [],
   "source": [
    "dan = 2\n",
    "print(\"구구단\", dan, \"단을 출력합니다.\")\n",
    "for i in range(2, 10):\n",
    "    print(dan, \"x\", i, \"=\", dan * i)\n",
    "\n",
    "dan = 3\n",
    "print(\"구구단\", dan, \"단을 출력합니다.\")\n",
    "for i in range(2, 10):\n",
    "    print(dan, \"x\", i, \"=\", dan * i)\n",
    "\n",
    "dan = 9\n",
    "print(\"구구단\", dan, \"단을 출력합니다.\")\n",
    "for i in range(2, 10):\n",
    "    print(dan, \"x\", i, \"=\", dan * i)\n"
   ]
  },
  {
   "cell_type": "code",
   "execution_count": null,
   "id": "550d565b",
   "metadata": {},
   "outputs": [],
   "source": [
    "for dan in range(2, 10):\n",
    "    print(\"구구단\", dan, \"단을 출력합니다.\")\n",
    "    for i in range(2, 10):\n",
    "        print(dan, \"x\", i, \"=\", dan * i)"
   ]
  },
  {
   "cell_type": "code",
   "execution_count": null,
   "id": "f9d8ad4d",
   "metadata": {
    "scrolled": true
   },
   "outputs": [],
   "source": [
    "#diy 1~4\n",
    "for i in range(1, 6):\n",
    "    print(\"*\"*i)\n",
    "\n",
    "for i in range(1, 11, 2):\n",
    "    print(\"*\" * i)\n",
    "\n",
    "for i in range(1, 6):\n",
    "    print(\"*\"*(6-i))\n",
    "\n",
    "for i in range(1, 6):\n",
    "    print(\" \" * (5-i), \"*\" * (2 * i - 1))\n",
    "\n"
   ]
  },
  {
   "cell_type": "code",
   "execution_count": null,
   "id": "4db779bf",
   "metadata": {
    "scrolled": true
   },
   "outputs": [],
   "source": [
    "#  diy 5\n",
    "for i in range(5): #i가 행번호가 됨\n",
    "    #공백 먼저 찍어보기 : 공백수=행번호\n",
    "    print(\" \" * i, end=\"\") #엔터 못치게 옵션줘\n",
    "    #숫자 찍고\n",
    "    for j in range(1, 6-i):\n",
    "        print(j, end=\"\")\n",
    "        # if j==(5-i): #j가 5-i가 되면 엔터 한번 쳐줘\n",
    "        #     print()\n",
    "    #엔터를 쳐줘 - 가장 일반적\n",
    "    print()"
   ]
  },
  {
   "cell_type": "code",
   "execution_count": null,
   "id": "07383df2",
   "metadata": {},
   "outputs": [],
   "source": [
    "# diy 6\n",
    "for i in range(5): #i가 행번호가 됨\n",
    "    #공백 먼저 찍어보기 : 공백수=행번호\n",
    "    print(\" \" * i, end=\"\") #엔터 못치게 옵션줘\n",
    "    #숫자 찍고\n",
    "    for j in range(1, 6-i):\n",
    "        print(j, end=\"\")\n",
    "        # if j==(5-i): #j가 5-i가 되면 엔터 한번 쳐줘\n",
    "        #     print()\n",
    "\n",
    "    #숫자를 4321 찍으면됨\n",
    "    for j in range(4-i, 0, -1):\n",
    "        print(j, end=\"\")\n",
    "\n",
    "    #엔터를 쳐줘 - 가장 일반적\n",
    "    print()"
   ]
  },
  {
   "cell_type": "code",
   "execution_count": null,
   "id": "ea81decf",
   "metadata": {},
   "outputs": [],
   "source": [
    "def printDan(dan):\n",
    "    print(\"구구단\", dan, \"단을 출력합니다.\")\n",
    "    for i in range(2, 10):\n",
    "        print(dan, \"x\", i, \"=\", dan * i)\n",
    "\n",
    "printDan(15)"
   ]
  },
  {
   "cell_type": "code",
   "execution_count": null,
   "id": "2525aa70",
   "metadata": {},
   "outputs": [],
   "source": [
    "# diy 7\n",
    "def printDan(dan, dddd):\n",
    "    print(\"구구단\", dan, \"단을 출력합니다.\")\n",
    "    for i in range(2, dddd + 1):\n",
    "        print(dan, \"x\", i, \"=\", dan * i)"
   ]
  },
  {
   "cell_type": "markdown",
   "id": "a1325288",
   "metadata": {},
   "source": [
    "### 람다 함수"
   ]
  },
  {
   "cell_type": "code",
   "execution_count": 9,
   "id": "99011c0a",
   "metadata": {},
   "outputs": [
    {
     "data": {
      "text/plain": [
       "3"
      ]
     },
     "execution_count": 9,
     "metadata": {},
     "output_type": "execute_result"
    }
   ],
   "source": [
    "(lambda x,y: x+y)(1,2)"
   ]
  },
  {
   "cell_type": "code",
   "execution_count": 10,
   "id": "19714d3b",
   "metadata": {
    "scrolled": false
   },
   "outputs": [
    {
     "data": {
      "text/plain": [
       "[0, 1, 4, 9, 16]"
      ]
     },
     "execution_count": 10,
     "metadata": {},
     "output_type": "execute_result"
    }
   ],
   "source": [
    "list(map(lambda x: x**2, range(5)))"
   ]
  },
  {
   "cell_type": "code",
   "execution_count": 11,
   "id": "fde05cfd",
   "metadata": {},
   "outputs": [
    {
     "data": {
      "text/plain": [
       "[1, 2, 3, 4]"
      ]
     },
     "execution_count": 11,
     "metadata": {},
     "output_type": "execute_result"
    }
   ],
   "source": [
    "a = [1.2, 2.5, 3.7, 4.6]\n",
    "for i in range(len(a)):\n",
    "    a[i] = int(a[i])\n",
    "a"
   ]
  },
  {
   "cell_type": "code",
   "execution_count": 12,
   "id": "2bab7a0c",
   "metadata": {},
   "outputs": [
    {
     "data": {
      "text/plain": [
       "[1, 2, 3, 4]"
      ]
     },
     "execution_count": 12,
     "metadata": {},
     "output_type": "execute_result"
    }
   ],
   "source": [
    "a = [1.2, 2.5, 3.7, 4.6]\n",
    "a = list(map(int, a))\n",
    "a"
   ]
  },
  {
   "cell_type": "code",
   "execution_count": 13,
   "id": "6fef789e",
   "metadata": {},
   "outputs": [
    {
     "data": {
      "text/plain": [
       "[0, 1, 2]"
      ]
     },
     "execution_count": 13,
     "metadata": {},
     "output_type": "execute_result"
    }
   ],
   "source": [
    "list(filter(lambda x: x<3, range(5)))"
   ]
  },
  {
   "cell_type": "code",
   "execution_count": null,
   "id": "eff966eb",
   "metadata": {},
   "outputs": [],
   "source": []
  }
 ],
 "metadata": {
  "kernelspec": {
   "display_name": "Python 3",
   "language": "python",
   "name": "python3"
  },
  "language_info": {
   "codemirror_mode": {
    "name": "ipython",
    "version": 3
   },
   "file_extension": ".py",
   "mimetype": "text/x-python",
   "name": "python",
   "nbconvert_exporter": "python",
   "pygments_lexer": "ipython3",
   "version": "3.8.10"
  }
 },
 "nbformat": 4,
 "nbformat_minor": 5
}
