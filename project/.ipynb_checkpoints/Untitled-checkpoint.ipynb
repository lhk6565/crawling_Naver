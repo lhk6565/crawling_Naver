{
 "cells": [
  {
   "cell_type": "markdown",
   "id": "749ad4c6",
   "metadata": {},
   "source": [
    "네이버 부동산 크롤링 Project"
   ]
  },
  {
   "cell_type": "code",
   "execution_count": null,
   "id": "550a21d5",
   "metadata": {},
   "outputs": [],
   "source": [
    "## \n",
    "from selenium import webdriver\n",
    "from selenium.webdriver import ActionChains\n",
    "from bs4 import BeautifulSoup\n",
    "import pandas as pd\n",
    "import time\n",
    "browser = webdriver.Chrome()\n",
    "browser.get(\"https://new.land.naver.com/complexes?ms=37.357617,126.7344446,16&a=APT:ABYG:JGC&e=RETAIL\")\n",
    "\n",
    "#아래 팝업창 뜨게 하기(아래 세모버튼 누르기?) xpath 사용\n",
    "browser.find_element_by_xpath('//*[@id=\"region_filter\"]/div/a/span[4]').click()\n",
    "time.sleep(3)\n",
    "\n",
    "apt_data=[]\n",
    "\n",
    "#순차적으로 아래있는것을 클릭하게 함\n",
    "for i in range(1, 13):  #range의 1 다음의 수(11)을 바꿔 몇번 반복할지 설정 할 수 있다.\n",
    "    pead_path = '//*[@id=\"region_filter\"]/div/div/div[3]/ul/li[{0}]/a'.format(i)\n",
    "    pead = browser.find_element_by_xpath(pead_path).click()\n",
    "    time.sleep(3)\n",
    "    \n",
    "    #왼쪽에 있는첫번째것을 클릭\n",
    "    for j in range\n",
    "    browser.find_element_by_css_selector(\"#articleListArea > div:nth-child(1) > div\").click()\n",
    "    time.sleep(2)"
   ]
  }
 ],
 "metadata": {
  "kernelspec": {
   "display_name": "sel_ker",
   "language": "python",
   "name": "selenium"
  },
  "language_info": {
   "codemirror_mode": {
    "name": "ipython",
    "version": 3
   },
   "file_extension": ".py",
   "mimetype": "text/x-python",
   "name": "python",
   "nbconvert_exporter": "python",
   "pygments_lexer": "ipython3",
   "version": "3.7.11"
  }
 },
 "nbformat": 4,
 "nbformat_minor": 5
}
