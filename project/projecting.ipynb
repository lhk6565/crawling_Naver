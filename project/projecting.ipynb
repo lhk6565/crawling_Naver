{
 "cells": [
  {
   "cell_type": "code",
   "execution_count": null,
   "id": "0bd23a6e",
   "metadata": {},
   "outputs": [],
   "source": [
    "from selenium import webdriver\n",
    "browser = webdriver.Chrome()\n",
    "browser.get(\"https://new.land.naver.com/complexes/1878?ms=37.33995,126.7427545,17&a=APT:ABYG:JGC&e=RETAIL&articleNo=2201277281\")\n",
    "\n",
    "import time\n",
    "#x버튼 눌러서 닫기\n",
    "browser.find_element_by_css_selector(\"div.detail_panel > div > button\").click()\n",
    "time.sleep(2)"
   ]
  },
  {
   "cell_type": "code",
   "execution_count": null,
   "id": "7750c76b",
   "metadata": {},
   "outputs": [],
   "source": [
    "from selenium import webdriver\n",
    "browser = webdriver.Chrome()\n",
    "browser.get(\"https://new.land.naver.com/complexes?ms=37.357617,126.7344446,16&a=APT:ABYG:JGC&e=RETAIL\")\n",
    "\n",
    "\n",
    "import time\n",
    "#아래 팝업창 뜨게 하기(아래 세모버튼 누르기?)\n",
    "browser.find_element_by_css_selector(\"span.area.type_complex\").click()\n",
    "time.sleep(2)\n",
    "\n",
    "import time\n",
    "#팝업창 첫번째것 누르기\n",
    "browser.find_element_by_css_selector(\"div.area_list_wrap.add_button > ul > li:nth-child(1) > a\").click()\n",
    "time.sleep(2)\n",
    "\n",
    "import time\n",
    "#건영1차 누르기\n",
    "browser.find_element_by_css_selector(\"div.item_inner\").click()\n",
    "time.sleep(2)\n",
    "\n",
    "import time\n",
    "#x버튼 눌러서 닫기\n",
    "browser.find_element_by_css_selector(\"div.detail_panel > div > button\").click()\n",
    "time.sleep(2)"
   ]
  },
  {
   "cell_type": "code",
   "execution_count": null,
   "id": "0dcf97ca",
   "metadata": {},
   "outputs": [],
   "source": [
    "from selenium import webdriver\n",
    "browser = webdriver.Chrome()\n",
    "browser.get(\"https://new.land.naver.com/complexes/1878?ms=37.33995,126.7427545,17&a=APT:ABYG:JGC&e=RETAIL\")\n",
    "\n",
    "import time\n",
    "#팝업창 첫번째것 누르기\n",
    "browser.find_element_by_css_selector(\"div.item_inner\").click()\n",
    "time.sleep(2)"
   ]
  },
  {
   "cell_type": "code",
   "execution_count": null,
   "id": "68b7d910",
   "metadata": {},
   "outputs": [],
   "source": [
    "from selenium import webdriver\n",
    "browser = webdriver.Chrome()\n",
    "browser.get(\"https://new.land.naver.com/complexes?ms=37.357617,126.7344446,16&a=APT:ABYG:JGC&e=RETAIL\")\n",
    "\n",
    "\n",
    "import time\n",
    "#아래 팝업창 뜨게 하기(아래 세모버튼 누르기?)\n",
    "browser.find_element_by_css_selector(\"span.area.type_complex\").click()\n",
    "time.sleep(2)\n",
    "\n",
    "import time\n",
    "#팝업창 첫번째것 누르기\n",
    "browser.find_element_by_css_selector(\"div.area_list_wrap.add_button > ul > li:nth-child(1) > a\").click()\n",
    "time.sleep(2)"
   ]
  },
  {
   "cell_type": "code",
   "execution_count": null,
   "id": "456b2b17",
   "metadata": {
    "scrolled": true
   },
   "outputs": [],
   "source": [
    "from selenium import webdriver\n",
    "from selenium.webdriver import ActionChains\n",
    "from bs4 import BeautifulSoup\n",
    "import pandas as pd\n",
    "browser = webdriver.Chrome()\n",
    "#정왕동에서 시작\n",
    "browser.get(\"https://new.land.naver.com/complexes/113317?ms=37.3525,126.7279,16&a=APT:ABYG:JGC&e=RETAIL\")\n",
    "\n",
    "\n",
    "import time\n",
    "#아래 팝업창 뜨게 하기(아래 세모버튼 누르기?) xpath 사용\n",
    "browser.find_element_by_xpath('//*[@id=\"region_filter\"]/div/a/span[4]').click()\n",
    "time.sleep(3)\n",
    "\n",
    "apt_data=[]\n",
    "\n",
    "#순차적으로 아래있는것을 클릭하게 함\n",
    "for i in range(1, 50):  #range의 1 다음의 수(11)을 바꿔 몇번 반복할지 설정 할 수 있다.\n",
    "    pead_path = '//*[@id=\"region_filter\"]/div/div/div[3]/ul/li[{0}]/a'.format(i)\n",
    "    pead = browser.find_element_by_xpath(pead_path).click()\n",
    "    time.sleep(3)\n",
    "    \n",
    "    #왼쪽에 있는첫번째것을 클릭\n",
    "    browser.find_element_by_css_selector(\"div.item_inner\").click()\n",
    "    time.sleep(2)\n",
    "    #browser.find_element_by_xpath('//*[@id=\"detailContents1\"]/div[4]/button').click()\n",
    "    #time.sleep(2)\n",
    "    \n",
    "    #광고가 뜨면 아파트 이름이 인식이 안되므로 try except 문 사용\n",
    "    try:\n",
    "        #아파트 이름\n",
    "        apt_name_path = '//*[@id=\"ct\"]/div[2]/div[2]/div/div[2]/div[1]/div[1]/div[2]/h4/strong'\n",
    "        apt_name = browser.find_element_by_xpath(apt_name_path)\n",
    "        name = apt_name.text\n",
    "        #매매, 전세, 월세 구분\n",
    "        apt_type_path = '//*[@id=\"ct\"]/div[2]/div[2]/div/div[2]/div[1]/div[1]/div[3]/span[1]'\n",
    "        apt_type = browser.find_element_by_xpath(apt_type_path)\n",
    "        typ = apt_type.text\n",
    "        #아파트 가격\n",
    "        apt_price_path = '//*[@id=\"ct\"]/div[2]/div[2]/div/div[2]/div[1]/div[1]/div[3]/span[2]'\n",
    "        apt_price = browser.find_element_by_xpath(apt_price_path)\n",
    "        price = apt_price.text\n",
    "        #아파트 방향\n",
    "        apt_way_path = '//*[@id=\"ct\"]/div[2]/div[2]/div/div[2]/div[1]/div[1]/div[5]/span[1]'\n",
    "        apt_way = browser.find_element_by_xpath(apt_way_path)\n",
    "        way = apt_way.text\n",
    "        #관리비\n",
    "        apt_mange_path = '//*[@id=\"detailContents1\"]/div[1]/table/tbody/tr[4]/td[1]'\n",
    "        apt_mange = browser.find_element_by_xpath(apt_mange_path)\n",
    "        mange = apt_mange.text\n",
    "        #매물특징\n",
    "        apt_feature_path = '//*[@id=\"detailContents1\"]/div[1]/table/tbody/tr[1]/td'\n",
    "        apt_feature = browser.find_element_by_xpath(apt_feature_path)\n",
    "        feature = apt_feature.text\n",
    "        #평수클릭\n",
    "        browser.find_element_by_xpath('//*[@id=\"tabArea\"]/button').click()\n",
    "        time.sleep(2)\n",
    "        #평수\n",
    "        apt_space_path = '//*[@id=\"detailContents1\"]/div[1]/table/tbody/tr[2]/td'\n",
    "        apt_space = browser.find_element_by_xpath(apt_space_path)\n",
    "        space = apt_space.text\n",
    "        #층수\n",
    "        apt_floor_path = '//*[@id=\"detailContents1\"]/div[1]/table/tbody/tr[3]/td[1]'\n",
    "        apt_floor = browser.find_element_by_xpath(apt_floor_path)\n",
    "        floor = apt_floor.text\n",
    "        #학군정보 클릭\n",
    "        browser.find_element_by_xpath('/html/body/div[2]/div/section/div[2]/div[2]/div/div[2]/div[1]/div[2]/div/a[4]').click()\n",
    "        time.sleep(3)\n",
    "        #학군정보 학교이름\n",
    "        school_name_path = '//*[@id=\"detailContents5\"]/div/div[1]/div[1]/h5'\n",
    "        school_name = browser.find_element_by_xpath(school_name_path)\n",
    "        school = school_name.text\n",
    "        #학군정보 학교까지 거리\n",
    "        school_distance_path = '//*[@id=\"detailContents5\"]/div/div[1]/div[2]/div[2]/div[2]'\n",
    "        school_distance = browser.find_element_by_xpath(school_distance_path)\n",
    "        distance = school_distance.text\n",
    "        #x버튼 누르기\n",
    "        browser.find_element_by_css_selector(\"div.detail_panel > div > button\").click()\n",
    "        time.sleep(2)\n",
    "        #아래 팝업창 뜨게 하기(아래 세모버튼 누르기?) xpath 사용\n",
    "        browser.find_element_by_xpath('//*[@id=\"region_filter\"]/div/a/span[4]').click()\n",
    "        time.sleep(2)\n",
    "        #list에 데이터 추가하기\n",
    "        apt_data.append([name, typ, price, way, mange, feature, space, floor, school, distance])\n",
    "        print(name, typ, price, way, mange, feature, space, floor, school, distance)\n",
    "    #광고가 뜨면 바로 x버튼 누르고 아래 방향을 눌러 다음 아파트 매물정보 검색\n",
    "    except:\n",
    "        browser.find_element_by_css_selector(\"div.detail_panel > div > button\").click()\n",
    "        time.sleep(2)\n",
    "        browser.find_element_by_xpath('//*[@id=\"region_filter\"]/div/a/span[4]').click()\n",
    "        time.sleep(2)\n",
    "       "
   ]
  },
  {
   "cell_type": "code",
   "execution_count": 7,
   "id": "ea747df8",
   "metadata": {
    "scrolled": true
   },
   "outputs": [
    {
     "name": "stderr",
     "output_type": "stream",
     "text": [
      "C:\\Users\\lhk65\\anaconda3\\envs\\selenium\\lib\\site-packages\\ipykernel_launcher.py:11: DeprecationWarning: find_element_by_* commands are deprecated. Please use find_element() instead\n",
      "  # This is added back by InteractiveShellApp.init_path()\n",
      "C:\\Users\\lhk65\\anaconda3\\envs\\selenium\\lib\\site-packages\\ipykernel_launcher.py:20: DeprecationWarning: find_element_by_* commands are deprecated. Please use find_element() instead\n",
      "C:\\Users\\lhk65\\anaconda3\\envs\\selenium\\lib\\site-packages\\ipykernel_launcher.py:24: DeprecationWarning: find_element_by_* commands are deprecated. Please use find_element() instead\n",
      "C:\\Users\\lhk65\\anaconda3\\envs\\selenium\\lib\\site-packages\\ipykernel_launcher.py:34: DeprecationWarning: find_element_by_* commands are deprecated. Please use find_element() instead\n",
      "C:\\Users\\lhk65\\anaconda3\\envs\\selenium\\lib\\site-packages\\ipykernel_launcher.py:38: DeprecationWarning: find_element_by_* commands are deprecated. Please use find_element() instead\n",
      "C:\\Users\\lhk65\\anaconda3\\envs\\selenium\\lib\\site-packages\\ipykernel_launcher.py:42: DeprecationWarning: find_element_by_* commands are deprecated. Please use find_element() instead\n",
      "C:\\Users\\lhk65\\anaconda3\\envs\\selenium\\lib\\site-packages\\ipykernel_launcher.py:46: DeprecationWarning: find_element_by_* commands are deprecated. Please use find_element() instead\n",
      "C:\\Users\\lhk65\\anaconda3\\envs\\selenium\\lib\\site-packages\\ipykernel_launcher.py:50: DeprecationWarning: find_element_by_* commands are deprecated. Please use find_element() instead\n",
      "C:\\Users\\lhk65\\anaconda3\\envs\\selenium\\lib\\site-packages\\ipykernel_launcher.py:54: DeprecationWarning: find_element_by_* commands are deprecated. Please use find_element() instead\n",
      "C:\\Users\\lhk65\\anaconda3\\envs\\selenium\\lib\\site-packages\\ipykernel_launcher.py:57: DeprecationWarning: find_element_by_* commands are deprecated. Please use find_element() instead\n",
      "C:\\Users\\lhk65\\anaconda3\\envs\\selenium\\lib\\site-packages\\ipykernel_launcher.py:61: DeprecationWarning: find_element_by_* commands are deprecated. Please use find_element() instead\n",
      "C:\\Users\\lhk65\\anaconda3\\envs\\selenium\\lib\\site-packages\\ipykernel_launcher.py:65: DeprecationWarning: find_element_by_* commands are deprecated. Please use find_element() instead\n",
      "C:\\Users\\lhk65\\anaconda3\\envs\\selenium\\lib\\site-packages\\ipykernel_launcher.py:68: DeprecationWarning: find_element_by_* commands are deprecated. Please use find_element() instead\n",
      "C:\\Users\\lhk65\\anaconda3\\envs\\selenium\\lib\\site-packages\\ipykernel_launcher.py:72: DeprecationWarning: find_element_by_* commands are deprecated. Please use find_element() instead\n",
      "C:\\Users\\lhk65\\anaconda3\\envs\\selenium\\lib\\site-packages\\ipykernel_launcher.py:76: DeprecationWarning: find_element_by_* commands are deprecated. Please use find_element() instead\n",
      "C:\\Users\\lhk65\\anaconda3\\envs\\selenium\\lib\\site-packages\\ipykernel_launcher.py:79: DeprecationWarning: find_element_by_* commands are deprecated. Please use find_element() instead\n",
      "C:\\Users\\lhk65\\anaconda3\\envs\\selenium\\lib\\site-packages\\ipykernel_launcher.py:82: DeprecationWarning: find_element_by_* commands are deprecated. Please use find_element() instead\n"
     ]
    },
    {
     "name": "stdout",
     "output_type": "stream",
     "text": [
      "건영1차 117동 매매 4억 남서향(거실 기준) 16만원 올수리되어있고 입주가능한 집입니다. 32.89평/25.69평(전용률78%) 10/10층 정왕초등학교 도보로 4분\n",
      "건영2차 208동 매매 3억 남동향(거실 기준) 13만원 올수리해서 깨끗해요.조정가. 22.17평/18.14평(전용률82%) 2/5층 송운초등학교 도보로 6분\n",
      "계룡1차 102동 매매 4억 3,000 남서향(거실 기준) 15만원 약간수리된집 전망굿 상가인접생활권좋음 32.39평/25.7평(전용률79%) 4/10층 서촌초등학교 도보로 5분\n",
      "계룡2차 206동 매매 2억 8,000 남서향(거실 기준) 12만원 올수리가되어서 아주깨끗하고 예쁜집입니다 24.01평/18.08평(전용률75%) 2/10층 서해초등학교 도보로 8분\n"
     ]
    }
   ],
   "source": [
    "from selenium import webdriver\n",
    "from selenium.webdriver import ActionChains\n",
    "from bs4 import BeautifulSoup\n",
    "import pandas as pd\n",
    "browser = webdriver.Chrome()\n",
    "#정왕동에서 시작\n",
    "browser.get(\"https://new.land.naver.com/complexes/113317?ms=37.3525,126.7279,16&a=APT:ABYG:JGC&e=RETAIL\")\n",
    "\n",
    "import time\n",
    "#아래 팝업창 뜨게 하기(아래 세모버튼 누르기?) xpath 사용\n",
    "browser.find_element_by_xpath('//*[@id=\"region_filter\"]/div/a/span[4]').click()\n",
    "time.sleep(3)\n",
    "\n",
    "apt_data=[]\n",
    "\n",
    "\n",
    "#순차적으로 아래있는것을 클릭하게 함\n",
    "for i in range(1, 5):  #range의 1 다음의 수(11)을 바꿔 몇번 반복할지 설정 할 수 있다.\n",
    "    pead_path = '//*[@id=\"region_filter\"]/div/div/div[3]/ul/li[{0}]/a'.format(i)\n",
    "    pead = browser.find_element_by_xpath(pead_path).click()\n",
    "    time.sleep(3)\n",
    "    \n",
    "    #왼쪽에 있는첫번째것을 클릭\n",
    "    browser.find_element_by_css_selector(\"div.item_inner\").click()\n",
    "    time.sleep(2)\n",
    "    #browser.find_element_by_xpath('//*[@id=\"detailContents1\"]/div[4]/button').click()\n",
    "    #time.sleep(2)\n",
    "    \n",
    "    \n",
    "    \n",
    "    #광고가 뜨면 아파트 이름이 인식이 안되므로 try except 문 사용\n",
    "    #아파트 이름\n",
    "    apt_name_path = 'div.info_title_wrap > h4 > strong'\n",
    "    apt_name = browser.find_element_by_css_selector(apt_name_path)\n",
    "    name = apt_name.text\n",
    "    #매매, 전세, 월세 구분\n",
    "    apt_type_path = 'div.main_info_area > div.info_article_price > span.type'\n",
    "    apt_type = browser.find_element_by_css_selector(apt_type_path)\n",
    "    typ = apt_type.text\n",
    "    #아파트 가격\n",
    "    apt_price_path = 'div.main_info_area > div.info_article_price > span.price'\n",
    "    apt_price = browser.find_element_by_css_selector(apt_price_path)\n",
    "    price = apt_price.text\n",
    "    #아파트 방향\n",
    "    apt_way_path = 'div.detail_box--summary > table > tbody > tr:nth-child(6) > td'\n",
    "    apt_way = browser.find_element_by_css_selector(apt_way_path)\n",
    "    way = apt_way.text\n",
    "    #관리비\n",
    "    apt_mange_path = 'div.detail_box--summary > table > tbody > tr:nth-child(4) > td:nth-child(2)'\n",
    "    apt_mange = browser.find_element_by_css_selector(apt_mange_path)\n",
    "    mange = apt_mange.text\n",
    "    #매물특징\n",
    "    apt_feature_path = '//*[@id=\"detailContents1\"]/div[1]/table/tbody/tr[1]/td'\n",
    "    apt_feature = browser.find_element_by_xpath(apt_feature_path)\n",
    "    feature = apt_feature.text\n",
    "    #평수클릭\n",
    "    browser.find_element_by_xpath('//*[@id=\"tabArea\"]/button').click()\n",
    "    time.sleep(2)\n",
    "    #평수\n",
    "    apt_space_path = 'div.detail_box--summary > table > tbody > tr:nth-child(2) > td'\n",
    "    apt_space = browser.find_element_by_css_selector(apt_space_path)\n",
    "    space = apt_space.text\n",
    "    #층수\n",
    "    apt_floor_path = 'div.detail_box--summary > table > tbody > tr:nth-child(3) > td:nth-child(2)'\n",
    "    apt_floor = browser.find_element_by_css_selector(apt_floor_path)\n",
    "    floor = apt_floor.text\n",
    "    #학군정보 클릭\n",
    "    browser.find_element_by_css_selector('.tab_area_list #detailTab4  span.text').click()\n",
    "    time.sleep(3)\n",
    "    #학군정보 학교이름\n",
    "    school_name_path = 'div > div.detail_box--school > div.heading > h5'\n",
    "    school_name = browser.find_element_by_css_selector(school_name_path)\n",
    "    school = school_name.text\n",
    "    #학군정보 학교까지 거리\n",
    "    school_distance_path = '//*[@id=\"detailContents5\"]/div/div[1]/div[2]/div[2]/div[2]'\n",
    "    school_distance = browser.find_element_by_xpath(school_distance_path)\n",
    "    distance = school_distance.text\n",
    "    #x버튼 누르기\n",
    "    browser.find_element_by_css_selector(\"div.detail_panel > div > button\").click()\n",
    "    time.sleep(2)\n",
    "    #아래 팝업창 뜨게 하기(아래 세모버튼 누르기?) xpath 사용\n",
    "    browser.find_element_by_xpath('//*[@id=\"region_filter\"]/div/a/span[4]').click()\n",
    "    time.sleep(2)\n",
    "    #list에 데이터 추가하기\n",
    "    apt_data.append([name, typ, price, way, mange, feature, space, floor, school, distance])\n",
    "    print(name, typ, price, way, mange, feature, space, floor, school, distance)\n",
    "    #광고가 뜨면 바로 x버튼 누르고 아래 방향을 눌러 다음 아파트 매물정보 검색\n"
   ]
  },
  {
   "cell_type": "code",
   "execution_count": 1,
   "id": "459c0c5e",
   "metadata": {},
   "outputs": [
    {
     "name": "stderr",
     "output_type": "stream",
     "text": [
      "C:\\Users\\lhk65\\anaconda3\\envs\\selenium\\lib\\site-packages\\ipykernel_launcher.py:7: DeprecationWarning: find_element_by_* commands are deprecated. Please use find_element() instead\n",
      "  import sys\n"
     ]
    },
    {
     "data": {
      "text/plain": [
       "'사진'"
      ]
     },
     "execution_count": 1,
     "metadata": {},
     "output_type": "execute_result"
    }
   ],
   "source": [
    "from selenium import webdriver\n",
    "from selenium.webdriver import ActionChains\n",
    "from bs4 import BeautifulSoup\n",
    "import pandas as pd\n",
    "browser = webdriver.Chrome()\n",
    "browser.get(\"https://new.land.naver.com/complexes/9415?ms=37.363403,126.7291335,17&a=APT:ABYG:JGC&e=RETAIL&articleNo=2200277382\")\n",
    "photo = browser.find_element_by_xpath(\"/html/body/div[2]/div/section/div[2]/div[2]/div/div[2]/div[2]/div/div/a[5]/span\")\n",
    "photo.text"
   ]
  },
  {
   "cell_type": "code",
   "execution_count": 17,
   "id": "92b744e2",
   "metadata": {},
   "outputs": [
    {
     "name": "stderr",
     "output_type": "stream",
     "text": [
      "C:\\Users\\lhk65\\anaconda3\\envs\\selenium\\lib\\site-packages\\ipykernel_launcher.py:11: DeprecationWarning: find_element_by_* commands are deprecated. Please use find_element() instead\n",
      "  # This is added back by InteractiveShellApp.init_path()\n"
     ]
    },
    {
     "data": {
      "text/plain": [
       "0"
      ]
     },
     "execution_count": 17,
     "metadata": {},
     "output_type": "execute_result"
    }
   ],
   "source": [
    "from selenium import webdriver\n",
    "from selenium.webdriver import ActionChains\n",
    "import time\n",
    "browser = webdriver.Chrome()\n",
    "url = \"https://new.land.naver.com/complexes?ms=37.3525,126.7279,16&a=APT:ABYG:JGC&e=RETAIL\"\n",
    "browser.get(url)\n",
    "html = browser.page_source\n",
    "soup = BeautifulSoup(html, 'html.parser')\n",
    "time.sleep(3)\n",
    "\n",
    "browser.find_element_by_xpath('//*[@id=\"region_filter\"]/div/a/span[4]').click()\n",
    "time.sleep(1)\n",
    "complex_items = soup.select('a.complex_item_inner')\n",
    "len(complex_items)"
   ]
  },
  {
   "cell_type": "code",
   "execution_count": null,
   "id": "6ab1408a",
   "metadata": {},
   "outputs": [],
   "source": []
  },
  {
   "cell_type": "code",
   "execution_count": null,
   "id": "474420fd",
   "metadata": {},
   "outputs": [],
   "source": []
  },
  {
   "cell_type": "code",
   "execution_count": null,
   "id": "6ad50f8d",
   "metadata": {},
   "outputs": [],
   "source": []
  },
  {
   "cell_type": "code",
   "execution_count": 17,
   "id": "02c19c6c",
   "metadata": {},
   "outputs": [
    {
     "name": "stdout",
     "output_type": "stream",
     "text": [
      "문영센스빌 103동\n"
     ]
    },
    {
     "name": "stderr",
     "output_type": "stream",
     "text": [
      "C:\\Users\\lhk65\\anaconda3\\envs\\selenium\\lib\\site-packages\\ipykernel_launcher.py:7: DeprecationWarning: find_element_by_* commands are deprecated. Please use find_element() instead\n",
      "  import sys\n"
     ]
    }
   ],
   "source": [
    "from selenium import webdriver\n",
    "from selenium.webdriver import ActionChains\n",
    "from bs4 import BeautifulSoup\n",
    "import pandas as pd\n",
    "browser = webdriver.Chrome()\n",
    "browser.get(\"https://new.land.naver.com/complexes/9415?ms=37.363403,126.7291335,17&a=APT:ABYG:JGC&e=RETAIL&articleNo=2200277382\")\n",
    "apt_name = browser.find_element_by_css_selector(\"div.detail_fixed > div.main_info_area > div.info_title_wrap > h4 > strong\").text\n",
    "print(apt_name)\n",
    "\n"
   ]
  },
  {
   "cell_type": "code",
   "execution_count": null,
   "id": "cf2669b5",
   "metadata": {},
   "outputs": [],
   "source": [
    "from pandas import Series, DataFrame\n",
    "import pandas as pd\n",
    "columns = ['이름', '구분', '가격', '방향', '관리비', '매물특징', '평수', '층수', '학교명', '학교까지 거리']\n",
    "pd_data = pd.DataFrame(apt_data, columns = columns)\n",
    "display(pd_data)\n",
    "pd_data.to_excel('mange1.xlsx')\n",
    "\n"
   ]
  },
  {
   "cell_type": "code",
   "execution_count": null,
   "id": "32ac784b",
   "metadata": {},
   "outputs": [],
   "source": [
    "#액셀 불러오기\n",
    "import pandas as pd\n",
    "df = pd.read_excel(\"mange1.xlsx\")\n",
    "df"
   ]
  },
  {
   "cell_type": "code",
   "execution_count": null,
   "id": "8d1f8068",
   "metadata": {},
   "outputs": [],
   "source": [
    "#액셀의 특정열 리스트로 변환하기(이름, 관리비)\n",
    "from openpyxl import load_workbook\n",
    "\n",
    "\n",
    "read_xlsx = load_workbook('mange1.xlsx')\n",
    "read_sheet = read_xlsx.active\n",
    "\n",
    "\n",
    "name_col = read_sheet['F']\n",
    "names = []\n",
    "for cell in name_col:\n",
    "    names.append(cell.value)\n",
    "print(names)\n",
    "\n",
    "name_name = read_sheet['B']\n",
    "realNames = []\n",
    "for cell2 in name_name:\n",
    "    realNames.append(cell2.value)\n",
    "print(realNames)\n"
   ]
  },
  {
   "cell_type": "code",
   "execution_count": null,
   "id": "e7c21596",
   "metadata": {},
   "outputs": [],
   "source": [
    "#이름과 관리비 리스트에서 필요없는 부분 제거\n",
    "names.remove('관리비')\n",
    "print(names)\n",
    "realNames.remove('이름')\n",
    "print(realNames)\n"
   ]
  },
  {
   "cell_type": "code",
   "execution_count": null,
   "id": "f20fde4d",
   "metadata": {},
   "outputs": [],
   "source": [
    "#관리비 리스트에서 뒤에 만원 글자 제거\n",
    "search = '만원'\n",
    "for i, word in enumerate(names):\n",
    "    if search in word: \n",
    "        print('>> modify: ' + word)\n",
    "        names[i] = word.strip(search)\n",
    "print(names)"
   ]
  },
  {
   "cell_type": "code",
   "execution_count": null,
   "id": "61deeffd",
   "metadata": {},
   "outputs": [],
   "source": [
    "#관리비 리스트에서 문자열을 float형으로 변환\n",
    "#만약 관리비 리스트에 float값으로 변환할 수 없는 값이 포함되 있다면 에러 표시\n",
    "try:\n",
    "    mange_int = list(map(float, names))\n",
    "    print(mange_int)\n",
    "except:\n",
    "    print(\"float값이 아닌값 포함\")"
   ]
  },
  {
   "cell_type": "code",
   "execution_count": null,
   "id": "ba7ebf96",
   "metadata": {},
   "outputs": [],
   "source": [
    "#이름 리스트 출력\n",
    "realNames"
   ]
  },
  {
   "cell_type": "code",
   "execution_count": null,
   "id": "0dfde2b1",
   "metadata": {},
   "outputs": [],
   "source": [
    "#관리비 리스트 출력\n",
    "mange_int"
   ]
  },
  {
   "cell_type": "code",
   "execution_count": null,
   "id": "6b6593d1",
   "metadata": {},
   "outputs": [],
   "source": [
    "#막대그래프 그려보기\n",
    "from matplotlib import pyplot as plt\n",
    "\n",
    "plt.bar(range(len(mange_int)), mange_int)\n",
    "\n",
    "plt.show()"
   ]
  },
  {
   "cell_type": "code",
   "execution_count": null,
   "id": "20bf21c0",
   "metadata": {},
   "outputs": [],
   "source": [
    "#x축에 이름 추가\n",
    "plt.bar(sorted(realNames), mange_int)\n",
    "plt.show()"
   ]
  },
  {
   "cell_type": "code",
   "execution_count": null,
   "id": "4522c8cf",
   "metadata": {},
   "outputs": [],
   "source": [
    "#x축 한글 깨짐 처리하기\n",
    "import pandas as pd\n",
    "#matplotlib 패키지 한글 깨짐 처리 시작\n",
    "import matplotlib.pyplot as plt\n",
    "import platform\n",
    "if platform.system() == 'Darwin': #맥\n",
    "        plt.rc('font', family='AppleGothic') \n",
    "elif platform.system() == 'Windows': #윈도우\n",
    "        plt.rc('font', family='Malgun Gothic')\n",
    "elif platform.system() == 'Linux': #리눅스 (구글 콜랩)\n",
    "        #!wget \"https://www.wfonts.com/download/data/2016/06/13/malgun-gothic/malgun.ttf\"\n",
    "        #!mv malgun.ttf /usr/share/fonts/truetype/\n",
    "        #import matplotlib.font_manager as fm \n",
    "        #fm._rebuild() \n",
    "        plt.rc('font', family='Malgun Gothic') \n",
    "plt.rcParams['axes.unicode_minus'] = False"
   ]
  },
  {
   "cell_type": "code",
   "execution_count": null,
   "id": "0c31b9df",
   "metadata": {},
   "outputs": [],
   "source": [
    "from matplotlib import pyplot as plt\n",
    "import seaborn as sns\n",
    "plt.xlabel(\"아파트 이름\")\n",
    "plt.ylabel(\"관리비\")\n",
    "plt.title(\"아파트 관리비 시각화 (단위:만원)\")\n",
    "plt.plot(realNames, mange_int, marker='o', color='violet')\n",
    "\n",
    "plt.show()"
   ]
  },
  {
   "cell_type": "code",
   "execution_count": null,
   "id": "7f05f0ea",
   "metadata": {},
   "outputs": [],
   "source": [
    "pip install seaborn"
   ]
  },
  {
   "cell_type": "code",
   "execution_count": null,
   "id": "0df24474",
   "metadata": {},
   "outputs": [],
   "source": [
    "fig = plt.figure(figsize=(15,15)) ## Figure 생성 \n",
    "fig.set_facecolor('white') ## Figure 배경색 지정\n",
    " \n",
    "colors = sns.color_palette('summer', len(realNames)) ## 바 차트 색상\n",
    " \n",
    "xtick_label_position = list(range(len(realNames))) ## x축 눈금 라벨이 표시될 x좌표\n",
    "plt.xticks(xtick_label_position, realNames) ## x축 눈금 라벨 출력\n",
    " \n",
    "plt.bar(xtick_label_position, mange_int, color=colors, width=0.5) ## 바차트 출력\n",
    "\n",
    "plt.plot(xtick_label_position, mange_int, color='b', linestyle='-', marker='o') ## 선 그래프 출력\n",
    "\n",
    "plt.xlabel(\"아파트 이름\")\n",
    "plt.ylabel(\"관리비(만원)\")\n",
    "plt.title('아파트 관리비', fontsize=20)\n",
    "plt.show()"
   ]
  },
  {
   "cell_type": "code",
   "execution_count": null,
   "id": "01db44ad",
   "metadata": {},
   "outputs": [],
   "source": [
    "#시각화 최종(막대+꺽은선)\n",
    "fig = plt.figure(figsize=(15, 15)) ## Figure 생성 \n",
    "fig.set_facecolor('white') ## Figure 배경색 지정\n",
    "\n",
    "\n",
    "plt.xlabel(\"아파트 이름\", fontsize=15)\n",
    "plt.xticks(rotation=45)\n",
    "plt.ylabel(\"관리비(만원)\", fontsize=15)\n",
    "plt.title(\"아파트 관리비\", fontsize=30)\n",
    "bar = plt.bar(sorted(realNames), mange_int, width=0.5, color='orange') #x축:realNames y축:mange_int\n",
    "for i, v in enumerate(realNames):\n",
    "    plt.text(v, mange_int[i], str(mange_int[i]),\n",
    "             fontsize=20,\n",
    "             color=\"black\",\n",
    "             horizontalalignment='center',\n",
    "             verticalalignment='bottom')\n",
    "plt.plot(xtick_label_position, mange_int, color='r', linestyle='-', marker='o')\n",
    "\n",
    "plt.show()"
   ]
  },
  {
   "cell_type": "code",
   "execution_count": null,
   "id": "185caa28",
   "metadata": {},
   "outputs": [],
   "source": [
    "from selenium import webdriver\n",
    "from selenium.webdriver import ActionChains\n",
    "from bs4 import BeautifulSoup\n",
    "import pandas as pd\n",
    "import time\n",
    "browser = webdriver.Chrome()\n",
    "browser.get(\"https://new.land.naver.com/complexes/1891?ms=37.338414,126.7406355,17&a=APT:ABYG:JGC&e=RETAIL&articleNo=2201381771\")\n",
    "browser.find_element_by_css_selector(\"div.item_inner\").click()\n",
    "time.sleep(3)\n",
    "browser.find_element_by_xpath('/html/body/div[2]/div/section/div[2]/div[2]/div/div[2]/div[1]/div[2]/div/a[4]').click()\n",
    "time.sleep(3)\n",
    "school_name_path = '//*[@id=\"detailContents5\"]/div/div[1]/div[1]/h5'\n",
    "school_name = browser.find_element_by_xpath(school_name_path)\n",
    "school = school_name.text\n",
    "school_distance_path = '//*[@id=\"detailContents5\"]/div/div[1]/div[2]/div[2]/div[2]'\n",
    "school_distance = browser.find_element_by_xpath(school_distance_path)\n",
    "distance = school_distance.text\n",
    "print(school)\n",
    "print(\"단지에서 학교까지\", distance)"
   ]
  },
  {
   "cell_type": "code",
   "execution_count": null,
   "id": "1a446547",
   "metadata": {},
   "outputs": [],
   "source": []
  }
 ],
 "metadata": {
  "kernelspec": {
   "display_name": "sel_ker",
   "language": "python",
   "name": "selenium"
  },
  "language_info": {
   "codemirror_mode": {
    "name": "ipython",
    "version": 3
   },
   "file_extension": ".py",
   "mimetype": "text/x-python",
   "name": "python",
   "nbconvert_exporter": "python",
   "pygments_lexer": "ipython3",
   "version": "3.7.11"
  }
 },
 "nbformat": 4,
 "nbformat_minor": 5
}
