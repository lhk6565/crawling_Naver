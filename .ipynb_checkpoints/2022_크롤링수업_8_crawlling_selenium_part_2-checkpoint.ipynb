{
 "cells": [
  {
   "cell_type": "markdown",
   "metadata": {},
   "source": [
    "## 크롤링 절차 Recap"
   ]
  },
  {
   "cell_type": "code",
   "execution_count": 75,
   "metadata": {
    "scrolled": true
   },
   "outputs": [
    {
     "name": "stderr",
     "output_type": "stream",
     "text": [
      "C:\\Users\\user\\anaconda3\\envs\\selenium\\lib\\site-packages\\ipykernel_launcher.py:6: DeprecationWarning: find_elements_by_* commands are deprecated. Please use find_elements() instead\n",
      "  \n",
      "C:\\Users\\user\\anaconda3\\envs\\selenium\\lib\\site-packages\\selenium\\webdriver\\remote\\webelement.py:484: UserWarning: find_element_by_* commands are deprecated. Please use find_element() instead\n",
      "  warnings.warn(\"find_element_by_* commands are deprecated. Please use find_element() instead\")\n"
     ]
    },
    {
     "name": "stdout",
     "output_type": "stream",
     "text": [
      "72 \t 이민즈이 \t 통영 힐링 데이트코스로 제격인 곳 수륙해수욕장\n",
      "14 \t YOU B \t 경주 카페 아덴\n",
      "36 \t 린짱 \t 설선물세트 추천 한율 빨간쌀 진액 2종 세트 호랑이 민화 에디션\n",
      "16 \t 보라앙마 \t 제주도 2박 3일 여행 다녀왔어요\n",
      "27 \t 밍만두 \t 일상이야기\n",
      "12 \t happy writer \t 안동 월영교-원이엄마 편지, 헛제사밥\n",
      "11 \t 메리웡 \t 에릭칼 From Head to Toe, 몸이 저절로 들썩거리는 픽토리 영어그림책 추천\n",
      "26 \t 라온 \t 마쥬 코트 여성의류브랜드 MAJE 너무 예쁜 제품 착용 및 리뷰\n",
      "17 \t 싱글벙글 \t 양평 데이트 일출 명소 두물머리 코스\n",
      "11 \t 친절한뚫어맨 \t 청주하수구 금천동 주택 청주배관막힘\n"
     ]
    }
   ],
   "source": [
    "from selenium import webdriver\n",
    "import time\n",
    "browser = webdriver.Chrome()\n",
    "browser.get(\"https://blog.naver.com\")\n",
    "time.sleep(1)\n",
    "boxes = browser.find_elements_by_css_selector(\".info_post\")\n",
    "for box in boxes:\n",
    "    item1 = box.find_element_by_css_selector(\"em.name_author\").text\n",
    "    item2 = box.find_element_by_css_selector(\"a strong\").text\n",
    "    item3 = box.find_element_by_css_selector(\".like em\").text\n",
    "    print(item3, \"\\t\", item1, \"\\t\", item2)\n"
   ]
  },
  {
   "cell_type": "code",
   "execution_count": 76,
   "metadata": {},
   "outputs": [
    {
     "name": "stderr",
     "output_type": "stream",
     "text": [
      "C:\\Users\\user\\anaconda3\\envs\\selenium\\lib\\site-packages\\ipykernel_launcher.py:6: DeprecationWarning: find_elements_by_* commands are deprecated. Please use find_elements() instead\n",
      "  \n"
     ]
    },
    {
     "data": {
      "text/plain": [
       "10"
      ]
     },
     "execution_count": 76,
     "metadata": {},
     "output_type": "execute_result"
    }
   ],
   "source": [
    "from selenium import webdriver\n",
    "import time\n",
    "browser = webdriver.Chrome()\n",
    "browser.get(\"https://blog.naver.com\")\n",
    "time.sleep(3)\n",
    "boxes = browser.find_elements_by_css_selector(\".info_post\")\n",
    "\n",
    "len(boxes)"
   ]
  },
  {
   "cell_type": "code",
   "execution_count": 77,
   "metadata": {},
   "outputs": [
    {
     "data": {
      "text/plain": [
       "19"
      ]
     },
     "execution_count": 77,
     "metadata": {},
     "output_type": "execute_result"
    }
   ],
   "source": [
    "from selenium import webdriver\n",
    "import time\n",
    "browser = webdriver.Chrome()\n",
    "browser.get(\"https://blog.naver.com\")\n",
    "time.sleep(3)\n",
    "\n",
    "item2 = box.find_element_by_css_selector(\"a strong\").text\n",
    "\n",
    "len(item2)"
   ]
  },
  {
   "cell_type": "code",
   "execution_count": 78,
   "metadata": {},
   "outputs": [
    {
     "name": "stderr",
     "output_type": "stream",
     "text": [
      "C:\\Users\\user\\anaconda3\\envs\\selenium\\lib\\site-packages\\ipykernel_launcher.py:6: DeprecationWarning: find_elements_by_* commands are deprecated. Please use find_elements() instead\n",
      "  \n"
     ]
    },
    {
     "name": "stdout",
     "output_type": "stream",
     "text": [
      "통영 힐링 데이트코스로 제격인 곳 수륙해수욕장\n",
      "경주 카페 아덴\n",
      "설선물세트 추천 한율 빨간쌀 진액 2종 세트 호랑이 민화 에디션\n",
      "제주도 2박 3일 여행 다녀왔어요\n",
      "일상이야기\n",
      "안동 월영교-원이엄마 편지, 헛제사밥\n",
      "에릭칼 From Head to Toe, 몸이 저절로 들썩거리는 픽토리 영어그림책 추천\n",
      "마쥬 코트 여성의류브랜드 MAJE 너무 예쁜 제품 착용 및 리뷰\n",
      "양평 데이트 일출 명소 두물머리 코스\n",
      "청주하수구 금천동 주택 청주배관막힘\n"
     ]
    }
   ],
   "source": [
    "from selenium import webdriver\n",
    "import time\n",
    "browser = webdriver.Chrome()\n",
    "browser.get(\"https://blog.naver.com\")\n",
    "time.sleep(3)\n",
    "boxes = browser.find_elements_by_css_selector(\".info_post\")\n",
    "for box in boxes:\n",
    "    item2 = box.find_element_by_css_selector(\"a strong\").text\n",
    "    print(item2)"
   ]
  },
  {
   "cell_type": "markdown",
   "metadata": {},
   "source": [
    "### Try-Except-(else)"
   ]
  },
  {
   "cell_type": "code",
   "execution_count": 79,
   "metadata": {
    "scrolled": true
   },
   "outputs": [
    {
     "name": "stderr",
     "output_type": "stream",
     "text": [
      "C:\\Users\\user\\anaconda3\\envs\\selenium\\lib\\site-packages\\ipykernel_launcher.py:9: DeprecationWarning: find_elements_by_* commands are deprecated. Please use find_elements() instead\n",
      "  if __name__ == '__main__':\n"
     ]
    },
    {
     "name": "stdout",
     "output_type": "stream",
     "text": [
      "기계제조공학과 \t MANUFACTURING ENGINEERING \t http://subweb.kpu.ac.kr/machinemanu/index.do\n",
      "기계설계·시스템공학과 \t PRODUCTION AND MECHANICAL DESIGN ENGINEERING \t http://subweb.kpu.ac.kr/machinesys/index.do\n",
      "메카트로닉스시스템공학과 \t MECHATRONICS SYSTEM ENGINEERING \t http://subweb.kpu.ac.kr/controlsys/index.do\n",
      "컴퓨터융합공학과 \t COMPUTER CONVERGENCE \t http://subweb.kpu.ac.kr/comfusion/index.do\n",
      "부품소재공학과 \t MATERIALS AND COMPONENTS ENGINEERING \t http://subweb.kpu.ac.kr/partmaterial/index.do\n",
      "환경안전경영학과 \t DEPARTMENT OF ENVIRONMENT AND SAFETY MANAGEMENT \t http://subweb.kpu.ac.kr/envibiz/index.do\n",
      "화합물반도체공학과 \t MAJOR IN LIGHT EMITTED DIODE ENGINEERING \t http://subweb.kpu.ac.kr/led/index.do\n",
      "기업경영학과 \t COOPERATE MANAGEMENT \t http://subweb.kpu.ac.kr/management/index.do\n",
      "스마트컴퓨터융합공학과 \t SMART COMPUTER CONVERGENCE DEPARTMENT \t http://subweb.kpu.ac.kr/smartcom/index.do\n",
      "skipping this box\n",
      "성공 : 9 실패 : 1\n"
     ]
    }
   ],
   "source": [
    "from selenium import webdriver\n",
    "import time\n",
    "browser = webdriver.Chrome()\n",
    "\n",
    "browser.get(\"http://www.kpu.ac.kr/contents/main/cor/sanhak.html\")\n",
    "\n",
    "time.sleep(1)\n",
    "\n",
    "boxes = browser.find_elements_by_css_selector(\".unit\")\n",
    "numSuccess = 0\n",
    "numFailure = 0\n",
    "for box in boxes:\n",
    "    try:\n",
    "        item1 = box.find_element_by_css_selector(\".ko div\").text\n",
    "        item2 = box.find_element_by_css_selector(\".en div\").text\n",
    "        item3 = box.find_element_by_css_selector(\".homepage\").get_attribute(\"href\")\n",
    "    except:\n",
    "        print(\"skipping this box\")\n",
    "        numFailure += 1\n",
    "    else:        \n",
    "        print(item1, \"\\t\", item2, \"\\t\", item3)\n",
    "        numSuccess += 1\n",
    "print(\"성공 :\", numSuccess, \"실패 :\", numFailure)\n",
    "browser.close()\n"
   ]
  },
  {
   "cell_type": "markdown",
   "metadata": {},
   "source": [
    "### datetime 함수"
   ]
  },
  {
   "cell_type": "code",
   "execution_count": 83,
   "metadata": {
    "scrolled": true
   },
   "outputs": [
    {
     "name": "stdout",
     "output_type": "stream",
     "text": [
      "2022-01-17 09:35:18.120673\n",
      "2022-01-17\n",
      "09:35:18.120673\n"
     ]
    }
   ],
   "source": [
    "from datetime import datetime\n",
    "x = datetime.now()\n",
    "print(x)\n",
    "print(x.date())\n",
    "print(x.time())\n"
   ]
  },
  {
   "cell_type": "code",
   "execution_count": 87,
   "metadata": {
    "scrolled": true
   },
   "outputs": [
    {
     "name": "stdout",
     "output_type": "stream",
     "text": [
      "2020-05-20 00:00:00\n"
     ]
    },
    {
     "data": {
      "text/plain": [
       "datetime.datetime(2020, 5, 20, 0, 0)"
      ]
     },
     "execution_count": 87,
     "metadata": {},
     "output_type": "execute_result"
    }
   ],
   "source": [
    "x = datetime(2020, 5, 20)\n",
    "print(x)\n",
    "x\n"
   ]
  },
  {
   "cell_type": "code",
   "execution_count": 89,
   "metadata": {},
   "outputs": [
    {
     "name": "stdout",
     "output_type": "stream",
     "text": [
      "20.05.2020\n",
      "2020-05-20\n"
     ]
    }
   ],
   "source": [
    "print(x.strftime(\"%d.%m.%Y\"))\n",
    "print(x.strftime(\"%Y-%m-%d\"))\n"
   ]
  },
  {
   "cell_type": "code",
   "execution_count": 90,
   "metadata": {},
   "outputs": [
    {
     "name": "stdout",
     "output_type": "stream",
     "text": [
      "2018-09-19\n"
     ]
    }
   ],
   "source": [
    "str = \"09/19/2018\"\n",
    "date = datetime.strptime(str, \"%m/%d/%Y\")\n",
    "print(date.date())\n"
   ]
  },
  {
   "cell_type": "code",
   "execution_count": 91,
   "metadata": {
    "scrolled": true
   },
   "outputs": [
    {
     "name": "stdout",
     "output_type": "stream",
     "text": [
      "False\n",
      "True\n"
     ]
    }
   ],
   "source": [
    "print(datetime.now() < date)\n",
    "print(datetime.now() > date)\n"
   ]
  },
  {
   "cell_type": "code",
   "execution_count": 93,
   "metadata": {},
   "outputs": [
    {
     "name": "stdout",
     "output_type": "stream",
     "text": [
      "2022-02-02\n",
      "2022-02-03\n",
      "2022-02-04\n",
      "2022-02-05\n",
      "2022-02-06\n"
     ]
    }
   ],
   "source": [
    "from datetime import timedelta\n",
    "date = datetime(2022, 2, 1)\n",
    "for i in range(5):\n",
    "    date += timedelta(days=1)\n",
    "    print(date.date())\n"
   ]
  },
  {
   "cell_type": "markdown",
   "metadata": {},
   "source": [
    "# 데이터 수집 1 – 한 페이지 크롤링"
   ]
  },
  {
   "cell_type": "code",
   "execution_count": null,
   "metadata": {},
   "outputs": [],
   "source": [
    "#! pip install selenium --upgrade"
   ]
  },
  {
   "cell_type": "markdown",
   "metadata": {},
   "source": [
    "### 다나와 검색 웹 페이지에서 상품 정보 가져오기"
   ]
  },
  {
   "cell_type": "code",
   "execution_count": 2,
   "metadata": {},
   "outputs": [],
   "source": [
    "from selenium import webdriver\n",
    "from bs4 import BeautifulSoup\n",
    "driver = webdriver.Chrome()\n",
    "url = \"http://search.danawa.com/dsearch.php?query=무선청소기&tab=main\"\n",
    "driver.get(url)\n",
    "\n",
    "\n",
    "#웹 페이지의 HTML 정보 가져오기\n",
    "html = driver.page_source\n",
    "soup = BeautifulSoup(html, 'html.parser')"
   ]
  },
  {
   "cell_type": "markdown",
   "metadata": {},
   "source": [
    "### Box 갯수 확인"
   ]
  },
  {
   "cell_type": "code",
   "execution_count": 5,
   "metadata": {},
   "outputs": [
    {
     "data": {
      "text/plain": [
       "44"
      ]
     },
     "execution_count": 5,
     "metadata": {},
     "output_type": "execute_result"
    }
   ],
   "source": [
    "from selenium import webdriver\n",
    "import time\n",
    "\n",
    "url = \"http://search.danawa.com/dsearch.php?query=무선청소기&tab=main\"\n",
    "driver.get(url)\n",
    "html = driver.page_source\n",
    "soup = BeautifulSoup(html, 'html.parser')\n",
    "time.sleep(3)\n",
    "#prod_items = soup.select('li.prod_item')\n",
    "#prod_items = soup.select('ul.product_list > li.prod_item')\n",
    "prod_items = soup.select('div.main_prodlist > ul.product_list > li.prod_item')\n",
    "len(prod_items)\n"
   ]
  },
  {
   "cell_type": "code",
   "execution_count": 6,
   "metadata": {
    "scrolled": true
   },
   "outputs": [
    {
     "name": "stdout",
     "output_type": "stream",
     "text": [
      "<li class=\"prod_item\" id=\"productItem13327520\">\n",
      "<input id=\"productItem_categoryInfo_13327520\" type=\"hidden\" value=\"생활가전_청소기\"/>\n",
      "<input id=\"min_price_13327520\" type=\"hidden\" value=\"1055770\"/>\n",
      "<div class=\"prod_main_info\">\n",
      "<div class=\"thumb_image\">\n",
      "<a class=\"thumb_link click_log_product_standard_img_\" href=\"http://prod.danawa.com/info/?pcode=13327520&amp;keyword=%EB%AC%B4%EC%84%A0%EC%B2%AD%EC%86%8C%EA%B8%B0&amp;cate=102207\" id=\"thumbLink_13327520\" onmousedown=\"_trkEventLog('통합검색_상품블로그_유입');\" target=\"_blank\">\n",
      "<img alt=\"코드제로 ThinQ A9S AO9571\" onerror=\"this.onerror=null; this.src='//img.danawa.com/new/noData/img/noImg_160.gif';\" src=\"//img.danawa.com/prod_img/500000/520/327/img/13327520_1.jpg?shrink=130:130&amp;_v=20210406161021\"/>\n",
      "</a>\n",
      "<a class=\"btn_view_zoom\" data-assemblygallerycategory=\"N\" href=\"#\" id=\"imageZoom_13327520\" onclick=\"return false;\">\n",
      "<span class=\"ico i_zoom_vw\"></span>이미지보기\n",
      "\t\t\t\t\t\t</a>\n",
      "<input id=\"hidden_cate_sub_c1\" type=\"hidden\" value=\"72\"/>\n",
      "<input id=\"hidden_cate_sub_c2\" type=\"hidden\" value=\"80\"/>\n",
      "<input id=\"hidden_cate_sub_c3\" type=\"hidden\" value=\"81\"/>\n",
      "<div class=\"img_selector\">\n",
      "<a class=\"sel_item\" href=\"#\" onclick=\"return false;\" title=\"상품 색상\"><span class=\"hide_indent sub_color_w100\" style=\"background-color:#FCE5CD;\">상품 색상</span></a><a class=\"sel_item\" href=\"#\" onclick=\"return false;\" title=\"상품 색상\"><span class=\"hide_indent sub_color_w100\" style=\"background-color:#274E13;\">상품 색상</span></a> </div> </div>\n",
      "<div class=\"prod_info\">\n",
      "<p class=\"prod_name\">\n",
      "<a class=\"click_log_product_standard_title_\" href=\"http://prod.danawa.com/info/?pcode=13327520&amp;keyword=%EB%AC%B4%EC%84%A0%EC%B2%AD%EC%86%8C%EA%B8%B0&amp;cate=102207\" onmousedown=\"_trkEventLog('통합검색_상품블로그_유입'); doCTR('%EB%AC%B4%EC%84%A0%EC%B2%AD%EC%86%8C%EA%B8%B0','13327520',1);\" target=\"_blank\">LG전자 오브제컬렉션 코드제로 ThinQ A9S AO9571</a>\n",
      "</p>\n",
      "<div class=\"prod_intro\">\n",
      "<p class=\"intro_text\">올인원타워로 비움, 충전, 보관을 한번에!</p>\n",
      "</div>\n",
      "<dl class=\"prod_spec_set\">\n",
      "<dt class=\"screen_out\">상세 스펙</dt>\n",
      "<dd>\n",
      "<div class=\"spec_list\"><a class=\"view_dic\" href=\"#\" onclick=\"$.termDicViewLink(8501,'view',this,0,72,80); return false;\">핸디/스틱<b>청소기</b></a> / <a class=\"view_dic\" href=\"#\" onclick=\"$.termDicViewLink(7445,'view',this,0,72,80); return false;\">핸디+스틱형</a> / <a class=\"view_dic\" href=\"#\" onclick=\"$.termDicViewLink(14900,'view',this,0,72,80); return false;\">무선형</a> / <a class=\"view_dic\" href=\"#\" onclick=\"$.termDicViewLink(217536,'view',this,0,72,80); return false;\">흡입+걸레겸용</a> / <a class=\"view_dic\" href=\"#\" onclick=\"$.termDicViewLink(1743,'view',this,0,72,80); return false;\">소비전력</a>: <a class=\"view_dic\" href=\"#\" onclick=\"$.termDicViewLink(1743,'view',this,0,72,80); return false;\">590W</a> / <br/><b>[성능]</b> <a class=\"view_dic\" href=\"#\" onclick=\"$.termDicViewLink(3996,'view',this,0,72,80); return false;\">흡입력</a>: <a class=\"view_dic\" href=\"#\" onclick=\"$.termDicViewLink(3996,'view',this,0,72,80); return false;\">210W</a> / <a class=\"view_dic\" href=\"#\" onclick=\"$.termDicViewLink(213820,'view',this,0,72,80); return false;\">2중터보싸이클론</a> / <a class=\"view_dic\" href=\"#\" onclick=\"$.termDicViewLink(27442,'view',this,0,72,80); return false;\">스마트인버터모터</a> / <br/><b>[배터리]</b> <a class=\"view_dic\" href=\"#\" onclick=\"$.termDicViewLink(14921,'view',this,0,72,80); return false;\">충전시간</a>: <a class=\"view_dic\" href=\"#\" onclick=\"$.termDicViewLink(14921,'view',this,0,72,80); return false;\">4시간</a> / <a class=\"view_dic\" href=\"#\" onclick=\"$.termDicViewLink(8515,'view',this,0,72,80); return false;\">사용시간(개당)</a>: <a class=\"view_dic\" href=\"#\" onclick=\"$.termDicViewLink(8515,'view',this,0,72,80); return false;\">1시간</a> / <a class=\"view_dic\" href=\"#\" onclick=\"$.termDicViewLink(217578,'view',this,0,72,80); return false;\">분리형 (2개)</a> / <a class=\"view_dic\" href=\"#\" onclick=\"$.termDicViewLink(27314,'view',this,0,72,80); return false;\">리튬이온</a> / <br/><b>[필터]</b> <a class=\"view_dic\" href=\"#\" onclick=\"$.termDicViewLink(14801,'view',this,0,72,80); return false;\">분리형배기필터 / 헤파필터</a> / <a class=\"view_dic\" href=\"#\" onclick=\"$.termDicViewLink(14801,'view',this,0,72,80); return false;\">H13급</a> / <a class=\"view_dic\" href=\"#\" onclick=\"$.termDicViewLink(30024,'view',this,0,72,80); return false;\">5단계여과</a> / <br/><b>[기능]</b> <a class=\"view_dic\" href=\"#\" onclick=\"$.termDicViewLink(216261,'view',this,0,72,80); return false;\">자동물공급</a> / <a class=\"view_dic\" href=\"#\" onclick=\"$.termDicViewLink(27321,'view',this,0,72,80); return false;\">배터리잔량표시</a> / <a class=\"view_dic\" href=\"#\" onclick=\"$.termDicViewLink(214680,'view',this,0,72,80); return false;\">IoT기능</a> / <a class=\"view_dic\" href=\"#\" onclick=\"$.termDicViewLink(219165,'view',this,0,72,80); return false;\">자동먼지비움</a> / <br/><b>[구성]</b> <a class=\"view_dic\" href=\"#\" onclick=\"$.termDicViewLink(18333,'view',this,0,72,80); return false;\">바닥</a> / <a class=\"view_dic\" href=\"#\" onclick=\"$.termDicViewLink(9440,'view',this,0,72,80); return false;\">물걸레</a> / <a class=\"view_dic\" href=\"#\" onclick=\"$.termDicViewLink(18453,'view',this,0,72,80); return false;\">침구</a> / <a class=\"view_dic\" href=\"#\" onclick=\"$.termDicViewLink(18442,'view',this,0,72,80); return false;\">솔형</a> / <a class=\"view_dic\" href=\"#\" onclick=\"$.termDicViewLink(18436,'view',this,0,72,80); return false;\">틈새</a> / <a class=\"view_dic\" href=\"#\" onclick=\"$.termDicViewLink(218112,'view',this,0,72,80); return false;\">올인원타워</a> / <br/><b>[부가]</b> <a class=\"view_dic\" href=\"#\" onclick=\"$.termDicViewLink(14771,'view',this,0,72,80); return false;\">색상</a>: <a class=\"view_dic\" href=\"#\" onclick=\"$.termDicViewLink(14771,'view',this,0,72,80); return false;\">카밍베이지</a> / <a class=\"view_dic\" href=\"#\" onclick=\"$.termDicViewLink(27312,'view',this,0,72,80); return false;\">무게</a>: <a class=\"view_dic\" href=\"#\" onclick=\"$.termDicViewLink(27312,'view',this,0,72,80); return false;\">2.6kg</a> / 크기(가로x세로x깊이): 250x1120x260mm\t\t\t\t\t\t\t\t</div>\n",
      "</dd>\n",
      "</dl>\n",
      "<div class=\"relation_goods_unit\" id=\"relation_goods_unit_13327520\"><dl class=\"unit_goods_list\"><dt class=\"title_unit\">관련용품▶</dt><dd class=\"unit_lists\"><a class=\"unit_link view_dic\" data-relationcode=\"5843801\" href=\"#\" onclick=\"return false;\">리튬이온배터리</a><span class=\"ucomma\">,</span><a class=\"unit_link view_dic\" data-relationcode=\"6421059\" href=\"#\" onclick=\"return false;\">바닥브러쉬</a><span class=\"ucomma\">,</span><a class=\"unit_link view_dic\" data-relationcode=\"8944010\" href=\"#\" onclick=\"return false;\">물걸레브러쉬</a><span class=\"ucomma\">,</span><a class=\"unit_link view_dic\" data-relationcode=\"13321037\" href=\"#\" onclick=\"return false;\">펫브러쉬</a><span class=\"ucomma\">,</span><a class=\"unit_link view_dic\" data-relationcode=\"13442471\" href=\"#\" onclick=\"return false;\">침구브러쉬</a><span class=\"ucomma\">,</span><a class=\"unit_link view_dic\" data-relationcode=\"14083475\" href=\"#\" onclick=\"return false;\">올인원타워먼지봉투</a></dd></dl></div>\n",
      "<div class=\"prod_rel_content\">\n",
      "<dl class=\"rel_item rel_event\">\n",
      "<dt>기획전</dt>\n",
      "<dd><a href=\"http://plan.danawa.com/info/?nPlanSeq=4931\" rel=\"noopener\" target=\"_blank\">한눈에 보는\n",
      "LG전자 코드제로 청소기</a></dd>\n",
      "</dl>\n",
      "<dl class=\"rel_item rel_review\">\n",
      "<dt>사용기</dt>\n",
      "<dd><a href=\"http://prod.danawa.com/community/ProdBoardView.php?nSeq=4748086&amp;nBlogCateSeq1=264&amp;prod_c=13327520\" rel=\"noopener\" target=\"_blank\">무선청소기 추천 LG코드제로 A9S 칭찬해요</a></dd>\n",
      "</dl>\n",
      "</div>\n",
      "<div class=\"prod_sub_info\">\n",
      "<div class=\"prod_sub_meta\">\n",
      "<dl class=\"meta_item mt_date\">\n",
      "<dt>등록월</dt>\n",
      "<dd>2021.02.</dd>\n",
      "</dl>\n",
      "<dl class=\"meta_item mt_comment\">\n",
      "<dt><span class=\"dt_behind\">상품의견</span></dt>\n",
      "<dd>\n",
      "<div class=\"cnt_star\">\n",
      "<div class=\"point_type_list\">\n",
      "<div class=\"mask\" style=\"width:94%\">\n",
      "</div>\n",
      "</div>\n",
      "<div class=\"point_num\">\n",
      "<strong>4.7</strong>점\n",
      "\t\t\t\t\t\t\t\t\t\t\t\t\t\t</div>\n",
      "</div>\n",
      "<div class=\"cnt_opinion\">\n",
      "\t\t\t\t\t\t\t\t\t\t\t\t\t\t(<a class=\"click_log_prod_content_count\" href=\"http://prod.danawa.com/info/?pcode=13327520&amp;keyword=%EB%AC%B4%EC%84%A0%EC%B2%AD%EC%86%8C%EA%B8%B0&amp;cate=102207#bookmark_cm_opinion\" onmousedown=\"_trkEventLog('통합검색_상품블로그_유입');\" target=\"_blank\"><strong>1,354</strong></a>건)\n",
      "\t\t\t\t\t\t\t\t\t\t\t\t\t</div>\n",
      "</dd>\n",
      "</dl>\n",
      "<dl class=\"meta_item\">\n",
      "<dt class=\"screen_out\">관심상품</dt>\n",
      "<dd>\n",
      "<a class=\"click_log_wishList\" href=\"#\" onclick=\"javascript:$.danawaAddProductToWishList(this, '13327520', 'search_bundle', '', '', '1055770');return false;\" onmousedown=\"doCTR('%EB%AC%B4%EC%84%A0%EC%B2%AD%EC%86%8C%EA%B8%B0','13327520',4);\" title=\"관심상품에 담기\">관심상품</a>\n",
      "</dd>\n",
      "<input id=\"wishListBundleVal_13327520\" type=\"hidden\" value=\"카밍베이지^13327520**카밍그린^13328039**리퍼/중고^14243627//LG전자 오브제컬렉션 코드제로 ThinQ A9S AO9571//13327520\"/>\n",
      "</dl>\n",
      "</div>\n",
      "<dl class=\"prod_category_location\">\n",
      "<dt class=\"screen_out\">상품분류</dt>\n",
      "<dd>\n",
      "<a href=\"http://prod.danawa.com/list/?cate=102207\" onmousedown=\"doCTR('%EB%AC%B4%EC%84%A0%EC%B2%AD%EC%86%8C%EA%B8%B0','13327520',3);\" target=\"_blank\"><span>생활가전</span> &gt; <span>청소기</span></a> <div class=\"more_cate_layer\" style=\"display: none; z-index: 1;\">\n",
      "<ul class=\"list_category_location\">\n",
      "</ul>\n",
      "</div>\n",
      "</dd>\n",
      "</dl>\n",
      "</div>\n",
      "</div>\n",
      "<div class=\"prod_pricelist\" data-cate=\"72|80|81|0\">\n",
      "<ul>\n",
      "<li class=\"rank_one\" id=\"productInfoDetail_13327520\" style=\"\">\n",
      "<p class=\"chk_sect\">\n",
      "\t\t\t\t\t\t\t\t\t\t665몰\n",
      "\t\t\t\t\t\t\t\t\t\t<label for=\"prodCompareCheck_13327520\">\n",
      "<input id=\"prodCompareCheck_13327520\" type=\"checkbox\"/><strong>상품비교</strong>\n",
      "</label>\n",
      "<input name=\"compareValue\" type=\"hidden\" value=\"13327520\"/>\n",
      "<input name=\"compareRepValue\" type=\"hidden\" value=\"13327520\"/>\n",
      "</p>\n",
      "<p class=\"price_sect\">\n",
      "<a class=\"click_log_product_standard_price_\" href=\"http://prod.danawa.com/info/?pcode=13327520&amp;keyword=%EB%AC%B4%EC%84%A0%EC%B2%AD%EC%86%8C%EA%B8%B0&amp;cate=102207\" onmousedown=\"doCTR('%EB%AC%B4%EC%84%A0%EC%B2%AD%EC%86%8C%EA%B8%B0','13327520',1);\" target=\"_blank\"><strong>1,055,770</strong>원</a>\n",
      "<span class=\"more_btn_wrap\">\n",
      "<button class=\"ico i_more\">가격정보 더보기</button>\n",
      "<span class=\"layer_price_more\" id=\"layer_price_more_13327520\"></span>\n",
      "<span class=\"sep_line\"></span>\n",
      "</span>\n",
      "</p>\n",
      "<p class=\"memory_sect\"><span class=\"rank\">1위</span>\t\t\t\t\t\t\t\t\t\t\t\t\t\t\t\t\t\t\t\t카밍베이지\t\t\t\t\t\t\t\t\t\t\t\t\t\t\t\t\t\t\t\t<a href=\"http://prod.danawa.com/info/?pcode=13327520&amp;keyword=%EB%AC%B4%EC%84%A0%EC%B2%AD%EC%86%8C%EA%B8%B0&amp;cate=102207\" onmousedown=\"doCTR('%EB%AC%B4%EC%84%A0%EC%B2%AD%EC%86%8C%EA%B8%B0','13327520',1);\" target=\"_blank\">\n",
      "</a>\n",
      "</p>\n",
      "</li>\n",
      "<li id=\"productInfoDetail_13328039\" style=\"\">\n",
      "<p class=\"chk_sect\">\n",
      "\t\t\t\t\t\t\t\t\t\t523몰\n",
      "\t\t\t\t\t\t\t\t\t\t<label for=\"prodCompareCheck_13328039\">\n",
      "<input id=\"prodCompareCheck_13328039\" type=\"checkbox\"/><strong>상품비교</strong>\n",
      "</label>\n",
      "<input name=\"compareValue\" type=\"hidden\" value=\"13328039\"/>\n",
      "<input name=\"compareRepValue\" type=\"hidden\" value=\"13327520\"/>\n",
      "</p>\n",
      "<p class=\"price_sect\">\n",
      "<a class=\"click_log_product_standard_price_\" href=\"http://prod.danawa.com/info/?pcode=13328039&amp;keyword=%EB%AC%B4%EC%84%A0%EC%B2%AD%EC%86%8C%EA%B8%B0&amp;cate=102207\" onmousedown=\"doCTR('%EB%AC%B4%EC%84%A0%EC%B2%AD%EC%86%8C%EA%B8%B0','13328039',1);\" target=\"_blank\"><strong>1,070,260</strong>원</a>\n",
      "<span class=\"more_btn_wrap\">\n",
      "<button class=\"ico i_more\">가격정보 더보기</button>\n",
      "<span class=\"layer_price_more\" id=\"layer_price_more_13328039\"></span>\n",
      "<span class=\"sep_line\"></span>\n",
      "</span>\n",
      "</p>\n",
      "<p class=\"memory_sect\"><span class=\"rank\">2위</span>\t\t\t\t\t\t\t\t\t\t\t\t\t\t\t\t\t\t\t\t카밍그린\t\t\t\t\t\t\t\t\t\t\t\t\t\t\t\t\t\t\t\t<a href=\"http://prod.danawa.com/info/?pcode=13328039&amp;keyword=%EB%AC%B4%EC%84%A0%EC%B2%AD%EC%86%8C%EA%B8%B0&amp;cate=102207\" onmousedown=\"doCTR('%EB%AC%B4%EC%84%A0%EC%B2%AD%EC%86%8C%EA%B8%B0','13328039',1);\" target=\"_blank\">\n",
      "</a>\n",
      "</p>\n",
      "</li>\n",
      "<li id=\"productInfoDetail_14243627\" style=\"\">\n",
      "<p class=\"chk_sect\">\n",
      "\t\t\t\t\t\t\t\t\t\t0몰\n",
      "\t\t\t\t\t\t\t\t\t\t<label for=\"prodCompareCheck_14243627\">\n",
      "<input id=\"prodCompareCheck_14243627\" type=\"checkbox\"/><strong>상품비교</strong>\n",
      "</label>\n",
      "<input name=\"compareValue\" type=\"hidden\" value=\"14243627\"/>\n",
      "<input name=\"compareRepValue\" type=\"hidden\" value=\"13327520\"/>\n",
      "</p>\n",
      "<p class=\"price_sect\">\n",
      "<a class=\"click_log_product_standard_price_\" href=\"http://prod.danawa.com/info/?pcode=14243627&amp;keyword=%EB%AC%B4%EC%84%A0%EC%B2%AD%EC%86%8C%EA%B8%B0&amp;cate=102207\" onmousedown=\"doCTR('%EB%AC%B4%EC%84%A0%EC%B2%AD%EC%86%8C%EA%B8%B0','14243627',1);\" target=\"_blank\"><strong class=\"no_sale\">일시품절</strong></a>\n",
      "</p>\n",
      "<p class=\"memory_sect\">\t\t\t\t\t\t\t\t\t\t\t\t\t\t\t\t\t\t\t\t리퍼/중고\t\t\t\t\t\t\t\t\t\t\t\t\t\t\t\t\t\t\t\t<a href=\"http://prod.danawa.com/info/?pcode=14243627&amp;keyword=%EB%AC%B4%EC%84%A0%EC%B2%AD%EC%86%8C%EA%B8%B0&amp;cate=102207\" onmousedown=\"doCTR('%EB%AC%B4%EC%84%A0%EC%B2%AD%EC%86%8C%EA%B8%B0','14243627',1);\" target=\"_blank\">\n",
      "</a>\n",
      "</p>\n",
      "</li>\n",
      "</ul>\n",
      "</div>\n",
      "</div>\n",
      "</li>\n"
     ]
    }
   ],
   "source": [
    "print(prod_items[0])"
   ]
  },
  {
   "cell_type": "code",
   "execution_count": 8,
   "metadata": {
    "scrolled": true
   },
   "outputs": [
    {
     "name": "stdout",
     "output_type": "stream",
     "text": [
      "[<a class=\"click_log_product_standard_title_\" href=\"http://prod.danawa.com/info/?pcode=13327520&amp;keyword=%EB%AC%B4%EC%84%A0%EC%B2%AD%EC%86%8C%EA%B8%B0&amp;cate=102207\" onmousedown=\"_trkEventLog('통합검색_상품블로그_유입'); doCTR('%EB%AC%B4%EC%84%A0%EC%B2%AD%EC%86%8C%EA%B8%B0','13327520',1);\" target=\"_blank\">LG전자 오브제컬렉션 코드제로 ThinQ A9S AO9571</a>]\n",
      "LG전자 오브제컬렉션 코드제로 ThinQ A9S AO9571\n",
      "LG전자 오브제컬렉션 코드제로 ThinQ A9S AO9571\n"
     ]
    }
   ],
   "source": [
    "from selenium import webdriver\n",
    "import time\n",
    "\n",
    "url = \"http://search.danawa.com/dsearch.php?query=무선청소기&tab=main\"\n",
    "driver.get(url)\n",
    "html = driver.page_source\n",
    "soup = BeautifulSoup(html, 'html.parser')\n",
    "time.sleep(3)\n",
    "\n",
    "title = prod_items[0].select('a.click_log_product_standard_title_')\n",
    "print(title)\n",
    "print(title[0].text)\n",
    "print(title[0].text.strip()) #strip()을 통해 혹시 모를 공백 제거"
   ]
  },
  {
   "cell_type": "markdown",
   "metadata": {},
   "source": [
    "##### 애드 스마트 광고 제거하고싶을 경우!"
   ]
  },
  {
   "cell_type": "code",
   "execution_count": 9,
   "metadata": {
    "scrolled": true
   },
   "outputs": [
    {
     "data": {
      "text/plain": [
       "40"
      ]
     },
     "execution_count": 9,
     "metadata": {},
     "output_type": "execute_result"
    }
   ],
   "source": [
    "from selenium import webdriver\n",
    "import time\n",
    "\n",
    "url = \"http://search.danawa.com/dsearch.php?query=무선청소기&tab=main\"\n",
    "driver.get(url)\n",
    "html = driver.page_source\n",
    "soup = BeautifulSoup(html, 'html.parser')\n",
    "time.sleep(3)\n",
    "#prod_items = soup.select('li.prod_item')\n",
    "#prod_items = soup.select('ul.product_list > li.prod_item')\n",
    "title_nu = soup.select('a.click_log_product_standard_title_')\n",
    "len(title_nu)"
   ]
  },
  {
   "cell_type": "markdown",
   "metadata": {},
   "source": [
    "#### 청소기 이름"
   ]
  },
  {
   "cell_type": "code",
   "execution_count": 10,
   "metadata": {
    "scrolled": true
   },
   "outputs": [
    {
     "name": "stdout",
     "output_type": "stream",
     "text": [
      "[<a class=\"click_log_product_standard_title_\" href=\"http://prod.danawa.com/info/?pcode=13327520&amp;keyword=%EB%AC%B4%EC%84%A0%EC%B2%AD%EC%86%8C%EA%B8%B0&amp;cate=102207\" onmousedown=\"_trkEventLog('통합검색_상품블로그_유입'); doCTR('%EB%AC%B4%EC%84%A0%EC%B2%AD%EC%86%8C%EA%B8%B0','13327520',1);\" target=\"_blank\">LG전자 오브제컬렉션 코드제로 ThinQ A9S AO9571</a>]\n",
      "LG전자 오브제컬렉션 코드제로 ThinQ A9S AO9571\n",
      "LG전자 오브제컬렉션 코드제로 ThinQ A9S AO9571\n"
     ]
    }
   ],
   "source": [
    "from selenium import webdriver\n",
    "import time\n",
    "\n",
    "url = \"http://search.danawa.com/dsearch.php?query=무선청소기&tab=main\"\n",
    "driver.get(url)\n",
    "html = driver.page_source\n",
    "soup = BeautifulSoup(html, 'html.parser')\n",
    "time.sleep(3)\n",
    "\n",
    "title = prod_items[0].select('p.prod_name > a')\n",
    "print(title)\n",
    "print(title[0].text)\n",
    "print(title[0].text.strip()) #strip()을 통해 혹시 모를 공백 제거"
   ]
  },
  {
   "cell_type": "markdown",
   "metadata": {},
   "source": [
    "#### 스펙 리스트"
   ]
  },
  {
   "cell_type": "code",
   "execution_count": 12,
   "metadata": {},
   "outputs": [
    {
     "name": "stdout",
     "output_type": "stream",
     "text": [
      "핸디/스틱청소기 / 핸디+스틱형 / 무선형 / 흡입+걸레겸용 / 소비전력: 590W / [성능] 흡입력: 210W / 2중터보싸이클론 / 스마트인버터모터 / [배터리] 충전시간: 4시간 / 사용시간(개당): 1시간 / 분리형 (2개) / 리튬이온 / [필터] 분리형배기필터 / 헤파필터 / H13급 / 5단계여과 / [기능] 자동물공급 / 배터리잔량표시 / IoT기능 / 자동먼지비움 / [구성] 바닥 / 물걸레 / 침구 / 솔형 / 틈새 / 올인원타워 / [부가] 색상: 카밍베이지 / 무게: 2.6kg / 크기(가로x세로x깊이): 250x1120x260mm\n"
     ]
    }
   ],
   "source": [
    "from selenium import webdriver\n",
    "import time\n",
    "\n",
    "url = \"http://search.danawa.com/dsearch.php?query=무선청소기&tab=main\"\n",
    "driver.get(url)\n",
    "html = driver.page_source\n",
    "soup = BeautifulSoup(html, 'html.parser')\n",
    "time.sleep(3)\n",
    "\n",
    "spec_list = prod_items[0].select('div.spec_list')[0].text.strip()\n",
    "print(spec_list)"
   ]
  },
  {
   "cell_type": "markdown",
   "metadata": {},
   "source": [
    "#### 가격 정보"
   ]
  },
  {
   "cell_type": "code",
   "execution_count": 17,
   "metadata": {},
   "outputs": [
    {
     "name": "stdout",
     "output_type": "stream",
     "text": [
      "1,055,770\n",
      "1055770\n"
     ]
    }
   ],
   "source": [
    "from selenium import webdriver\n",
    "import time\n",
    "\n",
    "url = \"http://search.danawa.com/dsearch.php?query=무선청소기&tab=main\"\n",
    "driver.get(url)\n",
    "html = driver.page_source\n",
    "soup = BeautifulSoup(html, 'html.parser')\n",
    "time.sleep(3)\n",
    "\n",
    "price = prod_items[0].select('li.rank_one > p.price_sect > a > strong')[0].text.strip()\n",
    "print(price)\n",
    "print(price.replace(\",\", \"\")) #천단위 구분 기호로 들어가는 콤마 제거 "
   ]
  },
  {
   "cell_type": "markdown",
   "metadata": {},
   "source": [
    "### 함수화"
   ]
  },
  {
   "cell_type": "code",
   "execution_count": 21,
   "metadata": {},
   "outputs": [],
   "source": [
    "# 상품 정보 태그에서 원하는 정보를 추출하는 함수\n",
    "def get_prod_items(prod_items):\n",
    "    prod_data = []\n",
    "    \n",
    "    for prod_item in prod_items:\n",
    "        # ① 상품명 가져오기\n",
    "        try:\n",
    "            title = prod_item.select('p.prod_name > a')[0].text.strip()\n",
    "        except:\n",
    "            title = ''\n",
    "        # ② 스펙 목록 가져오기\n",
    "        try: \n",
    "            spec_list = prod_item.select('div.spec_list')[0].text.strip()\n",
    "        except:\n",
    "            spec_list = ''\n",
    "        # ③ 가격 정보 가져오기 \n",
    "        try: \n",
    "            price = int(prod_item.select('li.rank_one > p.price_sect > a > strong')[0].text.strip().replace(\",\",\"\")) #수치형자료로 바꿈\n",
    "        except:\n",
    "            price = 0\n",
    "        prod_data.append([title, spec_list, price])\n",
    "        \n",
    "    return prod_data"
   ]
  },
  {
   "cell_type": "code",
   "execution_count": 22,
   "metadata": {},
   "outputs": [
    {
     "name": "stdout",
     "output_type": "stream",
     "text": [
      "44\n"
     ]
    }
   ],
   "source": [
    "# 예제 7-11 상품 정보를 가져오는 함수 테스트\n",
    "prod_items = soup.select('div.main_prodlist > ul.product_list > li.prod_item')\n",
    "prod_data = get_prod_items(prod_items)\n",
    "print(len(prod_data))"
   ]
  },
  {
   "cell_type": "markdown",
   "metadata": {},
   "source": [
    "#  데이터 수집 2 - 여러 페이지에 걸친 다나와 검색 페이지 크롤링"
   ]
  },
  {
   "cell_type": "markdown",
   "metadata": {},
   "source": [
    "### 다나와 검색 결과 페이지 URL 분석"
   ]
  },
  {
   "cell_type": "code",
   "execution_count": 23,
   "metadata": {},
   "outputs": [
    {
     "name": "stdout",
     "output_type": "stream",
     "text": [
      "http://search.danawa.com/dsearch.php?query=무선청소기&volumeType=allvs&page=1&limit=30&sort=saveDESC&list=list&boost=true&addDelivery=N&tab=goods&tab=goods\n"
     ]
    }
   ],
   "source": [
    "# 예제 7-12 다나와 검색 URL을 만들어주는 함수 \n",
    "def get_search_page_url(keyword, page):\n",
    "    return 'http://search.danawa.com/dsearch.php?query={}&volumeType=allvs&page={}&limit=30&sort=saveDESC&list=list&boost=true&addDelivery=N&tab=goods&tab=goods'.format(keyword, page)\n",
    "\n",
    "keyword = '무선청소기'\n",
    "page = 1\n",
    "url = get_search_page_url(keyword, page)\n",
    "print(url)\n"
   ]
  },
  {
   "cell_type": "markdown",
   "metadata": {},
   "source": [
    "### 주피터 노트북의 진행표시줄 처리 "
   ]
  },
  {
   "cell_type": "code",
   "execution_count": 24,
   "metadata": {},
   "outputs": [
    {
     "name": "stdout",
     "output_type": "stream",
     "text": [
      "Requirement already satisfied: tqdm in c:\\users\\user\\anaconda3\\envs\\selenium\\lib\\site-packages (4.62.3)\n",
      "Requirement already satisfied: colorama in c:\\users\\user\\anaconda3\\envs\\selenium\\lib\\site-packages (from tqdm) (0.4.4)\n"
     ]
    }
   ],
   "source": [
    "# 예제 7-13 tqdm 라이브러리 설치 \n",
    "! pip install tqdm"
   ]
  },
  {
   "cell_type": "code",
   "execution_count": 25,
   "metadata": {
    "scrolled": true
   },
   "outputs": [
    {
     "name": "stderr",
     "output_type": "stream",
     "text": [
      "C:\\Users\\user\\anaconda3\\envs\\selenium\\lib\\site-packages\\ipykernel_launcher.py:5: TqdmDeprecationWarning: This function will be removed in tqdm==5.0.0\n",
      "Please use `tqdm.notebook.tqdm` instead of `tqdm.tqdm_notebook`\n",
      "  \"\"\"\n"
     ]
    },
    {
     "data": {
      "application/vnd.jupyter.widget-view+json": {
       "model_id": "af9a00e09f2f4d529ce300ebdb894f42",
       "version_major": 2,
       "version_minor": 0
      },
      "text/plain": [
       "  0%|          | 0/2 [00:00<?, ?it/s]"
      ]
     },
     "metadata": {},
     "output_type": "display_data"
    }
   ],
   "source": [
    "# 예제 7-14 tqdm 사용법 \n",
    "import time\n",
    "from tqdm import tqdm_notebook\n",
    "total_page = 2\n",
    "for page in tqdm_notebook(range(1, total_page + 1)):\n",
    "    # 페이지가 로딩 완료되기 위한 시간을 5초로 준다. \n",
    "    time.sleep(5)"
   ]
  },
  {
   "cell_type": "markdown",
   "metadata": {},
   "source": [
    "### 여러 페이지에 걸친 상품 정보 수집"
   ]
  },
  {
   "cell_type": "code",
   "execution_count": 26,
   "metadata": {},
   "outputs": [
    {
     "name": "stderr",
     "output_type": "stream",
     "text": [
      "C:\\Users\\user\\anaconda3\\envs\\selenium\\lib\\site-packages\\ipykernel_launcher.py:16: TqdmDeprecationWarning: This function will be removed in tqdm==5.0.0\n",
      "Please use `tqdm.notebook.tqdm` instead of `tqdm.tqdm_notebook`\n",
      "  app.launch_new_instance()\n"
     ]
    },
    {
     "data": {
      "application/vnd.jupyter.widget-view+json": {
       "model_id": "02207a0feebf4bfba57e95847f05fe90",
       "version_major": 2,
       "version_minor": 0
      },
      "text/plain": [
       "  0%|          | 0/4 [00:00<?, ?it/s]"
      ]
     },
     "metadata": {},
     "output_type": "display_data"
    }
   ],
   "source": [
    "# 예제 7-15 실전 다나와 크롤링\n",
    "from selenium import webdriver\n",
    "import time\n",
    "from bs4 import BeautifulSoup\n",
    "from tqdm import tqdm_notebook\n",
    "\n",
    "driver = webdriver.Chrome()\n",
    "\n",
    "# 암묵적으로 웹 자원 로드를 위해 3초까지 기다림\n",
    "driver.implicitly_wait(3)\n",
    "\n",
    "keyword = '무선청소기'\n",
    "total_page = 4\n",
    "prod_data_total = []\n",
    "# 진행 정도를 표현하는 tqdm을 적용 \n",
    "for page in tqdm_notebook(range(1, total_page + 1)):\n",
    "    # ① 검색 페이지 이동\n",
    "    url = get_search_page_url(keyword, page)\n",
    "    driver.get(url)\n",
    "    # 페이지가 로딩 완료되기 위한 시간으로 5초를 할당\n",
    "    time.sleep(5)\n",
    "    \n",
    "    # ② 현재 페이지의 HTML 정보 가져오기\n",
    "    html = driver.page_source\n",
    "    soup = BeautifulSoup(html, 'html.parser')\n",
    "    \n",
    "    # ③ 상품 정보 추출\n",
    "    prod_items = soup.select('div#productListArea > div.main_prodlist > ul.product_list > li.prod_item')\n",
    "    prod_item_list = get_prod_items(prod_items)\n",
    "    \n",
    "    # ④ 추출 데이터 저장\n",
    "    prod_data_total = prod_data_total + prod_item_list\n"
   ]
  },
  {
   "cell_type": "markdown",
   "metadata": {},
   "source": [
    "### 수집 데이터 저장 "
   ]
  },
  {
   "cell_type": "code",
   "execution_count": 27,
   "metadata": {},
   "outputs": [],
   "source": [
    "#! pip install openpyxl"
   ]
  },
  {
   "cell_type": "code",
   "execution_count": 29,
   "metadata": {},
   "outputs": [],
   "source": [
    "# 예제 7-16 데이터 저장\n",
    "import pandas as pd\n",
    "data = pd.DataFrame(prod_data_total)\n",
    "data.columns = ['상품명', '스펙 목록', '가격']\n",
    "data.to_excel('./danawa_crawling_result_2022_1.xlsx', index = False)"
   ]
  },
  {
   "cell_type": "code",
   "execution_count": 30,
   "metadata": {},
   "outputs": [
    {
     "data": {
      "text/html": [
       "<div>\n",
       "<style scoped>\n",
       "    .dataframe tbody tr th:only-of-type {\n",
       "        vertical-align: middle;\n",
       "    }\n",
       "\n",
       "    .dataframe tbody tr th {\n",
       "        vertical-align: top;\n",
       "    }\n",
       "\n",
       "    .dataframe thead th {\n",
       "        text-align: right;\n",
       "    }\n",
       "</style>\n",
       "<table border=\"1\" class=\"dataframe\">\n",
       "  <thead>\n",
       "    <tr style=\"text-align: right;\">\n",
       "      <th></th>\n",
       "      <th>상품명</th>\n",
       "      <th>스펙 목록</th>\n",
       "      <th>가격</th>\n",
       "    </tr>\n",
       "  </thead>\n",
       "  <tbody>\n",
       "    <tr>\n",
       "      <th>0</th>\n",
       "      <td>LG전자 오브제컬렉션 코드제로 ThinQ A9S AO9571</td>\n",
       "      <td>핸디/스틱청소기 / 핸디+스틱형 / 무선형 / 흡입+걸레겸용 / 소비전력: 590W...</td>\n",
       "      <td>1055760</td>\n",
       "    </tr>\n",
       "    <tr>\n",
       "      <th>1</th>\n",
       "      <td>삼성전자 비스포크 제트 VS20A956A3</td>\n",
       "      <td>핸디/스틱청소기 / 핸디+스틱형 / 무선형 / 흡입+걸레겸용 / [성능] 흡입력: ...</td>\n",
       "      <td>587830</td>\n",
       "    </tr>\n",
       "    <tr>\n",
       "      <th>2</th>\n",
       "      <td>LG전자 코드제로 ThinQ A9S AS9370IKT</td>\n",
       "      <td>핸디/스틱청소기 / 핸디+스틱형 / 무선형 / 흡입+걸레겸용 / 소비전력: 590W...</td>\n",
       "      <td>814610</td>\n",
       "    </tr>\n",
       "    <tr>\n",
       "      <th>3</th>\n",
       "      <td>샤오미 CLEANFLY 차량용 무선 청소기 4세대 H2 (해외구매)</td>\n",
       "      <td>차량용청소기 / 무선 / 흡입력: 16,800Pa / 최대출력: 120W / 헤파필...</td>\n",
       "      <td>60590</td>\n",
       "    </tr>\n",
       "    <tr>\n",
       "      <th>4</th>\n",
       "      <td>샤오미 TROUVER POWER 11</td>\n",
       "      <td>핸디/스틱청소기 / 핸디+스틱형 / 무선형 / 흡입전용 / 소비전력: 400W / ...</td>\n",
       "      <td>73950</td>\n",
       "    </tr>\n",
       "    <tr>\n",
       "      <th>...</th>\n",
       "      <td>...</td>\n",
       "      <td>...</td>\n",
       "      <td>...</td>\n",
       "    </tr>\n",
       "    <tr>\n",
       "      <th>171</th>\n",
       "      <td>DIBEA D18</td>\n",
       "      <td>핸디/스틱청소기 / 핸디+스틱형 / 무선형 / 소비전력: 120W / [성능] 흡입...</td>\n",
       "      <td>83160</td>\n",
       "    </tr>\n",
       "    <tr>\n",
       "      <th>172</th>\n",
       "      <td>로엘 듀스핀2</td>\n",
       "      <td>물걸레청소기 / 스틱형 / 회전식 / 무선형 / 배터리: 리튬이온 / 충전시간: 3...</td>\n",
       "      <td>62950</td>\n",
       "    </tr>\n",
       "    <tr>\n",
       "      <th>173</th>\n",
       "      <td>블랙파인 VC-P9</td>\n",
       "      <td>물걸레청소기 / 스틱+핸디형 / 물걸레전용 / 회전식 / 무선형 / 충전시간: 5시...</td>\n",
       "      <td>278000</td>\n",
       "    </tr>\n",
       "    <tr>\n",
       "      <th>174</th>\n",
       "      <td>삼성전자 비스포크 제트 VS20A957G3P</td>\n",
       "      <td>핸디/스틱청소기 / 핸디+스틱형 / 무선형 / 흡입+걸레겸용 / [성능] 흡입력: ...</td>\n",
       "      <td>1697300</td>\n",
       "    </tr>\n",
       "    <tr>\n",
       "      <th>175</th>\n",
       "      <td>오토모 AVC-OTOA2</td>\n",
       "      <td>핸디/스틱청소기 / 핸디+스틱형 / 무선형 / 흡입전용 / 소비전력: 200W / ...</td>\n",
       "      <td>590000</td>\n",
       "    </tr>\n",
       "  </tbody>\n",
       "</table>\n",
       "<p>176 rows × 3 columns</p>\n",
       "</div>"
      ],
      "text/plain": [
       "                                       상품명  \\\n",
       "0        LG전자 오브제컬렉션 코드제로 ThinQ A9S AO9571   \n",
       "1                  삼성전자 비스포크 제트 VS20A956A3   \n",
       "2            LG전자 코드제로 ThinQ A9S AS9370IKT   \n",
       "3    샤오미 CLEANFLY 차량용 무선 청소기 4세대 H2 (해외구매)   \n",
       "4                     샤오미 TROUVER POWER 11   \n",
       "..                                     ...   \n",
       "171                              DIBEA D18   \n",
       "172                                로엘 듀스핀2   \n",
       "173                             블랙파인 VC-P9   \n",
       "174               삼성전자 비스포크 제트 VS20A957G3P   \n",
       "175                          오토모 AVC-OTOA2   \n",
       "\n",
       "                                                 스펙 목록       가격  \n",
       "0    핸디/스틱청소기 / 핸디+스틱형 / 무선형 / 흡입+걸레겸용 / 소비전력: 590W...  1055760  \n",
       "1    핸디/스틱청소기 / 핸디+스틱형 / 무선형 / 흡입+걸레겸용 / [성능] 흡입력: ...   587830  \n",
       "2    핸디/스틱청소기 / 핸디+스틱형 / 무선형 / 흡입+걸레겸용 / 소비전력: 590W...   814610  \n",
       "3    차량용청소기 / 무선 / 흡입력: 16,800Pa / 최대출력: 120W / 헤파필...    60590  \n",
       "4    핸디/스틱청소기 / 핸디+스틱형 / 무선형 / 흡입전용 / 소비전력: 400W / ...    73950  \n",
       "..                                                 ...      ...  \n",
       "171  핸디/스틱청소기 / 핸디+스틱형 / 무선형 / 소비전력: 120W / [성능] 흡입...    83160  \n",
       "172  물걸레청소기 / 스틱형 / 회전식 / 무선형 / 배터리: 리튬이온 / 충전시간: 3...    62950  \n",
       "173  물걸레청소기 / 스틱+핸디형 / 물걸레전용 / 회전식 / 무선형 / 충전시간: 5시...   278000  \n",
       "174  핸디/스틱청소기 / 핸디+스틱형 / 무선형 / 흡입+걸레겸용 / [성능] 흡입력: ...  1697300  \n",
       "175  핸디/스틱청소기 / 핸디+스틱형 / 무선형 / 흡입전용 / 소비전력: 200W / ...   590000  \n",
       "\n",
       "[176 rows x 3 columns]"
      ]
     },
     "execution_count": 30,
     "metadata": {},
     "output_type": "execute_result"
    }
   ],
   "source": [
    "data"
   ]
  },
  {
   "cell_type": "markdown",
   "metadata": {},
   "source": [
    "### 다나와 크롤링 데이터 불러오기 "
   ]
  },
  {
   "cell_type": "code",
   "execution_count": 198,
   "metadata": {
    "scrolled": true
   },
   "outputs": [
    {
     "name": "stdout",
     "output_type": "stream",
     "text": [
      "<class 'pandas.core.frame.DataFrame'>\n",
      "RangeIndex: 176 entries, 0 to 175\n",
      "Data columns (total 3 columns):\n",
      " #   Column  Non-Null Count  Dtype \n",
      "---  ------  --------------  ----- \n",
      " 0   상품명     164 non-null    object\n",
      " 1   스펙 목록   164 non-null    object\n",
      " 2   가격      176 non-null    int64 \n",
      "dtypes: int64(1), object(2)\n",
      "memory usage: 4.2+ KB\n"
     ]
    },
    {
     "data": {
      "text/html": [
       "<div>\n",
       "<style scoped>\n",
       "    .dataframe tbody tr th:only-of-type {\n",
       "        vertical-align: middle;\n",
       "    }\n",
       "\n",
       "    .dataframe tbody tr th {\n",
       "        vertical-align: top;\n",
       "    }\n",
       "\n",
       "    .dataframe thead th {\n",
       "        text-align: right;\n",
       "    }\n",
       "</style>\n",
       "<table border=\"1\" class=\"dataframe\">\n",
       "  <thead>\n",
       "    <tr style=\"text-align: right;\">\n",
       "      <th></th>\n",
       "      <th>상품명</th>\n",
       "      <th>스펙 목록</th>\n",
       "      <th>가격</th>\n",
       "    </tr>\n",
       "  </thead>\n",
       "  <tbody>\n",
       "    <tr>\n",
       "      <th>0</th>\n",
       "      <td>LG전자 오브제컬렉션 코드제로 ThinQ A9S AO9571</td>\n",
       "      <td>핸디/스틱청소기 / 핸디+스틱형 / 무선형 / 흡입+걸레겸용 / 소비전력: 590W...</td>\n",
       "      <td>1055760</td>\n",
       "    </tr>\n",
       "    <tr>\n",
       "      <th>1</th>\n",
       "      <td>삼성전자 비스포크 제트 VS20A956A3</td>\n",
       "      <td>핸디/스틱청소기 / 핸디+스틱형 / 무선형 / 흡입+걸레겸용 / [성능] 흡입력: ...</td>\n",
       "      <td>587830</td>\n",
       "    </tr>\n",
       "    <tr>\n",
       "      <th>2</th>\n",
       "      <td>LG전자 코드제로 ThinQ A9S AS9370IKT</td>\n",
       "      <td>핸디/스틱청소기 / 핸디+스틱형 / 무선형 / 흡입+걸레겸용 / 소비전력: 590W...</td>\n",
       "      <td>814610</td>\n",
       "    </tr>\n",
       "    <tr>\n",
       "      <th>3</th>\n",
       "      <td>샤오미 CLEANFLY 차량용 무선 청소기 4세대 H2 (해외구매)</td>\n",
       "      <td>차량용청소기 / 무선 / 흡입력: 16,800Pa / 최대출력: 120W / 헤파필...</td>\n",
       "      <td>60590</td>\n",
       "    </tr>\n",
       "    <tr>\n",
       "      <th>4</th>\n",
       "      <td>샤오미 TROUVER POWER 11</td>\n",
       "      <td>핸디/스틱청소기 / 핸디+스틱형 / 무선형 / 흡입전용 / 소비전력: 400W / ...</td>\n",
       "      <td>73950</td>\n",
       "    </tr>\n",
       "    <tr>\n",
       "      <th>5</th>\n",
       "      <td>B1vVXWAHbT</td>\n",
       "      <td>B1vVXWAHbT483019</td>\n",
       "      <td>483019</td>\n",
       "    </tr>\n",
       "    <tr>\n",
       "      <th>6</th>\n",
       "      <td>NaN</td>\n",
       "      <td>NaN</td>\n",
       "      <td>0</td>\n",
       "    </tr>\n",
       "    <tr>\n",
       "      <th>7</th>\n",
       "      <td>베이스어스 차량용 청소기 A3 (해외구매)</td>\n",
       "      <td>차량용청소기 / 무선 / 흡입력: 15,000Pa / 최대출력: 135W / 헤파필...</td>\n",
       "      <td>50350</td>\n",
       "    </tr>\n",
       "    <tr>\n",
       "      <th>8</th>\n",
       "      <td>샤오미 드리미 V10</td>\n",
       "      <td>핸디/스틱청소기 / 핸디+스틱형 / 무선형 / 흡입전용 / 소비전력: 450W / ...</td>\n",
       "      <td>141435</td>\n",
       "    </tr>\n",
       "    <tr>\n",
       "      <th>9</th>\n",
       "      <td>삼성전자 비스포크 제트 VS20A957E3</td>\n",
       "      <td>핸디/스틱청소기 / 핸디+스틱형 / 무선형 / 흡입+걸레겸용 / [성능] 흡입력: ...</td>\n",
       "      <td>812900</td>\n",
       "    </tr>\n",
       "    <tr>\n",
       "      <th>10</th>\n",
       "      <td>LG전자 코드제로 ThinQ A9S AS9470</td>\n",
       "      <td>핸디/스틱청소기 / 핸디+스틱형 / 무선형 / 흡입+걸레겸용 / 소비전력: 590W...</td>\n",
       "      <td>887360</td>\n",
       "    </tr>\n",
       "    <tr>\n",
       "      <th>11</th>\n",
       "      <td>일렉트로룩스 WELL Q6 WQ61-1OGG</td>\n",
       "      <td>핸디/스틱청소기 / 핸디+스틱형 / 무선형 / 흡입전용 / [성능] 싸이클론 / [...</td>\n",
       "      <td>122760</td>\n",
       "    </tr>\n",
       "    <tr>\n",
       "      <th>12</th>\n",
       "      <td>NaN</td>\n",
       "      <td>NaN</td>\n",
       "      <td>0</td>\n",
       "    </tr>\n",
       "    <tr>\n",
       "      <th>13</th>\n",
       "      <td>LG전자 코드제로 A9 A9100N</td>\n",
       "      <td>핸디/스틱청소기 / 핸디+스틱형 / 무선형 / 흡입+걸레겸용 / 소비전력: 450W...</td>\n",
       "      <td>536200</td>\n",
       "    </tr>\n",
       "    <tr>\n",
       "      <th>14</th>\n",
       "      <td>삼성전자 비스포크 제트 VS20A956A3 + 물걸레</td>\n",
       "      <td>핸디/스틱청소기 / 핸디+스틱형 / 무선형 / 흡입+걸레겸용 / [성능] 흡입력: ...</td>\n",
       "      <td>704960</td>\n",
       "    </tr>\n",
       "    <tr>\n",
       "      <th>15</th>\n",
       "      <td>다이슨 V10 플러피 오리진</td>\n",
       "      <td>핸디/스틱청소기 / 핸디+스틱형 / 무선형 / 흡입전용 / [성능] 흡입력: 151...</td>\n",
       "      <td>533890</td>\n",
       "    </tr>\n",
       "    <tr>\n",
       "      <th>16</th>\n",
       "      <td>LG전자 코드제로 ThinQ A9S A9370</td>\n",
       "      <td>핸디/스틱청소기 / 핸디+스틱형 / 무선형 / 흡입+걸레겸용 / 소비전력: 590W...</td>\n",
       "      <td>669530</td>\n",
       "    </tr>\n",
       "    <tr>\n",
       "      <th>17</th>\n",
       "      <td>LG전자 코드제로 A9 AS9100ST</td>\n",
       "      <td>핸디/스틱청소기 / 핸디+스틱형 / 무선형 / 흡입+걸레겸용 / 소비전력: 450W...</td>\n",
       "      <td>709100</td>\n",
       "    </tr>\n",
       "    <tr>\n",
       "      <th>18</th>\n",
       "      <td>NaN</td>\n",
       "      <td>NaN</td>\n",
       "      <td>0</td>\n",
       "    </tr>\n",
       "    <tr>\n",
       "      <th>19</th>\n",
       "      <td>삼성전자 비스포크 제트 VS20A957D2</td>\n",
       "      <td>핸디/스틱청소기 / 핸디+스틱형 / 무선형 / 흡입+걸레겸용 / [성능] 흡입력: ...</td>\n",
       "      <td>745550</td>\n",
       "    </tr>\n",
       "  </tbody>\n",
       "</table>\n",
       "</div>"
      ],
      "text/plain": [
       "                                      상품명  \\\n",
       "0       LG전자 오브제컬렉션 코드제로 ThinQ A9S AO9571   \n",
       "1                 삼성전자 비스포크 제트 VS20A956A3   \n",
       "2           LG전자 코드제로 ThinQ A9S AS9370IKT   \n",
       "3   샤오미 CLEANFLY 차량용 무선 청소기 4세대 H2 (해외구매)   \n",
       "4                    샤오미 TROUVER POWER 11   \n",
       "5                              B1vVXWAHbT   \n",
       "6                                     NaN   \n",
       "7                 베이스어스 차량용 청소기 A3 (해외구매)   \n",
       "8                             샤오미 드리미 V10   \n",
       "9                 삼성전자 비스포크 제트 VS20A957E3   \n",
       "10             LG전자 코드제로 ThinQ A9S AS9470   \n",
       "11               일렉트로룩스 WELL Q6 WQ61-1OGG   \n",
       "12                                    NaN   \n",
       "13                    LG전자 코드제로 A9 A9100N   \n",
       "14          삼성전자 비스포크 제트 VS20A956A3 + 물걸레   \n",
       "15                        다이슨 V10 플러피 오리진   \n",
       "16              LG전자 코드제로 ThinQ A9S A9370   \n",
       "17                  LG전자 코드제로 A9 AS9100ST   \n",
       "18                                    NaN   \n",
       "19                삼성전자 비스포크 제트 VS20A957D2   \n",
       "\n",
       "                                                스펙 목록       가격  \n",
       "0   핸디/스틱청소기 / 핸디+스틱형 / 무선형 / 흡입+걸레겸용 / 소비전력: 590W...  1055760  \n",
       "1   핸디/스틱청소기 / 핸디+스틱형 / 무선형 / 흡입+걸레겸용 / [성능] 흡입력: ...   587830  \n",
       "2   핸디/스틱청소기 / 핸디+스틱형 / 무선형 / 흡입+걸레겸용 / 소비전력: 590W...   814610  \n",
       "3   차량용청소기 / 무선 / 흡입력: 16,800Pa / 최대출력: 120W / 헤파필...    60590  \n",
       "4   핸디/스틱청소기 / 핸디+스틱형 / 무선형 / 흡입전용 / 소비전력: 400W / ...    73950  \n",
       "5                                    B1vVXWAHbT483019   483019  \n",
       "6                                                 NaN        0  \n",
       "7   차량용청소기 / 무선 / 흡입력: 15,000Pa / 최대출력: 135W / 헤파필...    50350  \n",
       "8   핸디/스틱청소기 / 핸디+스틱형 / 무선형 / 흡입전용 / 소비전력: 450W / ...   141435  \n",
       "9   핸디/스틱청소기 / 핸디+스틱형 / 무선형 / 흡입+걸레겸용 / [성능] 흡입력: ...   812900  \n",
       "10  핸디/스틱청소기 / 핸디+스틱형 / 무선형 / 흡입+걸레겸용 / 소비전력: 590W...   887360  \n",
       "11  핸디/스틱청소기 / 핸디+스틱형 / 무선형 / 흡입전용 / [성능] 싸이클론 / [...   122760  \n",
       "12                                                NaN        0  \n",
       "13  핸디/스틱청소기 / 핸디+스틱형 / 무선형 / 흡입+걸레겸용 / 소비전력: 450W...   536200  \n",
       "14  핸디/스틱청소기 / 핸디+스틱형 / 무선형 / 흡입+걸레겸용 / [성능] 흡입력: ...   704960  \n",
       "15  핸디/스틱청소기 / 핸디+스틱형 / 무선형 / 흡입전용 / [성능] 흡입력: 151...   533890  \n",
       "16  핸디/스틱청소기 / 핸디+스틱형 / 무선형 / 흡입+걸레겸용 / 소비전력: 590W...   669530  \n",
       "17  핸디/스틱청소기 / 핸디+스틱형 / 무선형 / 흡입+걸레겸용 / 소비전력: 450W...   709100  \n",
       "18                                                NaN        0  \n",
       "19  핸디/스틱청소기 / 핸디+스틱형 / 무선형 / 흡입+걸레겸용 / [성능] 흡입력: ...   745550  "
      ]
     },
     "execution_count": 198,
     "metadata": {},
     "output_type": "execute_result"
    }
   ],
   "source": [
    "# 예제 다나와 크롤링 결과 가져오기 \n",
    "import pandas as pd\n",
    "data = pd.read_excel('./danawa_crawling_result_2022_1.xlsx')\n",
    "data.info()\n",
    "data.head(20)"
   ]
  },
  {
   "cell_type": "code",
   "execution_count": 199,
   "metadata": {},
   "outputs": [],
   "source": [
    "data_2=data.copy()"
   ]
  },
  {
   "cell_type": "code",
   "execution_count": 200,
   "metadata": {
    "scrolled": false
   },
   "outputs": [
    {
     "data": {
      "text/html": [
       "<div>\n",
       "<style scoped>\n",
       "    .dataframe tbody tr th:only-of-type {\n",
       "        vertical-align: middle;\n",
       "    }\n",
       "\n",
       "    .dataframe tbody tr th {\n",
       "        vertical-align: top;\n",
       "    }\n",
       "\n",
       "    .dataframe thead th {\n",
       "        text-align: right;\n",
       "    }\n",
       "</style>\n",
       "<table border=\"1\" class=\"dataframe\">\n",
       "  <thead>\n",
       "    <tr style=\"text-align: right;\">\n",
       "      <th></th>\n",
       "      <th>상품명</th>\n",
       "      <th>스펙 목록</th>\n",
       "      <th>가격</th>\n",
       "    </tr>\n",
       "  </thead>\n",
       "  <tbody>\n",
       "    <tr>\n",
       "      <th>0</th>\n",
       "      <td>LG전자 오브제컬렉션 코드제로 ThinQ A9S AO9571</td>\n",
       "      <td>핸디/스틱청소기 / 핸디+스틱형 / 무선형 / 흡입+걸레겸용 / 소비전력: 590W...</td>\n",
       "      <td>1055760</td>\n",
       "    </tr>\n",
       "    <tr>\n",
       "      <th>1</th>\n",
       "      <td>삼성전자 비스포크 제트 VS20A956A3</td>\n",
       "      <td>핸디/스틱청소기 / 핸디+스틱형 / 무선형 / 흡입+걸레겸용 / [성능] 흡입력: ...</td>\n",
       "      <td>587830</td>\n",
       "    </tr>\n",
       "    <tr>\n",
       "      <th>2</th>\n",
       "      <td>LG전자 코드제로 ThinQ A9S AS9370IKT</td>\n",
       "      <td>핸디/스틱청소기 / 핸디+스틱형 / 무선형 / 흡입+걸레겸용 / 소비전력: 590W...</td>\n",
       "      <td>814610</td>\n",
       "    </tr>\n",
       "    <tr>\n",
       "      <th>3</th>\n",
       "      <td>샤오미 CLEANFLY 차량용 무선 청소기 4세대 H2 (해외구매)</td>\n",
       "      <td>차량용청소기 / 무선 / 흡입력: 16,800Pa / 최대출력: 120W / 헤파필...</td>\n",
       "      <td>60590</td>\n",
       "    </tr>\n",
       "    <tr>\n",
       "      <th>4</th>\n",
       "      <td>샤오미 TROUVER POWER 11</td>\n",
       "      <td>핸디/스틱청소기 / 핸디+스틱형 / 무선형 / 흡입전용 / 소비전력: 400W / ...</td>\n",
       "      <td>73950</td>\n",
       "    </tr>\n",
       "    <tr>\n",
       "      <th>5</th>\n",
       "      <td>B1vVXWAHbT</td>\n",
       "      <td>B1vVXWAHbT483019</td>\n",
       "      <td>483019</td>\n",
       "    </tr>\n",
       "    <tr>\n",
       "      <th>7</th>\n",
       "      <td>베이스어스 차량용 청소기 A3 (해외구매)</td>\n",
       "      <td>차량용청소기 / 무선 / 흡입력: 15,000Pa / 최대출력: 135W / 헤파필...</td>\n",
       "      <td>50350</td>\n",
       "    </tr>\n",
       "    <tr>\n",
       "      <th>8</th>\n",
       "      <td>샤오미 드리미 V10</td>\n",
       "      <td>핸디/스틱청소기 / 핸디+스틱형 / 무선형 / 흡입전용 / 소비전력: 450W / ...</td>\n",
       "      <td>141435</td>\n",
       "    </tr>\n",
       "    <tr>\n",
       "      <th>9</th>\n",
       "      <td>삼성전자 비스포크 제트 VS20A957E3</td>\n",
       "      <td>핸디/스틱청소기 / 핸디+스틱형 / 무선형 / 흡입+걸레겸용 / [성능] 흡입력: ...</td>\n",
       "      <td>812900</td>\n",
       "    </tr>\n",
       "    <tr>\n",
       "      <th>10</th>\n",
       "      <td>LG전자 코드제로 ThinQ A9S AS9470</td>\n",
       "      <td>핸디/스틱청소기 / 핸디+스틱형 / 무선형 / 흡입+걸레겸용 / 소비전력: 590W...</td>\n",
       "      <td>887360</td>\n",
       "    </tr>\n",
       "  </tbody>\n",
       "</table>\n",
       "</div>"
      ],
      "text/plain": [
       "                                      상품명  \\\n",
       "0       LG전자 오브제컬렉션 코드제로 ThinQ A9S AO9571   \n",
       "1                 삼성전자 비스포크 제트 VS20A956A3   \n",
       "2           LG전자 코드제로 ThinQ A9S AS9370IKT   \n",
       "3   샤오미 CLEANFLY 차량용 무선 청소기 4세대 H2 (해외구매)   \n",
       "4                    샤오미 TROUVER POWER 11   \n",
       "5                              B1vVXWAHbT   \n",
       "7                 베이스어스 차량용 청소기 A3 (해외구매)   \n",
       "8                             샤오미 드리미 V10   \n",
       "9                 삼성전자 비스포크 제트 VS20A957E3   \n",
       "10             LG전자 코드제로 ThinQ A9S AS9470   \n",
       "\n",
       "                                                스펙 목록       가격  \n",
       "0   핸디/스틱청소기 / 핸디+스틱형 / 무선형 / 흡입+걸레겸용 / 소비전력: 590W...  1055760  \n",
       "1   핸디/스틱청소기 / 핸디+스틱형 / 무선형 / 흡입+걸레겸용 / [성능] 흡입력: ...   587830  \n",
       "2   핸디/스틱청소기 / 핸디+스틱형 / 무선형 / 흡입+걸레겸용 / 소비전력: 590W...   814610  \n",
       "3   차량용청소기 / 무선 / 흡입력: 16,800Pa / 최대출력: 120W / 헤파필...    60590  \n",
       "4   핸디/스틱청소기 / 핸디+스틱형 / 무선형 / 흡입전용 / 소비전력: 400W / ...    73950  \n",
       "5                                    B1vVXWAHbT483019   483019  \n",
       "7   차량용청소기 / 무선 / 흡입력: 15,000Pa / 최대출력: 135W / 헤파필...    50350  \n",
       "8   핸디/스틱청소기 / 핸디+스틱형 / 무선형 / 흡입전용 / 소비전력: 450W / ...   141435  \n",
       "9   핸디/스틱청소기 / 핸디+스틱형 / 무선형 / 흡입+걸레겸용 / [성능] 흡입력: ...   812900  \n",
       "10  핸디/스틱청소기 / 핸디+스틱형 / 무선형 / 흡입+걸레겸용 / 소비전력: 590W...   887360  "
      ]
     },
     "execution_count": 200,
     "metadata": {},
     "output_type": "execute_result"
    }
   ],
   "source": [
    "data_2=data_2.dropna()\n",
    "data_2.head(10)"
   ]
  },
  {
   "cell_type": "code",
   "execution_count": 201,
   "metadata": {
    "scrolled": true
   },
   "outputs": [
    {
     "data": {
      "text/html": [
       "<div>\n",
       "<style scoped>\n",
       "    .dataframe tbody tr th:only-of-type {\n",
       "        vertical-align: middle;\n",
       "    }\n",
       "\n",
       "    .dataframe tbody tr th {\n",
       "        vertical-align: top;\n",
       "    }\n",
       "\n",
       "    .dataframe thead th {\n",
       "        text-align: right;\n",
       "    }\n",
       "</style>\n",
       "<table border=\"1\" class=\"dataframe\">\n",
       "  <thead>\n",
       "    <tr style=\"text-align: right;\">\n",
       "      <th></th>\n",
       "      <th>상품명</th>\n",
       "      <th>스펙 목록</th>\n",
       "      <th>가격</th>\n",
       "    </tr>\n",
       "  </thead>\n",
       "  <tbody>\n",
       "    <tr>\n",
       "      <th>0</th>\n",
       "      <td>LG전자 오브제컬렉션 코드제로 ThinQ A9S AO9571</td>\n",
       "      <td>핸디/스틱청소기 / 핸디+스틱형 / 무선형 / 흡입+걸레겸용 / 소비전력: 590W...</td>\n",
       "      <td>1055760</td>\n",
       "    </tr>\n",
       "    <tr>\n",
       "      <th>1</th>\n",
       "      <td>삼성전자 비스포크 제트 VS20A956A3</td>\n",
       "      <td>핸디/스틱청소기 / 핸디+스틱형 / 무선형 / 흡입+걸레겸용 / [성능] 흡입력: ...</td>\n",
       "      <td>587830</td>\n",
       "    </tr>\n",
       "    <tr>\n",
       "      <th>2</th>\n",
       "      <td>LG전자 코드제로 ThinQ A9S AS9370IKT</td>\n",
       "      <td>핸디/스틱청소기 / 핸디+스틱형 / 무선형 / 흡입+걸레겸용 / 소비전력: 590W...</td>\n",
       "      <td>814610</td>\n",
       "    </tr>\n",
       "    <tr>\n",
       "      <th>3</th>\n",
       "      <td>샤오미 CLEANFLY 차량용 무선 청소기 4세대 H2 (해외구매)</td>\n",
       "      <td>차량용청소기 / 무선 / 흡입력: 16,800Pa / 최대출력: 120W / 헤파필...</td>\n",
       "      <td>60590</td>\n",
       "    </tr>\n",
       "    <tr>\n",
       "      <th>4</th>\n",
       "      <td>샤오미 TROUVER POWER 11</td>\n",
       "      <td>핸디/스틱청소기 / 핸디+스틱형 / 무선형 / 흡입전용 / 소비전력: 400W / ...</td>\n",
       "      <td>73950</td>\n",
       "    </tr>\n",
       "    <tr>\n",
       "      <th>...</th>\n",
       "      <td>...</td>\n",
       "      <td>...</td>\n",
       "      <td>...</td>\n",
       "    </tr>\n",
       "    <tr>\n",
       "      <th>171</th>\n",
       "      <td>DIBEA D18</td>\n",
       "      <td>핸디/스틱청소기 / 핸디+스틱형 / 무선형 / 소비전력: 120W / [성능] 흡입...</td>\n",
       "      <td>83160</td>\n",
       "    </tr>\n",
       "    <tr>\n",
       "      <th>172</th>\n",
       "      <td>로엘 듀스핀2</td>\n",
       "      <td>물걸레청소기 / 스틱형 / 회전식 / 무선형 / 배터리: 리튬이온 / 충전시간: 3...</td>\n",
       "      <td>62950</td>\n",
       "    </tr>\n",
       "    <tr>\n",
       "      <th>173</th>\n",
       "      <td>블랙파인 VC-P9</td>\n",
       "      <td>물걸레청소기 / 스틱+핸디형 / 물걸레전용 / 회전식 / 무선형 / 충전시간: 5시...</td>\n",
       "      <td>278000</td>\n",
       "    </tr>\n",
       "    <tr>\n",
       "      <th>174</th>\n",
       "      <td>삼성전자 비스포크 제트 VS20A957G3P</td>\n",
       "      <td>핸디/스틱청소기 / 핸디+스틱형 / 무선형 / 흡입+걸레겸용 / [성능] 흡입력: ...</td>\n",
       "      <td>1697300</td>\n",
       "    </tr>\n",
       "    <tr>\n",
       "      <th>175</th>\n",
       "      <td>오토모 AVC-OTOA2</td>\n",
       "      <td>핸디/스틱청소기 / 핸디+스틱형 / 무선형 / 흡입전용 / 소비전력: 200W / ...</td>\n",
       "      <td>590000</td>\n",
       "    </tr>\n",
       "  </tbody>\n",
       "</table>\n",
       "<p>164 rows × 3 columns</p>\n",
       "</div>"
      ],
      "text/plain": [
       "                                       상품명  \\\n",
       "0        LG전자 오브제컬렉션 코드제로 ThinQ A9S AO9571   \n",
       "1                  삼성전자 비스포크 제트 VS20A956A3   \n",
       "2            LG전자 코드제로 ThinQ A9S AS9370IKT   \n",
       "3    샤오미 CLEANFLY 차량용 무선 청소기 4세대 H2 (해외구매)   \n",
       "4                     샤오미 TROUVER POWER 11   \n",
       "..                                     ...   \n",
       "171                              DIBEA D18   \n",
       "172                                로엘 듀스핀2   \n",
       "173                             블랙파인 VC-P9   \n",
       "174               삼성전자 비스포크 제트 VS20A957G3P   \n",
       "175                          오토모 AVC-OTOA2   \n",
       "\n",
       "                                                 스펙 목록       가격  \n",
       "0    핸디/스틱청소기 / 핸디+스틱형 / 무선형 / 흡입+걸레겸용 / 소비전력: 590W...  1055760  \n",
       "1    핸디/스틱청소기 / 핸디+스틱형 / 무선형 / 흡입+걸레겸용 / [성능] 흡입력: ...   587830  \n",
       "2    핸디/스틱청소기 / 핸디+스틱형 / 무선형 / 흡입+걸레겸용 / 소비전력: 590W...   814610  \n",
       "3    차량용청소기 / 무선 / 흡입력: 16,800Pa / 최대출력: 120W / 헤파필...    60590  \n",
       "4    핸디/스틱청소기 / 핸디+스틱형 / 무선형 / 흡입전용 / 소비전력: 400W / ...    73950  \n",
       "..                                                 ...      ...  \n",
       "171  핸디/스틱청소기 / 핸디+스틱형 / 무선형 / 소비전력: 120W / [성능] 흡입...    83160  \n",
       "172  물걸레청소기 / 스틱형 / 회전식 / 무선형 / 배터리: 리튬이온 / 충전시간: 3...    62950  \n",
       "173  물걸레청소기 / 스틱+핸디형 / 물걸레전용 / 회전식 / 무선형 / 충전시간: 5시...   278000  \n",
       "174  핸디/스틱청소기 / 핸디+스틱형 / 무선형 / 흡입+걸레겸용 / [성능] 흡입력: ...  1697300  \n",
       "175  핸디/스틱청소기 / 핸디+스틱형 / 무선형 / 흡입전용 / 소비전력: 200W / ...   590000  \n",
       "\n",
       "[164 rows x 3 columns]"
      ]
     },
     "execution_count": 201,
     "metadata": {},
     "output_type": "execute_result"
    }
   ],
   "source": [
    "data_2"
   ]
  },
  {
   "cell_type": "code",
   "execution_count": 202,
   "metadata": {},
   "outputs": [],
   "source": [
    "data_2=data_2.reset_index()"
   ]
  },
  {
   "cell_type": "code",
   "execution_count": 203,
   "metadata": {
    "scrolled": true
   },
   "outputs": [
    {
     "data": {
      "text/html": [
       "<div>\n",
       "<style scoped>\n",
       "    .dataframe tbody tr th:only-of-type {\n",
       "        vertical-align: middle;\n",
       "    }\n",
       "\n",
       "    .dataframe tbody tr th {\n",
       "        vertical-align: top;\n",
       "    }\n",
       "\n",
       "    .dataframe thead th {\n",
       "        text-align: right;\n",
       "    }\n",
       "</style>\n",
       "<table border=\"1\" class=\"dataframe\">\n",
       "  <thead>\n",
       "    <tr style=\"text-align: right;\">\n",
       "      <th></th>\n",
       "      <th>index</th>\n",
       "      <th>상품명</th>\n",
       "      <th>스펙 목록</th>\n",
       "      <th>가격</th>\n",
       "    </tr>\n",
       "  </thead>\n",
       "  <tbody>\n",
       "    <tr>\n",
       "      <th>0</th>\n",
       "      <td>0</td>\n",
       "      <td>LG전자 오브제컬렉션 코드제로 ThinQ A9S AO9571</td>\n",
       "      <td>핸디/스틱청소기 / 핸디+스틱형 / 무선형 / 흡입+걸레겸용 / 소비전력: 590W...</td>\n",
       "      <td>1055760</td>\n",
       "    </tr>\n",
       "    <tr>\n",
       "      <th>1</th>\n",
       "      <td>1</td>\n",
       "      <td>삼성전자 비스포크 제트 VS20A956A3</td>\n",
       "      <td>핸디/스틱청소기 / 핸디+스틱형 / 무선형 / 흡입+걸레겸용 / [성능] 흡입력: ...</td>\n",
       "      <td>587830</td>\n",
       "    </tr>\n",
       "    <tr>\n",
       "      <th>2</th>\n",
       "      <td>2</td>\n",
       "      <td>LG전자 코드제로 ThinQ A9S AS9370IKT</td>\n",
       "      <td>핸디/스틱청소기 / 핸디+스틱형 / 무선형 / 흡입+걸레겸용 / 소비전력: 590W...</td>\n",
       "      <td>814610</td>\n",
       "    </tr>\n",
       "    <tr>\n",
       "      <th>3</th>\n",
       "      <td>3</td>\n",
       "      <td>샤오미 CLEANFLY 차량용 무선 청소기 4세대 H2 (해외구매)</td>\n",
       "      <td>차량용청소기 / 무선 / 흡입력: 16,800Pa / 최대출력: 120W / 헤파필...</td>\n",
       "      <td>60590</td>\n",
       "    </tr>\n",
       "    <tr>\n",
       "      <th>4</th>\n",
       "      <td>4</td>\n",
       "      <td>샤오미 TROUVER POWER 11</td>\n",
       "      <td>핸디/스틱청소기 / 핸디+스틱형 / 무선형 / 흡입전용 / 소비전력: 400W / ...</td>\n",
       "      <td>73950</td>\n",
       "    </tr>\n",
       "    <tr>\n",
       "      <th>5</th>\n",
       "      <td>5</td>\n",
       "      <td>B1vVXWAHbT</td>\n",
       "      <td>B1vVXWAHbT483019</td>\n",
       "      <td>483019</td>\n",
       "    </tr>\n",
       "    <tr>\n",
       "      <th>6</th>\n",
       "      <td>7</td>\n",
       "      <td>베이스어스 차량용 청소기 A3 (해외구매)</td>\n",
       "      <td>차량용청소기 / 무선 / 흡입력: 15,000Pa / 최대출력: 135W / 헤파필...</td>\n",
       "      <td>50350</td>\n",
       "    </tr>\n",
       "    <tr>\n",
       "      <th>7</th>\n",
       "      <td>8</td>\n",
       "      <td>샤오미 드리미 V10</td>\n",
       "      <td>핸디/스틱청소기 / 핸디+스틱형 / 무선형 / 흡입전용 / 소비전력: 450W / ...</td>\n",
       "      <td>141435</td>\n",
       "    </tr>\n",
       "    <tr>\n",
       "      <th>8</th>\n",
       "      <td>9</td>\n",
       "      <td>삼성전자 비스포크 제트 VS20A957E3</td>\n",
       "      <td>핸디/스틱청소기 / 핸디+스틱형 / 무선형 / 흡입+걸레겸용 / [성능] 흡입력: ...</td>\n",
       "      <td>812900</td>\n",
       "    </tr>\n",
       "    <tr>\n",
       "      <th>9</th>\n",
       "      <td>10</td>\n",
       "      <td>LG전자 코드제로 ThinQ A9S AS9470</td>\n",
       "      <td>핸디/스틱청소기 / 핸디+스틱형 / 무선형 / 흡입+걸레겸용 / 소비전력: 590W...</td>\n",
       "      <td>887360</td>\n",
       "    </tr>\n",
       "    <tr>\n",
       "      <th>10</th>\n",
       "      <td>11</td>\n",
       "      <td>일렉트로룩스 WELL Q6 WQ61-1OGG</td>\n",
       "      <td>핸디/스틱청소기 / 핸디+스틱형 / 무선형 / 흡입전용 / [성능] 싸이클론 / [...</td>\n",
       "      <td>122760</td>\n",
       "    </tr>\n",
       "    <tr>\n",
       "      <th>11</th>\n",
       "      <td>13</td>\n",
       "      <td>LG전자 코드제로 A9 A9100N</td>\n",
       "      <td>핸디/스틱청소기 / 핸디+스틱형 / 무선형 / 흡입+걸레겸용 / 소비전력: 450W...</td>\n",
       "      <td>536200</td>\n",
       "    </tr>\n",
       "    <tr>\n",
       "      <th>12</th>\n",
       "      <td>14</td>\n",
       "      <td>삼성전자 비스포크 제트 VS20A956A3 + 물걸레</td>\n",
       "      <td>핸디/스틱청소기 / 핸디+스틱형 / 무선형 / 흡입+걸레겸용 / [성능] 흡입력: ...</td>\n",
       "      <td>704960</td>\n",
       "    </tr>\n",
       "    <tr>\n",
       "      <th>13</th>\n",
       "      <td>15</td>\n",
       "      <td>다이슨 V10 플러피 오리진</td>\n",
       "      <td>핸디/스틱청소기 / 핸디+스틱형 / 무선형 / 흡입전용 / [성능] 흡입력: 151...</td>\n",
       "      <td>533890</td>\n",
       "    </tr>\n",
       "    <tr>\n",
       "      <th>14</th>\n",
       "      <td>16</td>\n",
       "      <td>LG전자 코드제로 ThinQ A9S A9370</td>\n",
       "      <td>핸디/스틱청소기 / 핸디+스틱형 / 무선형 / 흡입+걸레겸용 / 소비전력: 590W...</td>\n",
       "      <td>669530</td>\n",
       "    </tr>\n",
       "    <tr>\n",
       "      <th>15</th>\n",
       "      <td>17</td>\n",
       "      <td>LG전자 코드제로 A9 AS9100ST</td>\n",
       "      <td>핸디/스틱청소기 / 핸디+스틱형 / 무선형 / 흡입+걸레겸용 / 소비전력: 450W...</td>\n",
       "      <td>709100</td>\n",
       "    </tr>\n",
       "    <tr>\n",
       "      <th>16</th>\n",
       "      <td>19</td>\n",
       "      <td>삼성전자 비스포크 제트 VS20A957D2</td>\n",
       "      <td>핸디/스틱청소기 / 핸디+스틱형 / 무선형 / 흡입+걸레겸용 / [성능] 흡입력: ...</td>\n",
       "      <td>745550</td>\n",
       "    </tr>\n",
       "    <tr>\n",
       "      <th>17</th>\n",
       "      <td>20</td>\n",
       "      <td>샤오미 미지아 차량용 핸디 무선 청소기 (해외구매)</td>\n",
       "      <td>차량용청소기 / 무선 / 흡입력: 13,000Pa / 최대출력: 120W / 헤파필...</td>\n",
       "      <td>41060</td>\n",
       "    </tr>\n",
       "    <tr>\n",
       "      <th>18</th>\n",
       "      <td>21</td>\n",
       "      <td>델로라 V11 파워 300W</td>\n",
       "      <td>핸디/스틱청소기 / 핸디+스틱형 / 무선형 / 흡입전용 / 소비전력: 300W / ...</td>\n",
       "      <td>104480</td>\n",
       "    </tr>\n",
       "    <tr>\n",
       "      <th>19</th>\n",
       "      <td>22</td>\n",
       "      <td>일렉트로룩스 에르고라피도 ZB3311</td>\n",
       "      <td>핸디/스틱청소기 / 핸디+스틱형 / 무선형 / 흡입전용 / [성능] 싸이클론 / [...</td>\n",
       "      <td>129110</td>\n",
       "    </tr>\n",
       "    <tr>\n",
       "      <th>20</th>\n",
       "      <td>23</td>\n",
       "      <td>삼성전자 비스포크 제트 VS20A956A3P</td>\n",
       "      <td>핸디/스틱청소기 / 핸디+스틱형 / 무선형 / 흡입+걸레겸용 / [성능] 흡입력: ...</td>\n",
       "      <td>600140</td>\n",
       "    </tr>\n",
       "    <tr>\n",
       "      <th>21</th>\n",
       "      <td>24</td>\n",
       "      <td>삼성전자 제트 VS20T9210BF</td>\n",
       "      <td>핸디/스틱청소기 / 핸디+스틱형 / 무선형 / 흡입+걸레겸용 / 소비전력: 550W...</td>\n",
       "      <td>459400</td>\n",
       "    </tr>\n",
       "    <tr>\n",
       "      <th>22</th>\n",
       "      <td>25</td>\n",
       "      <td>샤오미 드리미 V12</td>\n",
       "      <td>핸디/스틱청소기 / 핸디+스틱형 / 무선형 / 흡입+걸레겸용 / 소비전력: 550W...</td>\n",
       "      <td>301680</td>\n",
       "    </tr>\n",
       "    <tr>\n",
       "      <th>23</th>\n",
       "      <td>26</td>\n",
       "      <td>DIBEA 차이슨 ALLNEW29000</td>\n",
       "      <td>핸디/스틱청소기 / 핸디+스틱형 / 무선형 / 흡입+걸레겸용 / 소비전력: 380W...</td>\n",
       "      <td>248000</td>\n",
       "    </tr>\n",
       "    <tr>\n",
       "      <th>24</th>\n",
       "      <td>27</td>\n",
       "      <td>샤오미 CLEANFLY 차량용 무선 청소기 3세대 (해외구매)</td>\n",
       "      <td>차량용청소기 / 무선 / 흡입력: 16,800Pa / 최대출력: 120W / 헤파필...</td>\n",
       "      <td>58100</td>\n",
       "    </tr>\n",
       "    <tr>\n",
       "      <th>25</th>\n",
       "      <td>28</td>\n",
       "      <td>오아 클린보틀 차량용 청소기 OA-CL002</td>\n",
       "      <td>차량용청소기 / 무선 / 흡입력: 6,500Pa / 헤파필터 / 추가노즐: 틈새, ...</td>\n",
       "      <td>57900</td>\n",
       "    </tr>\n",
       "    <tr>\n",
       "      <th>26</th>\n",
       "      <td>29</td>\n",
       "      <td>다이슨 디지털 슬림 플러피+</td>\n",
       "      <td>핸디/스틱청소기 / 핸디+스틱형 / 무선형 / 흡입전용 / [성능] 흡입력: 100...</td>\n",
       "      <td>607750</td>\n",
       "    </tr>\n",
       "    <tr>\n",
       "      <th>27</th>\n",
       "      <td>30</td>\n",
       "      <td>샤오미 드리미 V11</td>\n",
       "      <td>핸디/스틱청소기 / 핸디+스틱형 / 무선형 / 흡입+걸레겸용 / 소비전력: 450W...</td>\n",
       "      <td>213640</td>\n",
       "    </tr>\n",
       "    <tr>\n",
       "      <th>28</th>\n",
       "      <td>31</td>\n",
       "      <td>로엘 듀스핀3 PRO</td>\n",
       "      <td>물걸레청소기 / 스틱형 / 물걸레전용 / 회전식 / 무선형 / 충전시간: 4시간 /...</td>\n",
       "      <td>177900</td>\n",
       "    </tr>\n",
       "    <tr>\n",
       "      <th>29</th>\n",
       "      <td>32</td>\n",
       "      <td>LG전자 코드제로 ThinQ A9S AS9471</td>\n",
       "      <td>핸디/스틱청소기 / 핸디+스틱형 / 무선형 / 흡입+걸레겸용 / 소비전력: 590W...</td>\n",
       "      <td>913370</td>\n",
       "    </tr>\n",
       "    <tr>\n",
       "      <th>30</th>\n",
       "      <td>33</td>\n",
       "      <td>다이슨 V15 디텍트 앱솔루트 엑스트라</td>\n",
       "      <td>핸디/스틱청소기 / 핸디+스틱형 / 무선형 / 흡입전용 / [성능] 흡입력: 240...</td>\n",
       "      <td>1247840</td>\n",
       "    </tr>\n",
       "    <tr>\n",
       "      <th>31</th>\n",
       "      <td>34</td>\n",
       "      <td>위드앤올 2in1 휴대용 무선 에어건 핸디 청소기 WNA-AG8</td>\n",
       "      <td>차량용청소기 / 무선 / 흡입력: 8,000Pa / 최대출력: 75W / 추가노즐:...</td>\n",
       "      <td>77860</td>\n",
       "    </tr>\n",
       "    <tr>\n",
       "      <th>32</th>\n",
       "      <td>35</td>\n",
       "      <td>LG전자 코드제로 ThinQ A9S AS9371IKT</td>\n",
       "      <td>핸디/스틱청소기 / 핸디+스틱형 / 무선형 / 흡입+걸레겸용 / 소비전력: 590W...</td>\n",
       "      <td>915010</td>\n",
       "    </tr>\n",
       "    <tr>\n",
       "      <th>33</th>\n",
       "      <td>36</td>\n",
       "      <td>인트비즈 MORUN 차량용 무선 미니 청소기 V5</td>\n",
       "      <td>차량용청소기 / 무선 / 흡입력: 13,000Pa / 헤파필터 / 추가노즐: 틈새,...</td>\n",
       "      <td>89000</td>\n",
       "    </tr>\n",
       "    <tr>\n",
       "      <th>34</th>\n",
       "      <td>37</td>\n",
       "      <td>DIBEA M24 MAX</td>\n",
       "      <td>핸디/스틱청소기 / 핸디+스틱형 / 무선형 / 흡입+걸레겸용 / 소비전력: 400W...</td>\n",
       "      <td>139000</td>\n",
       "    </tr>\n",
       "    <tr>\n",
       "      <th>35</th>\n",
       "      <td>38</td>\n",
       "      <td>삼성전자 제트 VS20T9218QDCC</td>\n",
       "      <td>핸디/스틱청소기 / 핸디+스틱형 / 무선형 / 흡입+걸레겸용 / 소비전력: 550W...</td>\n",
       "      <td>547060</td>\n",
       "    </tr>\n",
       "    <tr>\n",
       "      <th>36</th>\n",
       "      <td>39</td>\n",
       "      <td>웍스 휴대용 차량용 충전 청소기 본체 WX030.9</td>\n",
       "      <td>차량용청소기 / 무선 / 흡입력: 10,000Pa / 최대출력: 180W / 3중필...</td>\n",
       "      <td>56000</td>\n",
       "    </tr>\n",
       "    <tr>\n",
       "      <th>37</th>\n",
       "      <td>40</td>\n",
       "      <td>샤오미 미지아 차량용 핸디 무선 청소기</td>\n",
       "      <td>차량용청소기 / 무선 / 흡입력: 13,000Pa / 최대출력: 120W / 헤파필...</td>\n",
       "      <td>39900</td>\n",
       "    </tr>\n",
       "    <tr>\n",
       "      <th>38</th>\n",
       "      <td>41</td>\n",
       "      <td>샤오미 드리미 V11SE</td>\n",
       "      <td>핸디/스틱청소기 / 핸디+스틱형 / 무선형 / 흡입전용 / 소비전력: 450W / ...</td>\n",
       "      <td>179900</td>\n",
       "    </tr>\n",
       "    <tr>\n",
       "      <th>39</th>\n",
       "      <td>42</td>\n",
       "      <td>삼성전자 비스포크 제트 VS20A957D3P</td>\n",
       "      <td>핸디/스틱청소기 / 핸디+스틱형 / 무선형 / 흡입+걸레겸용 / [성능] 흡입력: ...</td>\n",
       "      <td>810790</td>\n",
       "    </tr>\n",
       "    <tr>\n",
       "      <th>40</th>\n",
       "      <td>43</td>\n",
       "      <td>오토모 ATM-H100</td>\n",
       "      <td>핸디/스틱청소기 / 핸디형 / 무선형 / 흡입전용 / 소비전력: 70W / [배터리...</td>\n",
       "      <td>31330</td>\n",
       "    </tr>\n",
       "    <tr>\n",
       "      <th>41</th>\n",
       "      <td>44</td>\n",
       "      <td>다이슨 V15 디텍트 컴플리트</td>\n",
       "      <td>핸디/스틱청소기 / 핸디+스틱형 / 무선형 / 흡입전용 / [성능] 흡입력: 240...</td>\n",
       "      <td>1179610</td>\n",
       "    </tr>\n",
       "    <tr>\n",
       "      <th>42</th>\n",
       "      <td>45</td>\n",
       "      <td>조아스 차량용 에어건 청소기 JVC-2000</td>\n",
       "      <td>차량용청소기 / 무선 / 흡입력: 5,500Pa / 최대출력: 60W / 헤파필터 ...</td>\n",
       "      <td>38900</td>\n",
       "    </tr>\n",
       "    <tr>\n",
       "      <th>43</th>\n",
       "      <td>46</td>\n",
       "      <td>샤오미 SHUNZAO 차량용 무선청소기 2세대 Z1 (해외구매)</td>\n",
       "      <td>차량용청소기 / 무선 / 흡입력: 7,000Pa / 최대출력: 90W / 2중필터 ...</td>\n",
       "      <td>25130</td>\n",
       "    </tr>\n",
       "    <tr>\n",
       "      <th>44</th>\n",
       "      <td>47</td>\n",
       "      <td>m8q6EZFGXq</td>\n",
       "      <td>m8q6EZFGXq708939</td>\n",
       "      <td>708939</td>\n",
       "    </tr>\n",
       "    <tr>\n",
       "      <th>45</th>\n",
       "      <td>48</td>\n",
       "      <td>일렉트로룩스 WELL Q7 WQ71-2ESSF</td>\n",
       "      <td>핸디/스틱청소기 / 핸디+스틱형 / 무선형 / 흡입전용 / [성능] 싸이클론 / [...</td>\n",
       "      <td>193930</td>\n",
       "    </tr>\n",
       "    <tr>\n",
       "      <th>46</th>\n",
       "      <td>49</td>\n",
       "      <td>삼성전자 제트 VS15R8543Q4CW</td>\n",
       "      <td>핸디/스틱청소기 / 핸디+스틱형 / 무선형 / 흡입전용 / 소비전력: 410W / ...</td>\n",
       "      <td>464070</td>\n",
       "    </tr>\n",
       "    <tr>\n",
       "      <th>47</th>\n",
       "      <td>51</td>\n",
       "      <td>한샘 트리플 플러스 2.0 QNBC-6000W</td>\n",
       "      <td>욕실청소기 / 핸디+스틱형 / 무선형 / [배터리] 충전시간: 4시간 / 사용시간(...</td>\n",
       "      <td>65940</td>\n",
       "    </tr>\n",
       "    <tr>\n",
       "      <th>48</th>\n",
       "      <td>52</td>\n",
       "      <td>샤오미 TROUVER POWER 12</td>\n",
       "      <td>핸디/스틱청소기 / 핸디+스틱형 / 무선형 / 흡입전용 / 소비전력: 450W / ...</td>\n",
       "      <td>170190</td>\n",
       "    </tr>\n",
       "    <tr>\n",
       "      <th>49</th>\n",
       "      <td>53</td>\n",
       "      <td>LG전자 코드제로 A9 A9100S</td>\n",
       "      <td>핸디/스틱청소기 / 핸디+스틱형 / 무선형 / 흡입+걸레겸용 / 소비전력: 450W...</td>\n",
       "      <td>604360</td>\n",
       "    </tr>\n",
       "  </tbody>\n",
       "</table>\n",
       "</div>"
      ],
      "text/plain": [
       "    index                                    상품명  \\\n",
       "0       0      LG전자 오브제컬렉션 코드제로 ThinQ A9S AO9571   \n",
       "1       1                삼성전자 비스포크 제트 VS20A956A3   \n",
       "2       2          LG전자 코드제로 ThinQ A9S AS9370IKT   \n",
       "3       3  샤오미 CLEANFLY 차량용 무선 청소기 4세대 H2 (해외구매)   \n",
       "4       4                   샤오미 TROUVER POWER 11   \n",
       "5       5                             B1vVXWAHbT   \n",
       "6       7                베이스어스 차량용 청소기 A3 (해외구매)   \n",
       "7       8                            샤오미 드리미 V10   \n",
       "8       9                삼성전자 비스포크 제트 VS20A957E3   \n",
       "9      10             LG전자 코드제로 ThinQ A9S AS9470   \n",
       "10     11               일렉트로룩스 WELL Q6 WQ61-1OGG   \n",
       "11     13                    LG전자 코드제로 A9 A9100N   \n",
       "12     14          삼성전자 비스포크 제트 VS20A956A3 + 물걸레   \n",
       "13     15                        다이슨 V10 플러피 오리진   \n",
       "14     16              LG전자 코드제로 ThinQ A9S A9370   \n",
       "15     17                  LG전자 코드제로 A9 AS9100ST   \n",
       "16     19                삼성전자 비스포크 제트 VS20A957D2   \n",
       "17     20           샤오미 미지아 차량용 핸디 무선 청소기 (해외구매)   \n",
       "18     21                        델로라 V11 파워 300W   \n",
       "19     22                   일렉트로룩스 에르고라피도 ZB3311   \n",
       "20     23               삼성전자 비스포크 제트 VS20A956A3P   \n",
       "21     24                    삼성전자 제트 VS20T9210BF   \n",
       "22     25                            샤오미 드리미 V12   \n",
       "23     26                  DIBEA 차이슨 ALLNEW29000   \n",
       "24     27     샤오미 CLEANFLY 차량용 무선 청소기 3세대 (해외구매)   \n",
       "25     28               오아 클린보틀 차량용 청소기 OA-CL002   \n",
       "26     29                        다이슨 디지털 슬림 플러피+   \n",
       "27     30                            샤오미 드리미 V11   \n",
       "28     31                            로엘 듀스핀3 PRO   \n",
       "29     32             LG전자 코드제로 ThinQ A9S AS9471   \n",
       "30     33                  다이슨 V15 디텍트 앱솔루트 엑스트라   \n",
       "31     34    위드앤올 2in1 휴대용 무선 에어건 핸디 청소기 WNA-AG8   \n",
       "32     35          LG전자 코드제로 ThinQ A9S AS9371IKT   \n",
       "33     36            인트비즈 MORUN 차량용 무선 미니 청소기 V5   \n",
       "34     37                          DIBEA M24 MAX   \n",
       "35     38                  삼성전자 제트 VS20T9218QDCC   \n",
       "36     39           웍스 휴대용 차량용 충전 청소기 본체 WX030.9   \n",
       "37     40                  샤오미 미지아 차량용 핸디 무선 청소기   \n",
       "38     41                          샤오미 드리미 V11SE   \n",
       "39     42               삼성전자 비스포크 제트 VS20A957D3P   \n",
       "40     43                           오토모 ATM-H100   \n",
       "41     44                       다이슨 V15 디텍트 컴플리트   \n",
       "42     45               조아스 차량용 에어건 청소기 JVC-2000   \n",
       "43     46    샤오미 SHUNZAO 차량용 무선청소기 2세대 Z1 (해외구매)   \n",
       "44     47                             m8q6EZFGXq   \n",
       "45     48              일렉트로룩스 WELL Q7 WQ71-2ESSF   \n",
       "46     49                  삼성전자 제트 VS15R8543Q4CW   \n",
       "47     51              한샘 트리플 플러스 2.0 QNBC-6000W   \n",
       "48     52                   샤오미 TROUVER POWER 12   \n",
       "49     53                    LG전자 코드제로 A9 A9100S   \n",
       "\n",
       "                                                스펙 목록       가격  \n",
       "0   핸디/스틱청소기 / 핸디+스틱형 / 무선형 / 흡입+걸레겸용 / 소비전력: 590W...  1055760  \n",
       "1   핸디/스틱청소기 / 핸디+스틱형 / 무선형 / 흡입+걸레겸용 / [성능] 흡입력: ...   587830  \n",
       "2   핸디/스틱청소기 / 핸디+스틱형 / 무선형 / 흡입+걸레겸용 / 소비전력: 590W...   814610  \n",
       "3   차량용청소기 / 무선 / 흡입력: 16,800Pa / 최대출력: 120W / 헤파필...    60590  \n",
       "4   핸디/스틱청소기 / 핸디+스틱형 / 무선형 / 흡입전용 / 소비전력: 400W / ...    73950  \n",
       "5                                    B1vVXWAHbT483019   483019  \n",
       "6   차량용청소기 / 무선 / 흡입력: 15,000Pa / 최대출력: 135W / 헤파필...    50350  \n",
       "7   핸디/스틱청소기 / 핸디+스틱형 / 무선형 / 흡입전용 / 소비전력: 450W / ...   141435  \n",
       "8   핸디/스틱청소기 / 핸디+스틱형 / 무선형 / 흡입+걸레겸용 / [성능] 흡입력: ...   812900  \n",
       "9   핸디/스틱청소기 / 핸디+스틱형 / 무선형 / 흡입+걸레겸용 / 소비전력: 590W...   887360  \n",
       "10  핸디/스틱청소기 / 핸디+스틱형 / 무선형 / 흡입전용 / [성능] 싸이클론 / [...   122760  \n",
       "11  핸디/스틱청소기 / 핸디+스틱형 / 무선형 / 흡입+걸레겸용 / 소비전력: 450W...   536200  \n",
       "12  핸디/스틱청소기 / 핸디+스틱형 / 무선형 / 흡입+걸레겸용 / [성능] 흡입력: ...   704960  \n",
       "13  핸디/스틱청소기 / 핸디+스틱형 / 무선형 / 흡입전용 / [성능] 흡입력: 151...   533890  \n",
       "14  핸디/스틱청소기 / 핸디+스틱형 / 무선형 / 흡입+걸레겸용 / 소비전력: 590W...   669530  \n",
       "15  핸디/스틱청소기 / 핸디+스틱형 / 무선형 / 흡입+걸레겸용 / 소비전력: 450W...   709100  \n",
       "16  핸디/스틱청소기 / 핸디+스틱형 / 무선형 / 흡입+걸레겸용 / [성능] 흡입력: ...   745550  \n",
       "17  차량용청소기 / 무선 / 흡입력: 13,000Pa / 최대출력: 120W / 헤파필...    41060  \n",
       "18  핸디/스틱청소기 / 핸디+스틱형 / 무선형 / 흡입전용 / 소비전력: 300W / ...   104480  \n",
       "19  핸디/스틱청소기 / 핸디+스틱형 / 무선형 / 흡입전용 / [성능] 싸이클론 / [...   129110  \n",
       "20  핸디/스틱청소기 / 핸디+스틱형 / 무선형 / 흡입+걸레겸용 / [성능] 흡입력: ...   600140  \n",
       "21  핸디/스틱청소기 / 핸디+스틱형 / 무선형 / 흡입+걸레겸용 / 소비전력: 550W...   459400  \n",
       "22  핸디/스틱청소기 / 핸디+스틱형 / 무선형 / 흡입+걸레겸용 / 소비전력: 550W...   301680  \n",
       "23  핸디/스틱청소기 / 핸디+스틱형 / 무선형 / 흡입+걸레겸용 / 소비전력: 380W...   248000  \n",
       "24  차량용청소기 / 무선 / 흡입력: 16,800Pa / 최대출력: 120W / 헤파필...    58100  \n",
       "25  차량용청소기 / 무선 / 흡입력: 6,500Pa / 헤파필터 / 추가노즐: 틈새, ...    57900  \n",
       "26  핸디/스틱청소기 / 핸디+스틱형 / 무선형 / 흡입전용 / [성능] 흡입력: 100...   607750  \n",
       "27  핸디/스틱청소기 / 핸디+스틱형 / 무선형 / 흡입+걸레겸용 / 소비전력: 450W...   213640  \n",
       "28  물걸레청소기 / 스틱형 / 물걸레전용 / 회전식 / 무선형 / 충전시간: 4시간 /...   177900  \n",
       "29  핸디/스틱청소기 / 핸디+스틱형 / 무선형 / 흡입+걸레겸용 / 소비전력: 590W...   913370  \n",
       "30  핸디/스틱청소기 / 핸디+스틱형 / 무선형 / 흡입전용 / [성능] 흡입력: 240...  1247840  \n",
       "31  차량용청소기 / 무선 / 흡입력: 8,000Pa / 최대출력: 75W / 추가노즐:...    77860  \n",
       "32  핸디/스틱청소기 / 핸디+스틱형 / 무선형 / 흡입+걸레겸용 / 소비전력: 590W...   915010  \n",
       "33  차량용청소기 / 무선 / 흡입력: 13,000Pa / 헤파필터 / 추가노즐: 틈새,...    89000  \n",
       "34  핸디/스틱청소기 / 핸디+스틱형 / 무선형 / 흡입+걸레겸용 / 소비전력: 400W...   139000  \n",
       "35  핸디/스틱청소기 / 핸디+스틱형 / 무선형 / 흡입+걸레겸용 / 소비전력: 550W...   547060  \n",
       "36  차량용청소기 / 무선 / 흡입력: 10,000Pa / 최대출력: 180W / 3중필...    56000  \n",
       "37  차량용청소기 / 무선 / 흡입력: 13,000Pa / 최대출력: 120W / 헤파필...    39900  \n",
       "38  핸디/스틱청소기 / 핸디+스틱형 / 무선형 / 흡입전용 / 소비전력: 450W / ...   179900  \n",
       "39  핸디/스틱청소기 / 핸디+스틱형 / 무선형 / 흡입+걸레겸용 / [성능] 흡입력: ...   810790  \n",
       "40  핸디/스틱청소기 / 핸디형 / 무선형 / 흡입전용 / 소비전력: 70W / [배터리...    31330  \n",
       "41  핸디/스틱청소기 / 핸디+스틱형 / 무선형 / 흡입전용 / [성능] 흡입력: 240...  1179610  \n",
       "42  차량용청소기 / 무선 / 흡입력: 5,500Pa / 최대출력: 60W / 헤파필터 ...    38900  \n",
       "43  차량용청소기 / 무선 / 흡입력: 7,000Pa / 최대출력: 90W / 2중필터 ...    25130  \n",
       "44                                   m8q6EZFGXq708939   708939  \n",
       "45  핸디/스틱청소기 / 핸디+스틱형 / 무선형 / 흡입전용 / [성능] 싸이클론 / [...   193930  \n",
       "46  핸디/스틱청소기 / 핸디+스틱형 / 무선형 / 흡입전용 / 소비전력: 410W / ...   464070  \n",
       "47  욕실청소기 / 핸디+스틱형 / 무선형 / [배터리] 충전시간: 4시간 / 사용시간(...    65940  \n",
       "48  핸디/스틱청소기 / 핸디+스틱형 / 무선형 / 흡입전용 / 소비전력: 450W / ...   170190  \n",
       "49  핸디/스틱청소기 / 핸디+스틱형 / 무선형 / 흡입+걸레겸용 / 소비전력: 450W...   604360  "
      ]
     },
     "execution_count": 203,
     "metadata": {},
     "output_type": "execute_result"
    }
   ],
   "source": [
    "data_2.head(50)"
   ]
  },
  {
   "cell_type": "code",
   "execution_count": 204,
   "metadata": {},
   "outputs": [],
   "source": [
    "idx=[]\n",
    "for i in range(len(data_2['상품명'])):\n",
    "    if len(data_2['상품명'][i].split()) <= 1:\n",
    "        idx.append(i)\n",
    "        "
   ]
  },
  {
   "cell_type": "code",
   "execution_count": 205,
   "metadata": {
    "scrolled": false
   },
   "outputs": [
    {
     "data": {
      "text/plain": [
       "4"
      ]
     },
     "execution_count": 205,
     "metadata": {},
     "output_type": "execute_result"
    }
   ],
   "source": [
    "len(idx)"
   ]
  },
  {
   "cell_type": "code",
   "execution_count": 206,
   "metadata": {},
   "outputs": [
    {
     "data": {
      "text/plain": [
       "[5, 44, 83, 125]"
      ]
     },
     "execution_count": 206,
     "metadata": {},
     "output_type": "execute_result"
    }
   ],
   "source": [
    "idx"
   ]
  },
  {
   "cell_type": "code",
   "execution_count": 207,
   "metadata": {},
   "outputs": [],
   "source": [
    "data_3=data_2.drop(index=idx, inplace=False)\n"
   ]
  },
  {
   "cell_type": "code",
   "execution_count": 208,
   "metadata": {},
   "outputs": [
    {
     "data": {
      "text/html": [
       "<div>\n",
       "<style scoped>\n",
       "    .dataframe tbody tr th:only-of-type {\n",
       "        vertical-align: middle;\n",
       "    }\n",
       "\n",
       "    .dataframe tbody tr th {\n",
       "        vertical-align: top;\n",
       "    }\n",
       "\n",
       "    .dataframe thead th {\n",
       "        text-align: right;\n",
       "    }\n",
       "</style>\n",
       "<table border=\"1\" class=\"dataframe\">\n",
       "  <thead>\n",
       "    <tr style=\"text-align: right;\">\n",
       "      <th></th>\n",
       "      <th>index</th>\n",
       "      <th>상품명</th>\n",
       "      <th>스펙 목록</th>\n",
       "      <th>가격</th>\n",
       "    </tr>\n",
       "  </thead>\n",
       "  <tbody>\n",
       "    <tr>\n",
       "      <th>0</th>\n",
       "      <td>0</td>\n",
       "      <td>LG전자 오브제컬렉션 코드제로 ThinQ A9S AO9571</td>\n",
       "      <td>핸디/스틱청소기 / 핸디+스틱형 / 무선형 / 흡입+걸레겸용 / 소비전력: 590W...</td>\n",
       "      <td>1055760</td>\n",
       "    </tr>\n",
       "    <tr>\n",
       "      <th>1</th>\n",
       "      <td>1</td>\n",
       "      <td>삼성전자 비스포크 제트 VS20A956A3</td>\n",
       "      <td>핸디/스틱청소기 / 핸디+스틱형 / 무선형 / 흡입+걸레겸용 / [성능] 흡입력: ...</td>\n",
       "      <td>587830</td>\n",
       "    </tr>\n",
       "    <tr>\n",
       "      <th>2</th>\n",
       "      <td>2</td>\n",
       "      <td>LG전자 코드제로 ThinQ A9S AS9370IKT</td>\n",
       "      <td>핸디/스틱청소기 / 핸디+스틱형 / 무선형 / 흡입+걸레겸용 / 소비전력: 590W...</td>\n",
       "      <td>814610</td>\n",
       "    </tr>\n",
       "    <tr>\n",
       "      <th>3</th>\n",
       "      <td>3</td>\n",
       "      <td>샤오미 CLEANFLY 차량용 무선 청소기 4세대 H2 (해외구매)</td>\n",
       "      <td>차량용청소기 / 무선 / 흡입력: 16,800Pa / 최대출력: 120W / 헤파필...</td>\n",
       "      <td>60590</td>\n",
       "    </tr>\n",
       "    <tr>\n",
       "      <th>4</th>\n",
       "      <td>4</td>\n",
       "      <td>샤오미 TROUVER POWER 11</td>\n",
       "      <td>핸디/스틱청소기 / 핸디+스틱형 / 무선형 / 흡입전용 / 소비전력: 400W / ...</td>\n",
       "      <td>73950</td>\n",
       "    </tr>\n",
       "    <tr>\n",
       "      <th>...</th>\n",
       "      <td>...</td>\n",
       "      <td>...</td>\n",
       "      <td>...</td>\n",
       "      <td>...</td>\n",
       "    </tr>\n",
       "    <tr>\n",
       "      <th>159</th>\n",
       "      <td>171</td>\n",
       "      <td>DIBEA D18</td>\n",
       "      <td>핸디/스틱청소기 / 핸디+스틱형 / 무선형 / 소비전력: 120W / [성능] 흡입...</td>\n",
       "      <td>83160</td>\n",
       "    </tr>\n",
       "    <tr>\n",
       "      <th>160</th>\n",
       "      <td>172</td>\n",
       "      <td>로엘 듀스핀2</td>\n",
       "      <td>물걸레청소기 / 스틱형 / 회전식 / 무선형 / 배터리: 리튬이온 / 충전시간: 3...</td>\n",
       "      <td>62950</td>\n",
       "    </tr>\n",
       "    <tr>\n",
       "      <th>161</th>\n",
       "      <td>173</td>\n",
       "      <td>블랙파인 VC-P9</td>\n",
       "      <td>물걸레청소기 / 스틱+핸디형 / 물걸레전용 / 회전식 / 무선형 / 충전시간: 5시...</td>\n",
       "      <td>278000</td>\n",
       "    </tr>\n",
       "    <tr>\n",
       "      <th>162</th>\n",
       "      <td>174</td>\n",
       "      <td>삼성전자 비스포크 제트 VS20A957G3P</td>\n",
       "      <td>핸디/스틱청소기 / 핸디+스틱형 / 무선형 / 흡입+걸레겸용 / [성능] 흡입력: ...</td>\n",
       "      <td>1697300</td>\n",
       "    </tr>\n",
       "    <tr>\n",
       "      <th>163</th>\n",
       "      <td>175</td>\n",
       "      <td>오토모 AVC-OTOA2</td>\n",
       "      <td>핸디/스틱청소기 / 핸디+스틱형 / 무선형 / 흡입전용 / 소비전력: 200W / ...</td>\n",
       "      <td>590000</td>\n",
       "    </tr>\n",
       "  </tbody>\n",
       "</table>\n",
       "<p>160 rows × 4 columns</p>\n",
       "</div>"
      ],
      "text/plain": [
       "     index                                    상품명  \\\n",
       "0        0      LG전자 오브제컬렉션 코드제로 ThinQ A9S AO9571   \n",
       "1        1                삼성전자 비스포크 제트 VS20A956A3   \n",
       "2        2          LG전자 코드제로 ThinQ A9S AS9370IKT   \n",
       "3        3  샤오미 CLEANFLY 차량용 무선 청소기 4세대 H2 (해외구매)   \n",
       "4        4                   샤오미 TROUVER POWER 11   \n",
       "..     ...                                    ...   \n",
       "159    171                              DIBEA D18   \n",
       "160    172                                로엘 듀스핀2   \n",
       "161    173                             블랙파인 VC-P9   \n",
       "162    174               삼성전자 비스포크 제트 VS20A957G3P   \n",
       "163    175                          오토모 AVC-OTOA2   \n",
       "\n",
       "                                                 스펙 목록       가격  \n",
       "0    핸디/스틱청소기 / 핸디+스틱형 / 무선형 / 흡입+걸레겸용 / 소비전력: 590W...  1055760  \n",
       "1    핸디/스틱청소기 / 핸디+스틱형 / 무선형 / 흡입+걸레겸용 / [성능] 흡입력: ...   587830  \n",
       "2    핸디/스틱청소기 / 핸디+스틱형 / 무선형 / 흡입+걸레겸용 / 소비전력: 590W...   814610  \n",
       "3    차량용청소기 / 무선 / 흡입력: 16,800Pa / 최대출력: 120W / 헤파필...    60590  \n",
       "4    핸디/스틱청소기 / 핸디+스틱형 / 무선형 / 흡입전용 / 소비전력: 400W / ...    73950  \n",
       "..                                                 ...      ...  \n",
       "159  핸디/스틱청소기 / 핸디+스틱형 / 무선형 / 소비전력: 120W / [성능] 흡입...    83160  \n",
       "160  물걸레청소기 / 스틱형 / 회전식 / 무선형 / 배터리: 리튬이온 / 충전시간: 3...    62950  \n",
       "161  물걸레청소기 / 스틱+핸디형 / 물걸레전용 / 회전식 / 무선형 / 충전시간: 5시...   278000  \n",
       "162  핸디/스틱청소기 / 핸디+스틱형 / 무선형 / 흡입+걸레겸용 / [성능] 흡입력: ...  1697300  \n",
       "163  핸디/스틱청소기 / 핸디+스틱형 / 무선형 / 흡입전용 / 소비전력: 200W / ...   590000  \n",
       "\n",
       "[160 rows x 4 columns]"
      ]
     },
     "execution_count": 208,
     "metadata": {},
     "output_type": "execute_result"
    }
   ],
   "source": [
    "data_3"
   ]
  },
  {
   "cell_type": "code",
   "execution_count": 209,
   "metadata": {},
   "outputs": [],
   "source": [
    "data_4=data_3.drop(columns='index')"
   ]
  },
  {
   "cell_type": "code",
   "execution_count": 210,
   "metadata": {},
   "outputs": [
    {
     "data": {
      "text/html": [
       "<div>\n",
       "<style scoped>\n",
       "    .dataframe tbody tr th:only-of-type {\n",
       "        vertical-align: middle;\n",
       "    }\n",
       "\n",
       "    .dataframe tbody tr th {\n",
       "        vertical-align: top;\n",
       "    }\n",
       "\n",
       "    .dataframe thead th {\n",
       "        text-align: right;\n",
       "    }\n",
       "</style>\n",
       "<table border=\"1\" class=\"dataframe\">\n",
       "  <thead>\n",
       "    <tr style=\"text-align: right;\">\n",
       "      <th></th>\n",
       "      <th>상품명</th>\n",
       "      <th>스펙 목록</th>\n",
       "      <th>가격</th>\n",
       "    </tr>\n",
       "  </thead>\n",
       "  <tbody>\n",
       "    <tr>\n",
       "      <th>0</th>\n",
       "      <td>LG전자 오브제컬렉션 코드제로 ThinQ A9S AO9571</td>\n",
       "      <td>핸디/스틱청소기 / 핸디+스틱형 / 무선형 / 흡입+걸레겸용 / 소비전력: 590W...</td>\n",
       "      <td>1055760</td>\n",
       "    </tr>\n",
       "    <tr>\n",
       "      <th>1</th>\n",
       "      <td>삼성전자 비스포크 제트 VS20A956A3</td>\n",
       "      <td>핸디/스틱청소기 / 핸디+스틱형 / 무선형 / 흡입+걸레겸용 / [성능] 흡입력: ...</td>\n",
       "      <td>587830</td>\n",
       "    </tr>\n",
       "    <tr>\n",
       "      <th>2</th>\n",
       "      <td>LG전자 코드제로 ThinQ A9S AS9370IKT</td>\n",
       "      <td>핸디/스틱청소기 / 핸디+스틱형 / 무선형 / 흡입+걸레겸용 / 소비전력: 590W...</td>\n",
       "      <td>814610</td>\n",
       "    </tr>\n",
       "    <tr>\n",
       "      <th>3</th>\n",
       "      <td>샤오미 CLEANFLY 차량용 무선 청소기 4세대 H2 (해외구매)</td>\n",
       "      <td>차량용청소기 / 무선 / 흡입력: 16,800Pa / 최대출력: 120W / 헤파필...</td>\n",
       "      <td>60590</td>\n",
       "    </tr>\n",
       "    <tr>\n",
       "      <th>4</th>\n",
       "      <td>샤오미 TROUVER POWER 11</td>\n",
       "      <td>핸디/스틱청소기 / 핸디+스틱형 / 무선형 / 흡입전용 / 소비전력: 400W / ...</td>\n",
       "      <td>73950</td>\n",
       "    </tr>\n",
       "    <tr>\n",
       "      <th>...</th>\n",
       "      <td>...</td>\n",
       "      <td>...</td>\n",
       "      <td>...</td>\n",
       "    </tr>\n",
       "    <tr>\n",
       "      <th>159</th>\n",
       "      <td>DIBEA D18</td>\n",
       "      <td>핸디/스틱청소기 / 핸디+스틱형 / 무선형 / 소비전력: 120W / [성능] 흡입...</td>\n",
       "      <td>83160</td>\n",
       "    </tr>\n",
       "    <tr>\n",
       "      <th>160</th>\n",
       "      <td>로엘 듀스핀2</td>\n",
       "      <td>물걸레청소기 / 스틱형 / 회전식 / 무선형 / 배터리: 리튬이온 / 충전시간: 3...</td>\n",
       "      <td>62950</td>\n",
       "    </tr>\n",
       "    <tr>\n",
       "      <th>161</th>\n",
       "      <td>블랙파인 VC-P9</td>\n",
       "      <td>물걸레청소기 / 스틱+핸디형 / 물걸레전용 / 회전식 / 무선형 / 충전시간: 5시...</td>\n",
       "      <td>278000</td>\n",
       "    </tr>\n",
       "    <tr>\n",
       "      <th>162</th>\n",
       "      <td>삼성전자 비스포크 제트 VS20A957G3P</td>\n",
       "      <td>핸디/스틱청소기 / 핸디+스틱형 / 무선형 / 흡입+걸레겸용 / [성능] 흡입력: ...</td>\n",
       "      <td>1697300</td>\n",
       "    </tr>\n",
       "    <tr>\n",
       "      <th>163</th>\n",
       "      <td>오토모 AVC-OTOA2</td>\n",
       "      <td>핸디/스틱청소기 / 핸디+스틱형 / 무선형 / 흡입전용 / 소비전력: 200W / ...</td>\n",
       "      <td>590000</td>\n",
       "    </tr>\n",
       "  </tbody>\n",
       "</table>\n",
       "<p>160 rows × 3 columns</p>\n",
       "</div>"
      ],
      "text/plain": [
       "                                       상품명  \\\n",
       "0        LG전자 오브제컬렉션 코드제로 ThinQ A9S AO9571   \n",
       "1                  삼성전자 비스포크 제트 VS20A956A3   \n",
       "2            LG전자 코드제로 ThinQ A9S AS9370IKT   \n",
       "3    샤오미 CLEANFLY 차량용 무선 청소기 4세대 H2 (해외구매)   \n",
       "4                     샤오미 TROUVER POWER 11   \n",
       "..                                     ...   \n",
       "159                              DIBEA D18   \n",
       "160                                로엘 듀스핀2   \n",
       "161                             블랙파인 VC-P9   \n",
       "162               삼성전자 비스포크 제트 VS20A957G3P   \n",
       "163                          오토모 AVC-OTOA2   \n",
       "\n",
       "                                                 스펙 목록       가격  \n",
       "0    핸디/스틱청소기 / 핸디+스틱형 / 무선형 / 흡입+걸레겸용 / 소비전력: 590W...  1055760  \n",
       "1    핸디/스틱청소기 / 핸디+스틱형 / 무선형 / 흡입+걸레겸용 / [성능] 흡입력: ...   587830  \n",
       "2    핸디/스틱청소기 / 핸디+스틱형 / 무선형 / 흡입+걸레겸용 / 소비전력: 590W...   814610  \n",
       "3    차량용청소기 / 무선 / 흡입력: 16,800Pa / 최대출력: 120W / 헤파필...    60590  \n",
       "4    핸디/스틱청소기 / 핸디+스틱형 / 무선형 / 흡입전용 / 소비전력: 400W / ...    73950  \n",
       "..                                                 ...      ...  \n",
       "159  핸디/스틱청소기 / 핸디+스틱형 / 무선형 / 소비전력: 120W / [성능] 흡입...    83160  \n",
       "160  물걸레청소기 / 스틱형 / 회전식 / 무선형 / 배터리: 리튬이온 / 충전시간: 3...    62950  \n",
       "161  물걸레청소기 / 스틱+핸디형 / 물걸레전용 / 회전식 / 무선형 / 충전시간: 5시...   278000  \n",
       "162  핸디/스틱청소기 / 핸디+스틱형 / 무선형 / 흡입+걸레겸용 / [성능] 흡입력: ...  1697300  \n",
       "163  핸디/스틱청소기 / 핸디+스틱형 / 무선형 / 흡입전용 / 소비전력: 200W / ...   590000  \n",
       "\n",
       "[160 rows x 3 columns]"
      ]
     },
     "execution_count": 210,
     "metadata": {},
     "output_type": "execute_result"
    }
   ],
   "source": [
    "data_4"
   ]
  },
  {
   "cell_type": "code",
   "execution_count": 211,
   "metadata": {},
   "outputs": [],
   "source": [
    "data4=data_4.reset_index()\n"
   ]
  },
  {
   "cell_type": "code",
   "execution_count": 212,
   "metadata": {},
   "outputs": [
    {
     "data": {
      "text/html": [
       "<div>\n",
       "<style scoped>\n",
       "    .dataframe tbody tr th:only-of-type {\n",
       "        vertical-align: middle;\n",
       "    }\n",
       "\n",
       "    .dataframe tbody tr th {\n",
       "        vertical-align: top;\n",
       "    }\n",
       "\n",
       "    .dataframe thead th {\n",
       "        text-align: right;\n",
       "    }\n",
       "</style>\n",
       "<table border=\"1\" class=\"dataframe\">\n",
       "  <thead>\n",
       "    <tr style=\"text-align: right;\">\n",
       "      <th></th>\n",
       "      <th>상품명</th>\n",
       "      <th>스펙 목록</th>\n",
       "      <th>가격</th>\n",
       "    </tr>\n",
       "  </thead>\n",
       "  <tbody>\n",
       "    <tr>\n",
       "      <th>0</th>\n",
       "      <td>LG전자 오브제컬렉션 코드제로 ThinQ A9S AO9571</td>\n",
       "      <td>핸디/스틱청소기 / 핸디+스틱형 / 무선형 / 흡입+걸레겸용 / 소비전력: 590W...</td>\n",
       "      <td>1055760</td>\n",
       "    </tr>\n",
       "    <tr>\n",
       "      <th>1</th>\n",
       "      <td>삼성전자 비스포크 제트 VS20A956A3</td>\n",
       "      <td>핸디/스틱청소기 / 핸디+스틱형 / 무선형 / 흡입+걸레겸용 / [성능] 흡입력: ...</td>\n",
       "      <td>587830</td>\n",
       "    </tr>\n",
       "    <tr>\n",
       "      <th>2</th>\n",
       "      <td>LG전자 코드제로 ThinQ A9S AS9370IKT</td>\n",
       "      <td>핸디/스틱청소기 / 핸디+스틱형 / 무선형 / 흡입+걸레겸용 / 소비전력: 590W...</td>\n",
       "      <td>814610</td>\n",
       "    </tr>\n",
       "    <tr>\n",
       "      <th>3</th>\n",
       "      <td>샤오미 CLEANFLY 차량용 무선 청소기 4세대 H2 (해외구매)</td>\n",
       "      <td>차량용청소기 / 무선 / 흡입력: 16,800Pa / 최대출력: 120W / 헤파필...</td>\n",
       "      <td>60590</td>\n",
       "    </tr>\n",
       "    <tr>\n",
       "      <th>4</th>\n",
       "      <td>샤오미 TROUVER POWER 11</td>\n",
       "      <td>핸디/스틱청소기 / 핸디+스틱형 / 무선형 / 흡입전용 / 소비전력: 400W / ...</td>\n",
       "      <td>73950</td>\n",
       "    </tr>\n",
       "    <tr>\n",
       "      <th>...</th>\n",
       "      <td>...</td>\n",
       "      <td>...</td>\n",
       "      <td>...</td>\n",
       "    </tr>\n",
       "    <tr>\n",
       "      <th>159</th>\n",
       "      <td>DIBEA D18</td>\n",
       "      <td>핸디/스틱청소기 / 핸디+스틱형 / 무선형 / 소비전력: 120W / [성능] 흡입...</td>\n",
       "      <td>83160</td>\n",
       "    </tr>\n",
       "    <tr>\n",
       "      <th>160</th>\n",
       "      <td>로엘 듀스핀2</td>\n",
       "      <td>물걸레청소기 / 스틱형 / 회전식 / 무선형 / 배터리: 리튬이온 / 충전시간: 3...</td>\n",
       "      <td>62950</td>\n",
       "    </tr>\n",
       "    <tr>\n",
       "      <th>161</th>\n",
       "      <td>블랙파인 VC-P9</td>\n",
       "      <td>물걸레청소기 / 스틱+핸디형 / 물걸레전용 / 회전식 / 무선형 / 충전시간: 5시...</td>\n",
       "      <td>278000</td>\n",
       "    </tr>\n",
       "    <tr>\n",
       "      <th>162</th>\n",
       "      <td>삼성전자 비스포크 제트 VS20A957G3P</td>\n",
       "      <td>핸디/스틱청소기 / 핸디+스틱형 / 무선형 / 흡입+걸레겸용 / [성능] 흡입력: ...</td>\n",
       "      <td>1697300</td>\n",
       "    </tr>\n",
       "    <tr>\n",
       "      <th>163</th>\n",
       "      <td>오토모 AVC-OTOA2</td>\n",
       "      <td>핸디/스틱청소기 / 핸디+스틱형 / 무선형 / 흡입전용 / 소비전력: 200W / ...</td>\n",
       "      <td>590000</td>\n",
       "    </tr>\n",
       "  </tbody>\n",
       "</table>\n",
       "<p>160 rows × 3 columns</p>\n",
       "</div>"
      ],
      "text/plain": [
       "                                       상품명  \\\n",
       "0        LG전자 오브제컬렉션 코드제로 ThinQ A9S AO9571   \n",
       "1                  삼성전자 비스포크 제트 VS20A956A3   \n",
       "2            LG전자 코드제로 ThinQ A9S AS9370IKT   \n",
       "3    샤오미 CLEANFLY 차량용 무선 청소기 4세대 H2 (해외구매)   \n",
       "4                     샤오미 TROUVER POWER 11   \n",
       "..                                     ...   \n",
       "159                              DIBEA D18   \n",
       "160                                로엘 듀스핀2   \n",
       "161                             블랙파인 VC-P9   \n",
       "162               삼성전자 비스포크 제트 VS20A957G3P   \n",
       "163                          오토모 AVC-OTOA2   \n",
       "\n",
       "                                                 스펙 목록       가격  \n",
       "0    핸디/스틱청소기 / 핸디+스틱형 / 무선형 / 흡입+걸레겸용 / 소비전력: 590W...  1055760  \n",
       "1    핸디/스틱청소기 / 핸디+스틱형 / 무선형 / 흡입+걸레겸용 / [성능] 흡입력: ...   587830  \n",
       "2    핸디/스틱청소기 / 핸디+스틱형 / 무선형 / 흡입+걸레겸용 / 소비전력: 590W...   814610  \n",
       "3    차량용청소기 / 무선 / 흡입력: 16,800Pa / 최대출력: 120W / 헤파필...    60590  \n",
       "4    핸디/스틱청소기 / 핸디+스틱형 / 무선형 / 흡입전용 / 소비전력: 400W / ...    73950  \n",
       "..                                                 ...      ...  \n",
       "159  핸디/스틱청소기 / 핸디+스틱형 / 무선형 / 소비전력: 120W / [성능] 흡입...    83160  \n",
       "160  물걸레청소기 / 스틱형 / 회전식 / 무선형 / 배터리: 리튬이온 / 충전시간: 3...    62950  \n",
       "161  물걸레청소기 / 스틱+핸디형 / 물걸레전용 / 회전식 / 무선형 / 충전시간: 5시...   278000  \n",
       "162  핸디/스틱청소기 / 핸디+스틱형 / 무선형 / 흡입+걸레겸용 / [성능] 흡입력: ...  1697300  \n",
       "163  핸디/스틱청소기 / 핸디+스틱형 / 무선형 / 흡입전용 / 소비전력: 200W / ...   590000  \n",
       "\n",
       "[160 rows x 3 columns]"
      ]
     },
     "execution_count": 212,
     "metadata": {},
     "output_type": "execute_result"
    }
   ],
   "source": [
    "data_4"
   ]
  },
  {
   "cell_type": "code",
   "execution_count": 213,
   "metadata": {},
   "outputs": [],
   "source": [
    "data_4.to_excel('./danawa_crawling_result_final_2.xlsx', index = False)"
   ]
  },
  {
   "cell_type": "code",
   "execution_count": 215,
   "metadata": {},
   "outputs": [
    {
     "data": {
      "text/html": [
       "<div>\n",
       "<style scoped>\n",
       "    .dataframe tbody tr th:only-of-type {\n",
       "        vertical-align: middle;\n",
       "    }\n",
       "\n",
       "    .dataframe tbody tr th {\n",
       "        vertical-align: top;\n",
       "    }\n",
       "\n",
       "    .dataframe thead th {\n",
       "        text-align: right;\n",
       "    }\n",
       "</style>\n",
       "<table border=\"1\" class=\"dataframe\">\n",
       "  <thead>\n",
       "    <tr style=\"text-align: right;\">\n",
       "      <th></th>\n",
       "      <th>상품명</th>\n",
       "      <th>스펙 목록</th>\n",
       "      <th>가격</th>\n",
       "    </tr>\n",
       "  </thead>\n",
       "  <tbody>\n",
       "    <tr>\n",
       "      <th>0</th>\n",
       "      <td>LG전자 오브제컬렉션 코드제로 ThinQ A9S AO9571</td>\n",
       "      <td>핸디/스틱청소기 / 핸디+스틱형 / 무선형 / 흡입+걸레겸용 / 소비전력: 590W...</td>\n",
       "      <td>1055760</td>\n",
       "    </tr>\n",
       "    <tr>\n",
       "      <th>1</th>\n",
       "      <td>삼성전자 비스포크 제트 VS20A956A3</td>\n",
       "      <td>핸디/스틱청소기 / 핸디+스틱형 / 무선형 / 흡입+걸레겸용 / [성능] 흡입력: ...</td>\n",
       "      <td>587830</td>\n",
       "    </tr>\n",
       "    <tr>\n",
       "      <th>2</th>\n",
       "      <td>LG전자 코드제로 ThinQ A9S AS9370IKT</td>\n",
       "      <td>핸디/스틱청소기 / 핸디+스틱형 / 무선형 / 흡입+걸레겸용 / 소비전력: 590W...</td>\n",
       "      <td>814610</td>\n",
       "    </tr>\n",
       "    <tr>\n",
       "      <th>3</th>\n",
       "      <td>샤오미 CLEANFLY 차량용 무선 청소기 4세대 H2 (해외구매)</td>\n",
       "      <td>차량용청소기 / 무선 / 흡입력: 16,800Pa / 최대출력: 120W / 헤파필...</td>\n",
       "      <td>60590</td>\n",
       "    </tr>\n",
       "    <tr>\n",
       "      <th>4</th>\n",
       "      <td>샤오미 TROUVER POWER 11</td>\n",
       "      <td>핸디/스틱청소기 / 핸디+스틱형 / 무선형 / 흡입전용 / 소비전력: 400W / ...</td>\n",
       "      <td>73950</td>\n",
       "    </tr>\n",
       "    <tr>\n",
       "      <th>...</th>\n",
       "      <td>...</td>\n",
       "      <td>...</td>\n",
       "      <td>...</td>\n",
       "    </tr>\n",
       "    <tr>\n",
       "      <th>155</th>\n",
       "      <td>DIBEA D18</td>\n",
       "      <td>핸디/스틱청소기 / 핸디+스틱형 / 무선형 / 소비전력: 120W / [성능] 흡입...</td>\n",
       "      <td>83160</td>\n",
       "    </tr>\n",
       "    <tr>\n",
       "      <th>156</th>\n",
       "      <td>로엘 듀스핀2</td>\n",
       "      <td>물걸레청소기 / 스틱형 / 회전식 / 무선형 / 배터리: 리튬이온 / 충전시간: 3...</td>\n",
       "      <td>62950</td>\n",
       "    </tr>\n",
       "    <tr>\n",
       "      <th>157</th>\n",
       "      <td>블랙파인 VC-P9</td>\n",
       "      <td>물걸레청소기 / 스틱+핸디형 / 물걸레전용 / 회전식 / 무선형 / 충전시간: 5시...</td>\n",
       "      <td>278000</td>\n",
       "    </tr>\n",
       "    <tr>\n",
       "      <th>158</th>\n",
       "      <td>삼성전자 비스포크 제트 VS20A957G3P</td>\n",
       "      <td>핸디/스틱청소기 / 핸디+스틱형 / 무선형 / 흡입+걸레겸용 / [성능] 흡입력: ...</td>\n",
       "      <td>1697300</td>\n",
       "    </tr>\n",
       "    <tr>\n",
       "      <th>159</th>\n",
       "      <td>오토모 AVC-OTOA2</td>\n",
       "      <td>핸디/스틱청소기 / 핸디+스틱형 / 무선형 / 흡입전용 / 소비전력: 200W / ...</td>\n",
       "      <td>590000</td>\n",
       "    </tr>\n",
       "  </tbody>\n",
       "</table>\n",
       "<p>160 rows × 3 columns</p>\n",
       "</div>"
      ],
      "text/plain": [
       "                                       상품명  \\\n",
       "0        LG전자 오브제컬렉션 코드제로 ThinQ A9S AO9571   \n",
       "1                  삼성전자 비스포크 제트 VS20A956A3   \n",
       "2            LG전자 코드제로 ThinQ A9S AS9370IKT   \n",
       "3    샤오미 CLEANFLY 차량용 무선 청소기 4세대 H2 (해외구매)   \n",
       "4                     샤오미 TROUVER POWER 11   \n",
       "..                                     ...   \n",
       "155                              DIBEA D18   \n",
       "156                                로엘 듀스핀2   \n",
       "157                             블랙파인 VC-P9   \n",
       "158               삼성전자 비스포크 제트 VS20A957G3P   \n",
       "159                          오토모 AVC-OTOA2   \n",
       "\n",
       "                                                 스펙 목록       가격  \n",
       "0    핸디/스틱청소기 / 핸디+스틱형 / 무선형 / 흡입+걸레겸용 / 소비전력: 590W...  1055760  \n",
       "1    핸디/스틱청소기 / 핸디+스틱형 / 무선형 / 흡입+걸레겸용 / [성능] 흡입력: ...   587830  \n",
       "2    핸디/스틱청소기 / 핸디+스틱형 / 무선형 / 흡입+걸레겸용 / 소비전력: 590W...   814610  \n",
       "3    차량용청소기 / 무선 / 흡입력: 16,800Pa / 최대출력: 120W / 헤파필...    60590  \n",
       "4    핸디/스틱청소기 / 핸디+스틱형 / 무선형 / 흡입전용 / 소비전력: 400W / ...    73950  \n",
       "..                                                 ...      ...  \n",
       "155  핸디/스틱청소기 / 핸디+스틱형 / 무선형 / 소비전력: 120W / [성능] 흡입...    83160  \n",
       "156  물걸레청소기 / 스틱형 / 회전식 / 무선형 / 배터리: 리튬이온 / 충전시간: 3...    62950  \n",
       "157  물걸레청소기 / 스틱+핸디형 / 물걸레전용 / 회전식 / 무선형 / 충전시간: 5시...   278000  \n",
       "158  핸디/스틱청소기 / 핸디+스틱형 / 무선형 / 흡입+걸레겸용 / [성능] 흡입력: ...  1697300  \n",
       "159  핸디/스틱청소기 / 핸디+스틱형 / 무선형 / 흡입전용 / 소비전력: 200W / ...   590000  \n",
       "\n",
       "[160 rows x 3 columns]"
      ]
     },
     "execution_count": 215,
     "metadata": {},
     "output_type": "execute_result"
    }
   ],
   "source": [
    "# 예제 7-17 다나와 크롤링 결과 가져오기 \n",
    "import pandas as pd\n",
    "data_final = pd.read_excel('./danawa_crawling_result_final_2.xlsx')\n",
    "data_final"
   ]
  },
  {
   "cell_type": "markdown",
   "metadata": {},
   "source": [
    "### 회사명, 모델명 정리 "
   ]
  },
  {
   "cell_type": "code",
   "execution_count": 237,
   "metadata": {},
   "outputs": [],
   "source": [
    "# 예제 7-18 회사명 + 모델명 분리\n",
    "company_list = []\n",
    "product_list = []\n",
    "for title in data_final['상품명']:\n",
    "    title_info = title.split(' ', 1)\n",
    "    company_name = title_info[0]\n",
    "    product_name = title_info[1]\n",
    "    company_list.append(company_name)\n",
    "    product_list.append(product_name)"
   ]
  },
  {
   "cell_type": "markdown",
   "metadata": {},
   "source": [
    "### * 회사 개수"
   ]
  },
  {
   "cell_type": "code",
   "execution_count": 238,
   "metadata": {},
   "outputs": [
    {
     "data": {
      "text/plain": [
       "Counter({'LG전자': 20,\n",
       "         '삼성전자': 31,\n",
       "         '샤오미': 19,\n",
       "         '베이스어스': 1,\n",
       "         '일렉트로룩스': 18,\n",
       "         '다이슨': 12,\n",
       "         '델로라': 1,\n",
       "         'DIBEA': 7,\n",
       "         '오아': 1,\n",
       "         '로엘': 2,\n",
       "         '위드앤올': 2,\n",
       "         '인트비즈': 1,\n",
       "         '웍스': 1,\n",
       "         '오토모': 3,\n",
       "         '조아스': 1,\n",
       "         '한샘': 1,\n",
       "         '캐치웰': 3,\n",
       "         '유행코리아': 2,\n",
       "         '티케이케이': 1,\n",
       "         '에어메이드': 1,\n",
       "         '벤딕트': 2,\n",
       "         '키친아트': 1,\n",
       "         '앱코': 1,\n",
       "         '무궁화전자': 1,\n",
       "         '리하스': 1,\n",
       "         '휴스톰': 2,\n",
       "         '알토디자인': 1,\n",
       "         '지웰': 1,\n",
       "         '로보락': 1,\n",
       "         '라이트컴': 1,\n",
       "         '레이캅': 1,\n",
       "         'JINYIBAI': 1,\n",
       "         '보쉬': 1,\n",
       "         '씽크웨이': 1,\n",
       "         '신일전자': 4,\n",
       "         '보랄': 1,\n",
       "         '홈마블': 1,\n",
       "         '블랙파인': 2,\n",
       "         '카렉스': 1,\n",
       "         '보만': 1,\n",
       "         '기펠': 1,\n",
       "         '유니맥스': 2,\n",
       "         '툴앤툴': 1,\n",
       "         '테팔': 1,\n",
       "         '발뮤다': 1})"
      ]
     },
     "execution_count": 238,
     "metadata": {},
     "output_type": "execute_result"
    }
   ],
   "source": [
    "from collections import Counter\n",
    "company_counts=Counter(company_list)\n",
    "company_counts"
   ]
  },
  {
   "cell_type": "code",
   "execution_count": 239,
   "metadata": {
    "scrolled": true
   },
   "outputs": [
    {
     "name": "stdout",
     "output_type": "stream",
     "text": [
      "45\n"
     ]
    }
   ],
   "source": [
    "print(len(company_counts))"
   ]
  },
  {
   "cell_type": "code",
   "execution_count": 240,
   "metadata": {},
   "outputs": [
    {
     "data": {
      "text/plain": [
       "[('삼성전자', 31),\n",
       " ('LG전자', 20),\n",
       " ('샤오미', 19),\n",
       " ('일렉트로룩스', 18),\n",
       " ('다이슨', 12),\n",
       " ('DIBEA', 7),\n",
       " ('신일전자', 4),\n",
       " ('오토모', 3),\n",
       " ('캐치웰', 3),\n",
       " ('로엘', 2),\n",
       " ('위드앤올', 2),\n",
       " ('유행코리아', 2),\n",
       " ('벤딕트', 2),\n",
       " ('휴스톰', 2),\n",
       " ('블랙파인', 2),\n",
       " ('유니맥스', 2),\n",
       " ('베이스어스', 1),\n",
       " ('델로라', 1),\n",
       " ('오아', 1),\n",
       " ('인트비즈', 1),\n",
       " ('웍스', 1),\n",
       " ('조아스', 1),\n",
       " ('한샘', 1),\n",
       " ('티케이케이', 1),\n",
       " ('에어메이드', 1),\n",
       " ('키친아트', 1),\n",
       " ('앱코', 1),\n",
       " ('무궁화전자', 1),\n",
       " ('리하스', 1),\n",
       " ('알토디자인', 1),\n",
       " ('지웰', 1),\n",
       " ('로보락', 1),\n",
       " ('라이트컴', 1),\n",
       " ('레이캅', 1),\n",
       " ('JINYIBAI', 1),\n",
       " ('보쉬', 1),\n",
       " ('씽크웨이', 1),\n",
       " ('보랄', 1),\n",
       " ('홈마블', 1),\n",
       " ('카렉스', 1),\n",
       " ('보만', 1),\n",
       " ('기펠', 1),\n",
       " ('툴앤툴', 1),\n",
       " ('테팔', 1),\n",
       " ('발뮤다', 1)]"
      ]
     },
     "execution_count": 240,
     "metadata": {},
     "output_type": "execute_result"
    }
   ],
   "source": [
    "from collections import Counter\n",
    "company_counts=Counter(company_list)\n",
    "#print(company_counts)\n",
    "company_counts.most_common(60)"
   ]
  },
  {
   "cell_type": "markdown",
   "metadata": {},
   "source": [
    "### 7.3.4 스펙 목록에서 카테고리, 사용시간, 흡입력을 추출해서 정리\n"
   ]
  },
  {
   "cell_type": "code",
   "execution_count": 241,
   "metadata": {},
   "outputs": [
    {
     "data": {
      "text/plain": [
       "['핸디/스틱청소기',\n",
       " '핸디+스틱형',\n",
       " '무선형',\n",
       " '흡입+걸레겸용',\n",
       " '소비전력: 590W',\n",
       " '[성능] 흡입력: 210W',\n",
       " '2중터보싸이클론',\n",
       " '스마트인버터모터',\n",
       " '[배터리] 충전시간: 4시간',\n",
       " '사용시간(개당): 1시간',\n",
       " '분리형 (2개)',\n",
       " '리튬이온',\n",
       " '[필터] 분리형배기필터',\n",
       " '헤파필터',\n",
       " 'H13급',\n",
       " '5단계여과',\n",
       " '[기능] 자동물공급',\n",
       " '배터리잔량표시',\n",
       " 'IoT기능',\n",
       " '자동먼지비움',\n",
       " '[구성] 바닥',\n",
       " '물걸레',\n",
       " '침구',\n",
       " '솔형',\n",
       " '틈새',\n",
       " '올인원타워',\n",
       " '[부가] 색상: 카밍베이지',\n",
       " '무게: 2.6kg',\n",
       " '크기(가로x세로x깊이): 250x1120x260mm']"
      ]
     },
     "execution_count": 241,
     "metadata": {},
     "output_type": "execute_result"
    }
   ],
   "source": [
    "# 예제 7-19 첫 번째 제품의 스펙 목록 분리\n",
    "spec_list = data_final['스펙 목록'][0].split(' / ')\n",
    "spec_list "
   ]
  },
  {
   "cell_type": "code",
   "execution_count": 242,
   "metadata": {},
   "outputs": [
    {
     "data": {
      "text/plain": [
       "'핸디/스틱청소기'"
      ]
     },
     "execution_count": 242,
     "metadata": {},
     "output_type": "execute_result"
    }
   ],
   "source": [
    "# 예제 카테고리 정보 추출\n",
    "category = spec_list[0] \n",
    "category "
   ]
  },
  {
   "cell_type": "code",
   "execution_count": 243,
   "metadata": {},
   "outputs": [
    {
     "name": "stdout",
     "output_type": "stream",
     "text": [
      "사용시간(개당): 1시간\n",
      "[성능] 흡입력: 210W\n"
     ]
    }
   ],
   "source": [
    "# 예제 ‘사용시간’, ‘흡입력’이 포함된 원소 추출 \n",
    "for spec in spec_list:\n",
    "    if '사용시간' in spec: \n",
    "         use_time_spec = spec \n",
    "    elif '흡입력' in spec:\n",
    "        suction_spec = spec\n",
    "        \n",
    "print(use_time_spec)\n",
    "print(suction_spec)"
   ]
  },
  {
   "cell_type": "code",
   "execution_count": 244,
   "metadata": {
    "scrolled": true
   },
   "outputs": [
    {
     "name": "stdout",
     "output_type": "stream",
     "text": [
      "1시간\n",
      "210W\n"
     ]
    }
   ],
   "source": [
    "# 예제 정량적인 수치 추출 \n",
    "use_time_value = use_time_spec.split(' ')[1].strip() \n",
    "suction_value = suction_spec.split(' ')[-1].strip()\n",
    "\n",
    "print(use_time_value)\n",
    "print(suction_value)"
   ]
  },
  {
   "cell_type": "code",
   "execution_count": 245,
   "metadata": {},
   "outputs": [],
   "source": [
    "# 예제 카테고리, 사용시간, 흡입력 추출 \n",
    "category_list = []\n",
    "use_time_list = []\n",
    "suction_list = [] \n",
    "\n",
    "for spec_data in data_final['스펙 목록']:\n",
    "    # ' / ' 기준으로 스펙 분리하기 \n",
    "    spec_list = spec_data.split(' / ')\n",
    "    \n",
    "    # 카테고리 추출하기\n",
    "    category = spec_list[0] \n",
    "    category_list.append(category)\n",
    "    \n",
    "    # 사용시간, 흡입력 추출 \n",
    "    ## 사용시간, 흡입력 정보가 없는 제품을 위해 변수를 생성 \n",
    "    use_time_value = None \n",
    "    suction_value = None \n",
    "    \n",
    "    ## spec_list의 각 원소에서 사용시간, 흡입력 수치 추출\n",
    "    for spec in spec_list:\n",
    "        if '사용시간' in spec: \n",
    "            use_time_value = spec.split(' ')[1].strip()             \n",
    "        if '흡입력' in spec:\n",
    "            suction_value = spec.split(' ')[-1].strip() \n",
    "    use_time_list.append(use_time_value)\n",
    "    suction_list.append(suction_value)"
   ]
  },
  {
   "cell_type": "code",
   "execution_count": 246,
   "metadata": {},
   "outputs": [
    {
     "name": "stdout",
     "output_type": "stream",
     "text": [
      "카테고리 160 ['핸디/스틱청소기', '핸디/스틱청소기', '핸디/스틱청소기', '차량용청소기', '핸디/스틱청소기']\n",
      "사용시간 160 ['1시간', '1시간', '1시간', '30분', '1시간']\n",
      "흡입력 160 ['210W', '210W', '210W', '16,800Pa', '20000Pa']\n"
     ]
    }
   ],
   "source": [
    "# 예제 7-24 카테고리, 사용시간, 흡입력에 대한 전처리 결과 확인\n",
    "print(\"카테고리\", len(category_list), category_list[0:5])\n",
    "print(\"사용시간\", len(use_time_list), use_time_list[0:5])\n",
    "print(\"흡입력\", len(suction_list), suction_list[0:5])"
   ]
  },
  {
   "cell_type": "markdown",
   "metadata": {},
   "source": [
    "### 무선청소기 사용시간 단위 통일시키기"
   ]
  },
  {
   "cell_type": "code",
   "execution_count": 247,
   "metadata": {},
   "outputs": [],
   "source": [
    "# 예제 사용시간을 분 단위로 조정하는 함수\n",
    "def convert_time_minute(time):\n",
    "    try:\n",
    "        if '시간' in time:\n",
    "            hour = time.split('시간')[0]\n",
    "            if '분' in time:\n",
    "                minute = time.split('시간')[-1].split('분')[0]\n",
    "            else:\n",
    "                minute = 0\n",
    "        else: \n",
    "            hour = 0\n",
    "            minute = time.split('분')[0]\n",
    "        return int(hour)*60 + int(minute)\n",
    "    except:\n",
    "        return None   "
   ]
  },
  {
   "cell_type": "code",
   "execution_count": 248,
   "metadata": {},
   "outputs": [
    {
     "name": "stdout",
     "output_type": "stream",
     "text": [
      "40분 = 40\n",
      "4분 = 4\n",
      "1시간 = 60\n",
      "3시간30분 = 210\n",
      "4시간 = 240\n"
     ]
    }
   ],
   "source": [
    "# 예제 사용시간을 분 단위로 조정하는 함수의 테스트\n",
    "times = [\"40분\", \"4분\", \"1시간\", \"3시간30분\", \"4시간\"]\n",
    "for time in times:\n",
    "    time_value = convert_time_minute(time)\n",
    "    print(time, \"=\", time_value)"
   ]
  },
  {
   "cell_type": "code",
   "execution_count": 249,
   "metadata": {},
   "outputs": [
    {
     "name": "stdout",
     "output_type": "stream",
     "text": [
      "160\n",
      "[60, 60, 60, 30, 60, 45, 60, 60, 60, 45]\n"
     ]
    }
   ],
   "source": [
    "# 예제 모델별 사용시간을 분 단위로 통일하기\n",
    "new_use_time_list = []\n",
    "for time in use_time_list:\n",
    "    value = convert_time_minute(time)\n",
    "    new_use_time_list.append(value)\n",
    "    \n",
    "print(len(new_use_time_list))\n",
    "print(new_use_time_list[0:10])"
   ]
  },
  {
   "cell_type": "markdown",
   "metadata": {},
   "source": [
    "### 7.3.6 무선 청소기 흡입력 단위 통일시키기"
   ]
  },
  {
   "cell_type": "code",
   "execution_count": 250,
   "metadata": {},
   "outputs": [],
   "source": [
    "# 예제 흡입력 단위를 통일시키는 함수\n",
    "def get_suction(value):\n",
    "    try:\n",
    "        value = value.upper()\n",
    "        if \"AW\" in value or \"W\" in value:\n",
    "            result = value.replace(\"A\", \"\").replace(\"W\",\"\")\n",
    "            result = int(result.replace(\",\",\"\"))\n",
    "        elif \"PA\" in value:\n",
    "            result = value.replace(\"PA\",\"\")\n",
    "            result = int(result.replace(\",\",\"\"))/100\n",
    "        else:\n",
    "            result = None\n",
    "        return result\n",
    "    except:\n",
    "        return None"
   ]
  },
  {
   "cell_type": "code",
   "execution_count": 251,
   "metadata": {},
   "outputs": [
    {
     "name": "stdout",
     "output_type": "stream",
     "text": [
      "160\n",
      "[210, 210, 210, 168.0, 200.0, 150.0, 220.0, 210, 210, None]\n"
     ]
    }
   ],
   "source": [
    "# 예제 흡입력 단위 통일시키기\n",
    "new_suction_list = []\n",
    "for power in suction_list:\n",
    "    value = get_suction (power)\n",
    "    new_suction_list.append(value)\n",
    "\n",
    "print(len(new_suction_list))\n",
    "print(new_suction_list[0:10])"
   ]
  },
  {
   "cell_type": "markdown",
   "metadata": {},
   "source": [
    "### 다나와 전처리 결과를 엑셀로 저장"
   ]
  },
  {
   "cell_type": "code",
   "execution_count": 252,
   "metadata": {},
   "outputs": [
    {
     "data": {
      "text/html": [
       "<div>\n",
       "<style scoped>\n",
       "    .dataframe tbody tr th:only-of-type {\n",
       "        vertical-align: middle;\n",
       "    }\n",
       "\n",
       "    .dataframe tbody tr th {\n",
       "        vertical-align: top;\n",
       "    }\n",
       "\n",
       "    .dataframe thead th {\n",
       "        text-align: right;\n",
       "    }\n",
       "</style>\n",
       "<table border=\"1\" class=\"dataframe\">\n",
       "  <thead>\n",
       "    <tr style=\"text-align: right;\">\n",
       "      <th></th>\n",
       "      <th>카테고리</th>\n",
       "      <th>회사명</th>\n",
       "      <th>제품</th>\n",
       "      <th>가격</th>\n",
       "      <th>사용시간</th>\n",
       "      <th>흡입력</th>\n",
       "    </tr>\n",
       "  </thead>\n",
       "  <tbody>\n",
       "    <tr>\n",
       "      <th>0</th>\n",
       "      <td>핸디/스틱청소기</td>\n",
       "      <td>LG전자</td>\n",
       "      <td>오브제컬렉션 코드제로 ThinQ A9S AO9571</td>\n",
       "      <td>1055760</td>\n",
       "      <td>60.0</td>\n",
       "      <td>210.0</td>\n",
       "    </tr>\n",
       "    <tr>\n",
       "      <th>1</th>\n",
       "      <td>핸디/스틱청소기</td>\n",
       "      <td>삼성전자</td>\n",
       "      <td>비스포크 제트 VS20A956A3</td>\n",
       "      <td>587830</td>\n",
       "      <td>60.0</td>\n",
       "      <td>210.0</td>\n",
       "    </tr>\n",
       "    <tr>\n",
       "      <th>2</th>\n",
       "      <td>핸디/스틱청소기</td>\n",
       "      <td>LG전자</td>\n",
       "      <td>코드제로 ThinQ A9S AS9370IKT</td>\n",
       "      <td>814610</td>\n",
       "      <td>60.0</td>\n",
       "      <td>210.0</td>\n",
       "    </tr>\n",
       "    <tr>\n",
       "      <th>3</th>\n",
       "      <td>차량용청소기</td>\n",
       "      <td>샤오미</td>\n",
       "      <td>CLEANFLY 차량용 무선 청소기 4세대 H2 (해외구매)</td>\n",
       "      <td>60590</td>\n",
       "      <td>30.0</td>\n",
       "      <td>168.0</td>\n",
       "    </tr>\n",
       "    <tr>\n",
       "      <th>4</th>\n",
       "      <td>핸디/스틱청소기</td>\n",
       "      <td>샤오미</td>\n",
       "      <td>TROUVER POWER 11</td>\n",
       "      <td>73950</td>\n",
       "      <td>60.0</td>\n",
       "      <td>200.0</td>\n",
       "    </tr>\n",
       "    <tr>\n",
       "      <th>...</th>\n",
       "      <td>...</td>\n",
       "      <td>...</td>\n",
       "      <td>...</td>\n",
       "      <td>...</td>\n",
       "      <td>...</td>\n",
       "      <td>...</td>\n",
       "    </tr>\n",
       "    <tr>\n",
       "      <th>155</th>\n",
       "      <td>핸디/스틱청소기</td>\n",
       "      <td>DIBEA</td>\n",
       "      <td>D18</td>\n",
       "      <td>83160</td>\n",
       "      <td>45.0</td>\n",
       "      <td>90.0</td>\n",
       "    </tr>\n",
       "    <tr>\n",
       "      <th>156</th>\n",
       "      <td>물걸레청소기</td>\n",
       "      <td>로엘</td>\n",
       "      <td>듀스핀2</td>\n",
       "      <td>62950</td>\n",
       "      <td>300.0</td>\n",
       "      <td>NaN</td>\n",
       "    </tr>\n",
       "    <tr>\n",
       "      <th>157</th>\n",
       "      <td>물걸레청소기</td>\n",
       "      <td>블랙파인</td>\n",
       "      <td>VC-P9</td>\n",
       "      <td>278000</td>\n",
       "      <td>40.0</td>\n",
       "      <td>NaN</td>\n",
       "    </tr>\n",
       "    <tr>\n",
       "      <th>158</th>\n",
       "      <td>핸디/스틱청소기</td>\n",
       "      <td>삼성전자</td>\n",
       "      <td>비스포크 제트 VS20A957G3P</td>\n",
       "      <td>1697300</td>\n",
       "      <td>60.0</td>\n",
       "      <td>210.0</td>\n",
       "    </tr>\n",
       "    <tr>\n",
       "      <th>159</th>\n",
       "      <td>핸디/스틱청소기</td>\n",
       "      <td>오토모</td>\n",
       "      <td>AVC-OTOA2</td>\n",
       "      <td>590000</td>\n",
       "      <td>30.0</td>\n",
       "      <td>200.0</td>\n",
       "    </tr>\n",
       "  </tbody>\n",
       "</table>\n",
       "<p>160 rows × 6 columns</p>\n",
       "</div>"
      ],
      "text/plain": [
       "         카테고리    회사명                                 제품       가격   사용시간    흡입력\n",
       "0    핸디/스틱청소기   LG전자       오브제컬렉션 코드제로 ThinQ A9S AO9571  1055760   60.0  210.0\n",
       "1    핸디/스틱청소기   삼성전자                 비스포크 제트 VS20A956A3   587830   60.0  210.0\n",
       "2    핸디/스틱청소기   LG전자           코드제로 ThinQ A9S AS9370IKT   814610   60.0  210.0\n",
       "3      차량용청소기    샤오미  CLEANFLY 차량용 무선 청소기 4세대 H2 (해외구매)    60590   30.0  168.0\n",
       "4    핸디/스틱청소기    샤오미                   TROUVER POWER 11    73950   60.0  200.0\n",
       "..        ...    ...                                ...      ...    ...    ...\n",
       "155  핸디/스틱청소기  DIBEA                                D18    83160   45.0   90.0\n",
       "156    물걸레청소기     로엘                               듀스핀2    62950  300.0    NaN\n",
       "157    물걸레청소기   블랙파인                              VC-P9   278000   40.0    NaN\n",
       "158  핸디/스틱청소기   삼성전자                비스포크 제트 VS20A957G3P  1697300   60.0  210.0\n",
       "159  핸디/스틱청소기    오토모                          AVC-OTOA2   590000   30.0  200.0\n",
       "\n",
       "[160 rows x 6 columns]"
      ]
     },
     "execution_count": 252,
     "metadata": {},
     "output_type": "execute_result"
    }
   ],
   "source": [
    "# 예제 7-30 전처리 데이터 확인\n",
    "pd_data = pd.DataFrame()\n",
    "pd_data['카테고리'] = category_list\n",
    "pd_data['회사명'] = company_list\n",
    "pd_data['제품'] = product_list\n",
    "pd_data['가격'] = data_final['가격']\n",
    "pd_data['사용시간'] = new_use_time_list\n",
    "pd_data['흡입력'] = new_suction_list\n",
    "pd_data"
   ]
  },
  {
   "cell_type": "code",
   "execution_count": 253,
   "metadata": {
    "scrolled": false
   },
   "outputs": [
    {
     "data": {
      "text/plain": [
       "핸디/스틱청소기    120\n",
       "차량용청소기       25\n",
       "물걸레청소기       12\n",
       "욕실청소기         2\n",
       "침구청소기         1\n",
       "Name: 카테고리, dtype: int64"
      ]
     },
     "execution_count": 253,
     "metadata": {},
     "output_type": "execute_result"
    }
   ],
   "source": [
    "# 예제 카테고리 분류 기준 및 데이터 개수 점검\n",
    "pd_data['카테고리'].value_counts() "
   ]
  },
  {
   "cell_type": "code",
   "execution_count": 254,
   "metadata": {},
   "outputs": [],
   "source": [
    "pd_data=pd_data[pd_data.가격 != 0]"
   ]
  },
  {
   "cell_type": "code",
   "execution_count": 255,
   "metadata": {},
   "outputs": [
    {
     "data": {
      "text/html": [
       "<div>\n",
       "<style scoped>\n",
       "    .dataframe tbody tr th:only-of-type {\n",
       "        vertical-align: middle;\n",
       "    }\n",
       "\n",
       "    .dataframe tbody tr th {\n",
       "        vertical-align: top;\n",
       "    }\n",
       "\n",
       "    .dataframe thead th {\n",
       "        text-align: right;\n",
       "    }\n",
       "</style>\n",
       "<table border=\"1\" class=\"dataframe\">\n",
       "  <thead>\n",
       "    <tr style=\"text-align: right;\">\n",
       "      <th></th>\n",
       "      <th>카테고리</th>\n",
       "      <th>회사명</th>\n",
       "      <th>제품</th>\n",
       "      <th>가격</th>\n",
       "      <th>사용시간</th>\n",
       "      <th>흡입력</th>\n",
       "    </tr>\n",
       "  </thead>\n",
       "  <tbody>\n",
       "    <tr>\n",
       "      <th>0</th>\n",
       "      <td>핸디/스틱청소기</td>\n",
       "      <td>LG전자</td>\n",
       "      <td>오브제컬렉션 코드제로 ThinQ A9S AO9571</td>\n",
       "      <td>1055760</td>\n",
       "      <td>60.0</td>\n",
       "      <td>210.0</td>\n",
       "    </tr>\n",
       "    <tr>\n",
       "      <th>1</th>\n",
       "      <td>핸디/스틱청소기</td>\n",
       "      <td>삼성전자</td>\n",
       "      <td>비스포크 제트 VS20A956A3</td>\n",
       "      <td>587830</td>\n",
       "      <td>60.0</td>\n",
       "      <td>210.0</td>\n",
       "    </tr>\n",
       "    <tr>\n",
       "      <th>2</th>\n",
       "      <td>핸디/스틱청소기</td>\n",
       "      <td>LG전자</td>\n",
       "      <td>코드제로 ThinQ A9S AS9370IKT</td>\n",
       "      <td>814610</td>\n",
       "      <td>60.0</td>\n",
       "      <td>210.0</td>\n",
       "    </tr>\n",
       "    <tr>\n",
       "      <th>3</th>\n",
       "      <td>차량용청소기</td>\n",
       "      <td>샤오미</td>\n",
       "      <td>CLEANFLY 차량용 무선 청소기 4세대 H2 (해외구매)</td>\n",
       "      <td>60590</td>\n",
       "      <td>30.0</td>\n",
       "      <td>168.0</td>\n",
       "    </tr>\n",
       "    <tr>\n",
       "      <th>4</th>\n",
       "      <td>핸디/스틱청소기</td>\n",
       "      <td>샤오미</td>\n",
       "      <td>TROUVER POWER 11</td>\n",
       "      <td>73950</td>\n",
       "      <td>60.0</td>\n",
       "      <td>200.0</td>\n",
       "    </tr>\n",
       "    <tr>\n",
       "      <th>...</th>\n",
       "      <td>...</td>\n",
       "      <td>...</td>\n",
       "      <td>...</td>\n",
       "      <td>...</td>\n",
       "      <td>...</td>\n",
       "      <td>...</td>\n",
       "    </tr>\n",
       "    <tr>\n",
       "      <th>155</th>\n",
       "      <td>핸디/스틱청소기</td>\n",
       "      <td>DIBEA</td>\n",
       "      <td>D18</td>\n",
       "      <td>83160</td>\n",
       "      <td>45.0</td>\n",
       "      <td>90.0</td>\n",
       "    </tr>\n",
       "    <tr>\n",
       "      <th>156</th>\n",
       "      <td>물걸레청소기</td>\n",
       "      <td>로엘</td>\n",
       "      <td>듀스핀2</td>\n",
       "      <td>62950</td>\n",
       "      <td>300.0</td>\n",
       "      <td>NaN</td>\n",
       "    </tr>\n",
       "    <tr>\n",
       "      <th>157</th>\n",
       "      <td>물걸레청소기</td>\n",
       "      <td>블랙파인</td>\n",
       "      <td>VC-P9</td>\n",
       "      <td>278000</td>\n",
       "      <td>40.0</td>\n",
       "      <td>NaN</td>\n",
       "    </tr>\n",
       "    <tr>\n",
       "      <th>158</th>\n",
       "      <td>핸디/스틱청소기</td>\n",
       "      <td>삼성전자</td>\n",
       "      <td>비스포크 제트 VS20A957G3P</td>\n",
       "      <td>1697300</td>\n",
       "      <td>60.0</td>\n",
       "      <td>210.0</td>\n",
       "    </tr>\n",
       "    <tr>\n",
       "      <th>159</th>\n",
       "      <td>핸디/스틱청소기</td>\n",
       "      <td>오토모</td>\n",
       "      <td>AVC-OTOA2</td>\n",
       "      <td>590000</td>\n",
       "      <td>30.0</td>\n",
       "      <td>200.0</td>\n",
       "    </tr>\n",
       "  </tbody>\n",
       "</table>\n",
       "<p>160 rows × 6 columns</p>\n",
       "</div>"
      ],
      "text/plain": [
       "         카테고리    회사명                                 제품       가격   사용시간    흡입력\n",
       "0    핸디/스틱청소기   LG전자       오브제컬렉션 코드제로 ThinQ A9S AO9571  1055760   60.0  210.0\n",
       "1    핸디/스틱청소기   삼성전자                 비스포크 제트 VS20A956A3   587830   60.0  210.0\n",
       "2    핸디/스틱청소기   LG전자           코드제로 ThinQ A9S AS9370IKT   814610   60.0  210.0\n",
       "3      차량용청소기    샤오미  CLEANFLY 차량용 무선 청소기 4세대 H2 (해외구매)    60590   30.0  168.0\n",
       "4    핸디/스틱청소기    샤오미                   TROUVER POWER 11    73950   60.0  200.0\n",
       "..        ...    ...                                ...      ...    ...    ...\n",
       "155  핸디/스틱청소기  DIBEA                                D18    83160   45.0   90.0\n",
       "156    물걸레청소기     로엘                               듀스핀2    62950  300.0    NaN\n",
       "157    물걸레청소기   블랙파인                              VC-P9   278000   40.0    NaN\n",
       "158  핸디/스틱청소기   삼성전자                비스포크 제트 VS20A957G3P  1697300   60.0  210.0\n",
       "159  핸디/스틱청소기    오토모                          AVC-OTOA2   590000   30.0  200.0\n",
       "\n",
       "[160 rows x 6 columns]"
      ]
     },
     "execution_count": 255,
     "metadata": {},
     "output_type": "execute_result"
    }
   ],
   "source": [
    "pd_data"
   ]
  },
  {
   "cell_type": "code",
   "execution_count": 256,
   "metadata": {},
   "outputs": [
    {
     "data": {
      "text/plain": [
       "120"
      ]
     },
     "execution_count": 256,
     "metadata": {},
     "output_type": "execute_result"
    }
   ],
   "source": [
    "# 예제 핸디/스틱청소기만 선택\n",
    "pd_data_final = pd_data[pd_data['카테고리'].isin(['핸디/스틱청소기'])]\n",
    "len(pd_data_final)"
   ]
  },
  {
   "cell_type": "code",
   "execution_count": 257,
   "metadata": {},
   "outputs": [],
   "source": [
    "# 예제 엑셀로 저장\n",
    "pd_data_final.to_excel('./danawa_data_final_preprocessed.xlsx', index = False)"
   ]
  },
  {
   "cell_type": "code",
   "execution_count": 258,
   "metadata": {},
   "outputs": [
    {
     "data": {
      "text/html": [
       "<div>\n",
       "<style scoped>\n",
       "    .dataframe tbody tr th:only-of-type {\n",
       "        vertical-align: middle;\n",
       "    }\n",
       "\n",
       "    .dataframe tbody tr th {\n",
       "        vertical-align: top;\n",
       "    }\n",
       "\n",
       "    .dataframe thead th {\n",
       "        text-align: right;\n",
       "    }\n",
       "</style>\n",
       "<table border=\"1\" class=\"dataframe\">\n",
       "  <thead>\n",
       "    <tr style=\"text-align: right;\">\n",
       "      <th></th>\n",
       "      <th>카테고리</th>\n",
       "      <th>회사명</th>\n",
       "      <th>제품</th>\n",
       "      <th>가격</th>\n",
       "      <th>사용시간</th>\n",
       "      <th>흡입력</th>\n",
       "    </tr>\n",
       "  </thead>\n",
       "  <tbody>\n",
       "    <tr>\n",
       "      <th>133</th>\n",
       "      <td>핸디/스틱청소기</td>\n",
       "      <td>유니맥스</td>\n",
       "      <td>UVC-1688</td>\n",
       "      <td>18240</td>\n",
       "      <td>NaN</td>\n",
       "      <td>NaN</td>\n",
       "    </tr>\n",
       "    <tr>\n",
       "      <th>149</th>\n",
       "      <td>핸디/스틱청소기</td>\n",
       "      <td>샤오미</td>\n",
       "      <td>유핀 CL99</td>\n",
       "      <td>26980</td>\n",
       "      <td>50.0</td>\n",
       "      <td>NaN</td>\n",
       "    </tr>\n",
       "    <tr>\n",
       "      <th>152</th>\n",
       "      <td>핸디/스틱청소기</td>\n",
       "      <td>유니맥스</td>\n",
       "      <td>UVC-1686A</td>\n",
       "      <td>28390</td>\n",
       "      <td>NaN</td>\n",
       "      <td>NaN</td>\n",
       "    </tr>\n",
       "    <tr>\n",
       "      <th>113</th>\n",
       "      <td>핸디/스틱청소기</td>\n",
       "      <td>신일전자</td>\n",
       "      <td>LCYC913</td>\n",
       "      <td>29100</td>\n",
       "      <td>20.0</td>\n",
       "      <td>35.0</td>\n",
       "    </tr>\n",
       "    <tr>\n",
       "      <th>134</th>\n",
       "      <td>핸디/스틱청소기</td>\n",
       "      <td>신일전자</td>\n",
       "      <td>SVC-680G</td>\n",
       "      <td>30340</td>\n",
       "      <td>15.0</td>\n",
       "      <td>NaN</td>\n",
       "    </tr>\n",
       "    <tr>\n",
       "      <th>...</th>\n",
       "      <td>...</td>\n",
       "      <td>...</td>\n",
       "      <td>...</td>\n",
       "      <td>...</td>\n",
       "      <td>...</td>\n",
       "      <td>...</td>\n",
       "    </tr>\n",
       "    <tr>\n",
       "      <th>55</th>\n",
       "      <td>핸디/스틱청소기</td>\n",
       "      <td>LG전자</td>\n",
       "      <td>오브제컬렉션 코드제로 ThinQ A9S AO9471WKT</td>\n",
       "      <td>1143990</td>\n",
       "      <td>60.0</td>\n",
       "      <td>210.0</td>\n",
       "    </tr>\n",
       "    <tr>\n",
       "      <th>40</th>\n",
       "      <td>핸디/스틱청소기</td>\n",
       "      <td>다이슨</td>\n",
       "      <td>V15 디텍트 컴플리트</td>\n",
       "      <td>1179610</td>\n",
       "      <td>60.0</td>\n",
       "      <td>240.0</td>\n",
       "    </tr>\n",
       "    <tr>\n",
       "      <th>144</th>\n",
       "      <td>핸디/스틱청소기</td>\n",
       "      <td>삼성전자</td>\n",
       "      <td>비스포크 제트 VS20A956E3</td>\n",
       "      <td>1230000</td>\n",
       "      <td>60.0</td>\n",
       "      <td>210.0</td>\n",
       "    </tr>\n",
       "    <tr>\n",
       "      <th>29</th>\n",
       "      <td>핸디/스틱청소기</td>\n",
       "      <td>다이슨</td>\n",
       "      <td>V15 디텍트 앱솔루트 엑스트라</td>\n",
       "      <td>1247840</td>\n",
       "      <td>60.0</td>\n",
       "      <td>240.0</td>\n",
       "    </tr>\n",
       "    <tr>\n",
       "      <th>158</th>\n",
       "      <td>핸디/스틱청소기</td>\n",
       "      <td>삼성전자</td>\n",
       "      <td>비스포크 제트 VS20A957G3P</td>\n",
       "      <td>1697300</td>\n",
       "      <td>60.0</td>\n",
       "      <td>210.0</td>\n",
       "    </tr>\n",
       "  </tbody>\n",
       "</table>\n",
       "<p>120 rows × 6 columns</p>\n",
       "</div>"
      ],
      "text/plain": [
       "         카테고리   회사명                               제품       가격  사용시간    흡입력\n",
       "133  핸디/스틱청소기  유니맥스                         UVC-1688    18240   NaN    NaN\n",
       "149  핸디/스틱청소기   샤오미                          유핀 CL99    26980  50.0    NaN\n",
       "152  핸디/스틱청소기  유니맥스                        UVC-1686A    28390   NaN    NaN\n",
       "113  핸디/스틱청소기  신일전자                          LCYC913    29100  20.0   35.0\n",
       "134  핸디/스틱청소기  신일전자                         SVC-680G    30340  15.0    NaN\n",
       "..        ...   ...                              ...      ...   ...    ...\n",
       "55   핸디/스틱청소기  LG전자  오브제컬렉션 코드제로 ThinQ A9S AO9471WKT  1143990  60.0  210.0\n",
       "40   핸디/스틱청소기   다이슨                     V15 디텍트 컴플리트  1179610  60.0  240.0\n",
       "144  핸디/스틱청소기  삼성전자               비스포크 제트 VS20A956E3  1230000  60.0  210.0\n",
       "29   핸디/스틱청소기   다이슨                V15 디텍트 앱솔루트 엑스트라  1247840  60.0  240.0\n",
       "158  핸디/스틱청소기  삼성전자              비스포크 제트 VS20A957G3P  1697300  60.0  210.0\n",
       "\n",
       "[120 rows x 6 columns]"
      ]
     },
     "execution_count": 258,
     "metadata": {},
     "output_type": "execute_result"
    }
   ],
   "source": [
    "pd_data_final.sort_values([\"가격\"])"
   ]
  },
  {
   "cell_type": "code",
   "execution_count": null,
   "metadata": {},
   "outputs": [],
   "source": []
  }
 ],
 "metadata": {
  "kernelspec": {
   "display_name": "Python 3 (ipykernel)",
   "language": "python",
   "name": "python3"
  },
  "language_info": {
   "codemirror_mode": {
    "name": "ipython",
    "version": 3
   },
   "file_extension": ".py",
   "mimetype": "text/x-python",
   "name": "python",
   "nbconvert_exporter": "python",
   "pygments_lexer": "ipython3",
   "version": "3.7.11"
  }
 },
 "nbformat": 4,
 "nbformat_minor": 2
}
