{
 "cells": [
  {
   "cell_type": "code",
   "execution_count": 1,
   "id": "a07be4a0",
   "metadata": {},
   "outputs": [],
   "source": [
    "import requests\n",
    "from bs4 import BeautifulSoup\n"
   ]
  },
  {
   "cell_type": "code",
   "execution_count": null,
   "id": "60aca72f",
   "metadata": {},
   "outputs": [],
   "source": [
    "raw = requests.get(\"http://www.kpu.ac.kr/contents/main/cor/kcollege.html\")\n",
    "html = BeautifulSoup(raw.content, \"html.parser\", from_encoding=\"utf-8\")\n",
    "departments = html.select(\".label.ko\")\n",
    "print(departments)"
   ]
  },
  {
   "cell_type": "code",
   "execution_count": null,
   "id": "fdb30815",
   "metadata": {
    "scrolled": true
   },
   "outputs": [],
   "source": [
    "for dept in departments:\n",
    "    print(dept.text)"
   ]
  },
  {
   "cell_type": "code",
   "execution_count": 4,
   "id": "52b48f8f",
   "metadata": {
    "scrolled": true
   },
   "outputs": [
    {
     "name": "stdout",
     "output_type": "stream",
     "text": [
      "기계공학과 \t MECHANICAL ENGINEERING \t http://subweb.kpu.ac.kr/machine/index.do\n",
      "기계설계공학과 \t MECHANICAL DESIGN ENGINEERING \t http://subweb.kpu.ac.kr/machineDe/index.do\n",
      "메카트로닉스공학부 \t MECHATRONICS ENGINEERING \t http://subweb.kpu.ac.kr/control/index.do\n",
      "전자공학부 \t ELECTRONICS ENGINEERING \t http://subweb.kpu.ac.kr/electronic/index.do\n",
      "컴퓨터공학부 \t COMPUTER ENGINEERING \t http://subweb.kpu.ac.kr/computer/index.do\n",
      "게임공학부 \t GAME & MULTIMEDIA ENGINEERING \t http://subweb.kpu.ac.kr/game/index.do\n",
      "신소재공학과 \t ADVANCED MATERIALS ENGINEERING \t http://subweb.kpu.ac.kr/materials/index.do\n",
      "생명화학공학과 \t CHEMICAL ENGINEERING & BIOTECHNOLOGY \t http://subweb.kpu.ac.kr/bio/index.do\n",
      "디자인공학부 \t DESIGN ENGINEERING \t http://subweb.kpu.ac.kr/inderdesign/index.do\n",
      "경영학부 \t BUSINESS ADMINISTRATION \t http://subweb.kpu.ac.kr/eBiz/index.do\n",
      "나노반도체공학과 \t NANO & SEMICONDUCTOR ENGINEERING \t http://subweb.kpu.ac.kr/nano/index.do\n",
      "에너지·전기공학과 \t ENERGY & ELECTRICAL ENGINEERING \t http://subweb.kpu.ac.kr/energyelec/index.do\n",
      "지식융합학부 \t CONSILIENCE \t http://subweb.kpu.ac.kr/liberalArt/index.do\n"
     ]
    }
   ],
   "source": [
    "raw = requests.get(\"http://www.kpu.ac.kr/contents/main/cor/kcollege.html\")\n",
    "html = BeautifulSoup(raw.content, \"html.parser\", from_encoding=\"utf-8\")\n",
    "departments = html.select(\"div.meta\")\n",
    "\n",
    "for dept in departments:\n",
    "    koname = dept.select_one(\".label.ko\").text\n",
    "    enname = dept.select_one(\".label.en\").text\n",
    "    url = dept.select_one(\"a\").get(\"href\")\n",
    "    print(koname, \"\\t\", enname, \"\\t\", url)"
   ]
  },
  {
   "cell_type": "code",
   "execution_count": 10,
   "id": "44ae082a",
   "metadata": {
    "scrolled": true
   },
   "outputs": [
    {
     "name": "stdout",
     "output_type": "stream",
     "text": [
      "'435억원만 줘' 토트넘 이적료 파격 세일, 'SON 동료' 가치 대폭락 \n",
      "스타뉴스\n",
      "프리미어리그\n",
      "\n",
      "정우영 에이전트 \"바이에른 뮌헨의 제안, 외면할 수는 없다\" \n",
      "마이데일리\n",
      "분데스리가\n",
      "\n",
      "A-ROD를 소환하다니… 4040억 유격수, 본격 전성기 시작되나 \n",
      "스포티비뉴스\n",
      "메이저리그\n",
      "\n",
      "‘후회하게 만들까’ FA 보상선수 4총사, 누가 터질까...또 두산이려나 \n",
      "OSEN\n",
      "KBO리그\n",
      "\n",
      "‘팀도 상대 선수도 살렸다’ 하메스, 심정지 선수에 응급조치 \n",
      "스포티비뉴스\n",
      "AFC\n",
      "\n",
      "'은퇴부터 전향까지' 이대은·이학주·하재훈, 3년 만에 중대기로 선 '2019 유턴파' \n",
      "엑스포츠뉴스\n",
      "KBO리그\n",
      "\n"
     ]
    }
   ],
   "source": [
    "raw = requests.get(\"https://sports.news.naver.com/index.nhn\")\n",
    "html = BeautifulSoup(raw.content, \"html.parser\", from_encoding=\"utf-8\")\n",
    "departments = html.select(\"li.today_item\")\n",
    "\n",
    "for dept in departments:\n",
    "    title = dept.select_one(\".title\").text\n",
    "    infoname = dept.select_one(\".information\").text\n",
    "    print(title, infoname)"
   ]
  },
  {
   "cell_type": "code",
   "execution_count": 16,
   "id": "c41138ef",
   "metadata": {
    "scrolled": true
   },
   "outputs": [
    {
     "name": "stderr",
     "output_type": "stream",
     "text": [
      "C:\\Users\\lhk65\\anaconda3\\envs\\selenium\\lib\\site-packages\\ipykernel_launcher.py:2: DeprecationWarning: executable_path has been deprecated, please pass in a Service object\n",
      "  \n"
     ]
    },
    {
     "name": "stdout",
     "output_type": "stream",
     "text": [
      "<html><head></head><body><a href=\"javascript:openComments();\">로또번호 생성하기</a>\n",
      "<div id=\"commentArea\">25<br>32<br>38<br>42<br>12<br>22<br>5<br></div>\n",
      "\n",
      "<script>\n",
      "\tvar ddd = Math.random()\n",
      "  function openComments() {\n",
      "    a = \"\";\n",
      "    for (i = 0; i < 7; i++) {\n",
      "      a += Math.ceil(Math.random() * 45) + \"<br>\";\n",
      "    }\n",
      "    document.getElementById(\"commentArea\").innerHTML = a;\n",
      "  }\n",
      "\n",
      "  function displayTime() {\n",
      "    document.getElementById('demo').innerHTML = Date()\n",
      "  }\n",
      "\n",
      "</script></body></html>\n"
     ]
    },
    {
     "name": "stderr",
     "output_type": "stream",
     "text": [
      "C:\\Users\\lhk65\\anaconda3\\envs\\selenium\\lib\\site-packages\\ipykernel_launcher.py:5: DeprecationWarning: find_element_by_* commands are deprecated. Please use find_element() instead\n",
      "  \"\"\"\n"
     ]
    }
   ],
   "source": [
    "from selenium import webdriver\n",
    "browser = webdriver.Chrome(\"./chromedriver\")\n",
    "browser.get(\"http://147.46.178.16:33333/javascript.html\")\n",
    "import time\n",
    "time.sleep(1)\n",
    "browser.find_element_by_css_selector(\"body a\").click()\n",
    "print(browser.page_source)\n"
   ]
  },
  {
   "cell_type": "code",
   "execution_count": 31,
   "id": "e775566d",
   "metadata": {},
   "outputs": [
    {
     "name": "stderr",
     "output_type": "stream",
     "text": [
      "C:\\Users\\lhk65\\anaconda3\\envs\\selenium\\lib\\site-packages\\ipykernel_launcher.py:7: DeprecationWarning: find_elements_by_* commands are deprecated. Please use find_elements() instead\n",
      "  import sys\n",
      "C:\\Users\\lhk65\\anaconda3\\envs\\selenium\\lib\\site-packages\\selenium\\webdriver\\remote\\webelement.py:484: UserWarning: find_element_by_* commands are deprecated. Please use find_element() instead\n",
      "  warnings.warn(\"find_element_by_* commands are deprecated. Please use find_element() instead\")\n"
     ]
    },
    {
     "name": "stdout",
     "output_type": "stream",
     "text": [
      "프리미어리그 스타뉴스 '435억원만 줘' 토트넘 이적료 파격 세일, 'SON 동료' 가치 대폭락\n",
      "분데스리가 마이데일리 정우영 에이전트 \"바이에른 뮌헨의 제안, 외면할 수는 없다\"\n",
      "메이저리그 스포티비뉴스 A-ROD를 소환하다니… 4040억 유격수, 본격 전성기 시작되나\n",
      "KBO리그 마이데일리 겨우 49위가 현역 1등? 류현진-김광현 떠나니 KBO 투수난 심각\n",
      "KBO리그 OSEN ‘후회하게 만들까’ FA 보상선수 4총사, 누가 터질까...또 두산이려나\n",
      "일본야구 스포티비뉴스 日언론 \"요미우리 김기태 코치 폐결핵으로 요양…1군 타격코치 추가\"\n"
     ]
    }
   ],
   "source": [
    "from selenium import webdriver\n",
    "from bs4 import BeautifulSoup\n",
    "import time\n",
    "browser = webdriver.Chrome(\"./chromedriver\")\n",
    "browser.get(\"https://sports.news.naver.com/index.nhn\")\n",
    "pages = browser.find_element_by_css_selector(\".today_item div.text_area\")\n",
    "\n",
    "for p in pages:\n",
    "    title = page.find_element_by_css_selector(\".title\")\n",
    "    infoname = page.find_element_by_css_selector(\".information\")\n",
    "\n",
    "print(title, infoname)"
   ]
  },
  {
   "cell_type": "code",
   "execution_count": 32,
   "id": "38f19d5a",
   "metadata": {},
   "outputs": [
    {
     "name": "stderr",
     "output_type": "stream",
     "text": [
      "C:\\Users\\lhk65\\anaconda3\\envs\\selenium\\lib\\site-packages\\ipykernel_launcher.py:6: DeprecationWarning: find_elements_by_* commands are deprecated. Please use find_elements() instead\n",
      "  \n"
     ]
    },
    {
     "name": "stdout",
     "output_type": "stream",
     "text": [
      "프리미어리그 스타뉴스 '435억원만 줘' 토트넘 이적료 파격 세일, 'SON 동료' 가치 대폭락\n",
      "분데스리가 마이데일리 정우영 에이전트 \"바이에른 뮌헨의 제안, 외면할 수는 없다\"\n",
      "메이저리그 스포티비뉴스 A-ROD를 소환하다니… 4040억 유격수, 본격 전성기 시작되나\n",
      "KBO리그 마이데일리 겨우 49위가 현역 1등? 류현진-김광현 떠나니 KBO 투수난 심각\n",
      "KBO리그 OSEN ‘후회하게 만들까’ FA 보상선수 4총사, 누가 터질까...또 두산이려나\n",
      "일본야구 스포티비뉴스 日언론 \"요미우리 김기태 코치 폐결핵으로 요양…1군 타격코치 추가\"\n"
     ]
    }
   ],
   "source": [
    "from selenium import webdriver\n",
    "from bs4 import BeautifulSoup\n",
    "browser = webdriver.Chrome()\n",
    "url=\"https://sports.news.naver.com/index.nhn\"\n",
    "browser.get(url)\n",
    "boxes = browser.find_elements_by_css_selector(\".today_item div.text_area\")\n",
    "\n",
    "#import time\n",
    "#time.sleep(3)\n",
    "for box in boxes:\n",
    "    # title = browser.find~~~~`\n",
    "    title = box.find_element_by_css_selector(\"strong.title\") #기사타이틀\n",
    "    newspaper = box.find_element_by_css_selector(\".information span\").text #신문사\n",
    "    sport = box.find_element_by_css_selector(\".information span:nth-child(2)\").text #스포츠 상위 주제\n",
    "    print(sport, newspaper, title.text)"
   ]
  },
  {
   "cell_type": "code",
   "execution_count": 36,
   "id": "332354ab",
   "metadata": {
    "scrolled": true
   },
   "outputs": [
    {
     "data": {
      "text/html": [
       "<div>\n",
       "<style scoped>\n",
       "    .dataframe tbody tr th:only-of-type {\n",
       "        vertical-align: middle;\n",
       "    }\n",
       "\n",
       "    .dataframe tbody tr th {\n",
       "        vertical-align: top;\n",
       "    }\n",
       "\n",
       "    .dataframe thead th {\n",
       "        text-align: right;\n",
       "    }\n",
       "</style>\n",
       "<table border=\"1\" class=\"dataframe\">\n",
       "  <thead>\n",
       "    <tr style=\"text-align: right;\">\n",
       "      <th></th>\n",
       "      <th>서비스</th>\n",
       "      <th>순위</th>\n",
       "      <th>타이틀</th>\n",
       "      <th>가수</th>\n",
       "    </tr>\n",
       "  </thead>\n",
       "  <tbody>\n",
       "    <tr>\n",
       "      <th>0</th>\n",
       "      <td>Melon</td>\n",
       "      <td>1</td>\n",
       "      <td>취중고백</td>\n",
       "      <td>김민석 (멜로망스)</td>\n",
       "    </tr>\n",
       "    <tr>\n",
       "      <th>1</th>\n",
       "      <td>Melon</td>\n",
       "      <td>2</td>\n",
       "      <td>사랑은 늘 도망가</td>\n",
       "      <td>임영웅</td>\n",
       "    </tr>\n",
       "    <tr>\n",
       "      <th>2</th>\n",
       "      <td>Melon</td>\n",
       "      <td>3</td>\n",
       "      <td>회전목마 (Feat. Zion.T, 원슈타인) (Prod. Slom)</td>\n",
       "      <td>sokodomo</td>\n",
       "    </tr>\n",
       "    <tr>\n",
       "      <th>3</th>\n",
       "      <td>Melon</td>\n",
       "      <td>4</td>\n",
       "      <td>Counting Stars (Feat. Beenzino)</td>\n",
       "      <td>BE'O (비오)</td>\n",
       "    </tr>\n",
       "    <tr>\n",
       "      <th>4</th>\n",
       "      <td>Melon</td>\n",
       "      <td>5</td>\n",
       "      <td>ELEVEN</td>\n",
       "      <td>IVE (아이브)</td>\n",
       "    </tr>\n",
       "    <tr>\n",
       "      <th>...</th>\n",
       "      <td>...</td>\n",
       "      <td>...</td>\n",
       "      <td>...</td>\n",
       "      <td>...</td>\n",
       "    </tr>\n",
       "    <tr>\n",
       "      <th>95</th>\n",
       "      <td>Melon</td>\n",
       "      <td>96</td>\n",
       "      <td>Peaches (Feat. Daniel Caesar &amp; Giveon)</td>\n",
       "      <td>Justin Bieber</td>\n",
       "    </tr>\n",
       "    <tr>\n",
       "      <th>96</th>\n",
       "      <td>Melon</td>\n",
       "      <td>97</td>\n",
       "      <td>깐부 (Feat. 염따, ASH ISLAND) (Prod. TOIL)</td>\n",
       "      <td>KOONTA (쿤타)</td>\n",
       "    </tr>\n",
       "    <tr>\n",
       "      <th>97</th>\n",
       "      <td>Melon</td>\n",
       "      <td>98</td>\n",
       "      <td>밤새 서로 미루다</td>\n",
       "      <td>존박</td>\n",
       "    </tr>\n",
       "    <tr>\n",
       "      <th>98</th>\n",
       "      <td>Melon</td>\n",
       "      <td>99</td>\n",
       "      <td>abcdefu</td>\n",
       "      <td>Gayle</td>\n",
       "    </tr>\n",
       "    <tr>\n",
       "      <th>99</th>\n",
       "      <td>Melon</td>\n",
       "      <td>100</td>\n",
       "      <td>Santa Tell Me</td>\n",
       "      <td>Ariana Grande</td>\n",
       "    </tr>\n",
       "  </tbody>\n",
       "</table>\n",
       "<p>100 rows × 4 columns</p>\n",
       "</div>"
      ],
      "text/plain": [
       "      서비스   순위                                     타이틀             가수\n",
       "0   Melon    1                                    취중고백     김민석 (멜로망스)\n",
       "1   Melon    2                               사랑은 늘 도망가            임영웅\n",
       "2   Melon    3  회전목마 (Feat. Zion.T, 원슈타인) (Prod. Slom)       sokodomo\n",
       "3   Melon    4         Counting Stars (Feat. Beenzino)      BE'O (비오)\n",
       "4   Melon    5                                  ELEVEN      IVE (아이브)\n",
       "..    ...  ...                                     ...            ...\n",
       "95  Melon   96  Peaches (Feat. Daniel Caesar & Giveon)  Justin Bieber\n",
       "96  Melon   97  깐부 (Feat. 염따, ASH ISLAND) (Prod. TOIL)    KOONTA (쿤타)\n",
       "97  Melon   98                               밤새 서로 미루다             존박\n",
       "98  Melon   99                                 abcdefu          Gayle\n",
       "99  Melon  100                           Santa Tell Me  Ariana Grande\n",
       "\n",
       "[100 rows x 4 columns]"
      ]
     },
     "execution_count": 36,
     "metadata": {},
     "output_type": "execute_result"
    }
   ],
   "source": [
    "#실습: 멜론 사이트 접속하기 \n",
    "\n",
    "from selenium import webdriver\n",
    "#from selenium.webdriver.common.keys import Keys\n",
    "from selenium import webdriver\n",
    "from bs4 import BeautifulSoup\n",
    "\n",
    "driver = webdriver.Chrome()\n",
    "url = 'http://www.melon.com/chart/index.htm'\n",
    "driver.get(url)\n",
    "\n",
    "html = driver.page_source\n",
    "soup = BeautifulSoup(html, 'html.parser')\n",
    "\n",
    "#반복문을 이용해 곡과 가수명을 song_data에 저장하기 \n",
    "song_data = []\n",
    "rank = 1\n",
    "\n",
    "songs = soup.select('table > tbody > tr')\n",
    "for song in songs:                                        \n",
    "    title = song.select('div.rank01 > span > a')[0].text\n",
    "    singer = song.select('div.rank02 > a')[0].text\n",
    "    song_data.append(['Melon', rank, title, singer])\n",
    "    rank = rank + 1\n",
    "\n",
    "#song_data 리스트를 이용해 데이터프레임 만들기 \n",
    "import pandas as pd\n",
    "columns = ['서비스', '순위', '타이틀', '가수']\n",
    "pd_data = pd.DataFrame(song_data, columns = columns)\n",
    "pd_data"
   ]
  },
  {
   "cell_type": "code",
   "execution_count": 40,
   "id": "27ae7c6e",
   "metadata": {},
   "outputs": [
    {
     "name": "stderr",
     "output_type": "stream",
     "text": [
      "C:\\Users\\lhk65\\anaconda3\\envs\\selenium\\lib\\site-packages\\ipykernel_launcher.py:14: DeprecationWarning: find_element_by_* commands are deprecated. Please use find_element() instead\n",
      "  \n"
     ]
    }
   ],
   "source": [
    "##부동산 닫기버튼\n",
    "from selenium import webdriver\n",
    "browser = webdriver.Chrome()\n",
    "\n",
    "browser.get(\"https://new.land.naver.com/complexes/112329?ms=37.3686672,126.7231725,15&a=APT:ABYG:JGC&e=RETAIL&articleNo=2201558345\")\n",
    "\n",
    "import time\n",
    "time.sleep(1)\n",
    "browser.find_element_by_css_selector(\"div.detail_panel > div > button\").click()\n",
    "\n",
    "time.sleep(1)"
   ]
  },
  {
   "cell_type": "code",
   "execution_count": 17,
   "id": "4433cd71",
   "metadata": {
    "scrolled": true
   },
   "outputs": [
    {
     "name": "stderr",
     "output_type": "stream",
     "text": [
      "C:\\Users\\lhk65\\anaconda3\\envs\\selenium\\lib\\site-packages\\ipykernel_launcher.py:10: DeprecationWarning: find_elements_by_* commands are deprecated. Please use find_elements() instead\n",
      "  # Remove the CWD from sys.path while we load stuff.\n"
     ]
    },
    {
     "name": "stdout",
     "output_type": "stream",
     "text": [
      "연꽃 기러기가 날아가는 형상을 한 망자들의 안식처, 제주시 봉개동 열안지오름 공감 103 댓글 13\n",
      "리스크 아이원스-기업분석(feat 상상) 공감 329 댓글 42\n",
      "낙서 한민아 로스카보스 르블랑 리조트, 독특한 레바논 요리 메제 Mezze, (디너 1회) 공감 31 댓글 7\n",
      "청개구리 고양일산서구싱크대막힘 변기막힘 혼자서 해결하다 큰일 날 수도 공감 24 댓글 3\n",
      "쥬쥬 프레쉬 뷰티 블랙티퍼밍세럼 추천🤎 새해선물로 좋은 대용량 리미티드 에디션 100ml 공감 22 댓글 2\n",
      "차칸울프 경남 함안곶감 파수 반건시 유명 곶감(꽃감), 보관법 공감 52 댓글 7\n",
      "슉슉이아빠 설날 부모님 명절선물은 안마의자 추천 세라젬 V6 공감 26 댓글 9\n",
      "딱따구리 경기도 아이랑 갈만한곳 여주 곤충박물관 공감 63 댓글 7\n",
      "마피드 새로운 Co2확산 방식 신제품 Neo Mixer의 정보입니다 공감 57 댓글 45\n"
     ]
    },
    {
     "ename": "NoSuchElementException",
     "evalue": "Message: no such element: Unable to locate element: {\"method\":\"css selector\",\"selector\":\"span.reply\"}\n  (Session info: chrome=97.0.4692.71)\nStacktrace:\nBacktrace:\n\tOrdinal0 [0x00A7FDC3+2555331]\n\tOrdinal0 [0x00A177F1+2127857]\n\tOrdinal0 [0x00912E08+1060360]\n\tOrdinal0 [0x0093E49E+1238174]\n\tOrdinal0 [0x0093E69B+1238683]\n\tOrdinal0 [0x00934A01+1198593]\n\tOrdinal0 [0x00957B54+1342292]\n\tOrdinal0 [0x00934984+1198468]\n\tOrdinal0 [0x00957C14+1342484]\n\tOrdinal0 [0x009675FA+1406458]\n\tOrdinal0 [0x00957976+1341814]\n\tOrdinal0 [0x009336B6+1193654]\n\tOrdinal0 [0x00934546+1197382]\n\tGetHandleVerifier [0x00C19622+1619522]\n\tGetHandleVerifier [0x00CC882C+2336844]\n\tGetHandleVerifier [0x00B123E1+541697]\n\tGetHandleVerifier [0x00B11443+537699]\n\tOrdinal0 [0x00A1D18E+2150798]\n\tOrdinal0 [0x00A21518+2168088]\n\tOrdinal0 [0x00A21660+2168416]\n\tOrdinal0 [0x00A2B330+2208560]\n\tBaseThreadInitThunk [0x76906739+25]\n\tRtlGetFullPathName_UEx [0x77518AFF+1215]\n\tRtlGetFullPathName_UEx [0x77518ACD+1165]\n",
     "output_type": "error",
     "traceback": [
      "\u001b[1;31m---------------------------------------------------------------------------\u001b[0m",
      "\u001b[1;31mNoSuchElementException\u001b[0m                    Traceback (most recent call last)",
      "\u001b[1;32m~\\AppData\\Local\\Temp\\ipykernel_20416\\53331257.py\u001b[0m in \u001b[0;36m<module>\u001b[1;34m\u001b[0m\n\u001b[0;32m     15\u001b[0m     \u001b[0mtitle\u001b[0m \u001b[1;33m=\u001b[0m \u001b[0mbox\u001b[0m\u001b[1;33m.\u001b[0m\u001b[0mfind_element_by_css_selector\u001b[0m\u001b[1;33m(\u001b[0m\u001b[1;34m\"div.desc > a.desc_inner > strong\"\u001b[0m\u001b[1;33m)\u001b[0m\u001b[1;33m.\u001b[0m\u001b[0mtext\u001b[0m\u001b[1;33m\u001b[0m\u001b[1;33m\u001b[0m\u001b[0m\n\u001b[0;32m     16\u001b[0m     \u001b[0mlike\u001b[0m \u001b[1;33m=\u001b[0m \u001b[0mbox\u001b[0m\u001b[1;33m.\u001b[0m\u001b[0mfind_element_by_css_selector\u001b[0m\u001b[1;33m(\u001b[0m\u001b[1;34m\"span.like\"\u001b[0m\u001b[1;33m)\u001b[0m\u001b[1;33m.\u001b[0m\u001b[0mtext\u001b[0m\u001b[1;33m\u001b[0m\u001b[1;33m\u001b[0m\u001b[0m\n\u001b[1;32m---> 17\u001b[1;33m     \u001b[0mreply\u001b[0m \u001b[1;33m=\u001b[0m \u001b[0mbox\u001b[0m\u001b[1;33m.\u001b[0m\u001b[0mfind_element_by_css_selector\u001b[0m\u001b[1;33m(\u001b[0m\u001b[1;34m\"span.reply\"\u001b[0m\u001b[1;33m)\u001b[0m\u001b[1;33m.\u001b[0m\u001b[0mtext\u001b[0m\u001b[1;33m\u001b[0m\u001b[1;33m\u001b[0m\u001b[0m\n\u001b[0m\u001b[0;32m     18\u001b[0m     \u001b[0mname\u001b[0m\u001b[1;33m.\u001b[0m\u001b[0mappend\u001b[0m\u001b[1;33m(\u001b[0m\u001b[1;33m[\u001b[0m\u001b[0mauthor\u001b[0m\u001b[1;33m,\u001b[0m \u001b[0mtitle\u001b[0m\u001b[1;33m,\u001b[0m \u001b[0mlike\u001b[0m\u001b[1;33m,\u001b[0m \u001b[0mreply\u001b[0m\u001b[1;33m]\u001b[0m\u001b[1;33m)\u001b[0m\u001b[1;33m\u001b[0m\u001b[1;33m\u001b[0m\u001b[0m\n\u001b[0;32m     19\u001b[0m     \u001b[0mprint\u001b[0m\u001b[1;33m(\u001b[0m\u001b[0mauthor\u001b[0m\u001b[1;33m,\u001b[0m \u001b[0mtitle\u001b[0m\u001b[1;33m,\u001b[0m \u001b[0mlike\u001b[0m\u001b[1;33m,\u001b[0m \u001b[0mreply\u001b[0m\u001b[1;33m)\u001b[0m\u001b[1;33m\u001b[0m\u001b[1;33m\u001b[0m\u001b[0m\n",
      "\u001b[1;32m~\\anaconda3\\envs\\selenium\\lib\\site-packages\\selenium\\webdriver\\remote\\webelement.py\u001b[0m in \u001b[0;36mfind_element_by_css_selector\u001b[1;34m(self, css_selector)\u001b[0m\n\u001b[0;32m    483\u001b[0m         \"\"\"\n\u001b[0;32m    484\u001b[0m         \u001b[0mwarnings\u001b[0m\u001b[1;33m.\u001b[0m\u001b[0mwarn\u001b[0m\u001b[1;33m(\u001b[0m\u001b[1;34m\"find_element_by_* commands are deprecated. Please use find_element() instead\"\u001b[0m\u001b[1;33m)\u001b[0m\u001b[1;33m\u001b[0m\u001b[1;33m\u001b[0m\u001b[0m\n\u001b[1;32m--> 485\u001b[1;33m         \u001b[1;32mreturn\u001b[0m \u001b[0mself\u001b[0m\u001b[1;33m.\u001b[0m\u001b[0mfind_element\u001b[0m\u001b[1;33m(\u001b[0m\u001b[0mby\u001b[0m\u001b[1;33m=\u001b[0m\u001b[0mBy\u001b[0m\u001b[1;33m.\u001b[0m\u001b[0mCSS_SELECTOR\u001b[0m\u001b[1;33m,\u001b[0m \u001b[0mvalue\u001b[0m\u001b[1;33m=\u001b[0m\u001b[0mcss_selector\u001b[0m\u001b[1;33m)\u001b[0m\u001b[1;33m\u001b[0m\u001b[1;33m\u001b[0m\u001b[0m\n\u001b[0m\u001b[0;32m    486\u001b[0m \u001b[1;33m\u001b[0m\u001b[0m\n\u001b[0;32m    487\u001b[0m     \u001b[1;32mdef\u001b[0m \u001b[0mfind_elements_by_css_selector\u001b[0m\u001b[1;33m(\u001b[0m\u001b[0mself\u001b[0m\u001b[1;33m,\u001b[0m \u001b[0mcss_selector\u001b[0m\u001b[1;33m)\u001b[0m\u001b[1;33m:\u001b[0m\u001b[1;33m\u001b[0m\u001b[1;33m\u001b[0m\u001b[0m\n",
      "\u001b[1;32m~\\anaconda3\\envs\\selenium\\lib\\site-packages\\selenium\\webdriver\\remote\\webelement.py\u001b[0m in \u001b[0;36mfind_element\u001b[1;34m(self, by, value)\u001b[0m\n\u001b[0;32m    734\u001b[0m \u001b[1;33m\u001b[0m\u001b[0m\n\u001b[0;32m    735\u001b[0m         return self._execute(Command.FIND_CHILD_ELEMENT,\n\u001b[1;32m--> 736\u001b[1;33m                              {\"using\": by, \"value\": value})['value']\n\u001b[0m\u001b[0;32m    737\u001b[0m \u001b[1;33m\u001b[0m\u001b[0m\n\u001b[0;32m    738\u001b[0m     \u001b[1;32mdef\u001b[0m \u001b[0mfind_elements\u001b[0m\u001b[1;33m(\u001b[0m\u001b[0mself\u001b[0m\u001b[1;33m,\u001b[0m \u001b[0mby\u001b[0m\u001b[1;33m=\u001b[0m\u001b[0mBy\u001b[0m\u001b[1;33m.\u001b[0m\u001b[0mID\u001b[0m\u001b[1;33m,\u001b[0m \u001b[0mvalue\u001b[0m\u001b[1;33m=\u001b[0m\u001b[1;32mNone\u001b[0m\u001b[1;33m)\u001b[0m\u001b[1;33m:\u001b[0m\u001b[1;33m\u001b[0m\u001b[1;33m\u001b[0m\u001b[0m\n",
      "\u001b[1;32m~\\anaconda3\\envs\\selenium\\lib\\site-packages\\selenium\\webdriver\\remote\\webelement.py\u001b[0m in \u001b[0;36m_execute\u001b[1;34m(self, command, params)\u001b[0m\n\u001b[0;32m    708\u001b[0m             \u001b[0mparams\u001b[0m \u001b[1;33m=\u001b[0m \u001b[1;33m{\u001b[0m\u001b[1;33m}\u001b[0m\u001b[1;33m\u001b[0m\u001b[1;33m\u001b[0m\u001b[0m\n\u001b[0;32m    709\u001b[0m         \u001b[0mparams\u001b[0m\u001b[1;33m[\u001b[0m\u001b[1;34m'id'\u001b[0m\u001b[1;33m]\u001b[0m \u001b[1;33m=\u001b[0m \u001b[0mself\u001b[0m\u001b[1;33m.\u001b[0m\u001b[0m_id\u001b[0m\u001b[1;33m\u001b[0m\u001b[1;33m\u001b[0m\u001b[0m\n\u001b[1;32m--> 710\u001b[1;33m         \u001b[1;32mreturn\u001b[0m \u001b[0mself\u001b[0m\u001b[1;33m.\u001b[0m\u001b[0m_parent\u001b[0m\u001b[1;33m.\u001b[0m\u001b[0mexecute\u001b[0m\u001b[1;33m(\u001b[0m\u001b[0mcommand\u001b[0m\u001b[1;33m,\u001b[0m \u001b[0mparams\u001b[0m\u001b[1;33m)\u001b[0m\u001b[1;33m\u001b[0m\u001b[1;33m\u001b[0m\u001b[0m\n\u001b[0m\u001b[0;32m    711\u001b[0m \u001b[1;33m\u001b[0m\u001b[0m\n\u001b[0;32m    712\u001b[0m     \u001b[1;32mdef\u001b[0m \u001b[0mfind_element\u001b[0m\u001b[1;33m(\u001b[0m\u001b[0mself\u001b[0m\u001b[1;33m,\u001b[0m \u001b[0mby\u001b[0m\u001b[1;33m=\u001b[0m\u001b[0mBy\u001b[0m\u001b[1;33m.\u001b[0m\u001b[0mID\u001b[0m\u001b[1;33m,\u001b[0m \u001b[0mvalue\u001b[0m\u001b[1;33m=\u001b[0m\u001b[1;32mNone\u001b[0m\u001b[1;33m)\u001b[0m\u001b[1;33m:\u001b[0m\u001b[1;33m\u001b[0m\u001b[1;33m\u001b[0m\u001b[0m\n",
      "\u001b[1;32m~\\anaconda3\\envs\\selenium\\lib\\site-packages\\selenium\\webdriver\\remote\\webdriver.py\u001b[0m in \u001b[0;36mexecute\u001b[1;34m(self, driver_command, params)\u001b[0m\n\u001b[0;32m    422\u001b[0m         \u001b[0mresponse\u001b[0m \u001b[1;33m=\u001b[0m \u001b[0mself\u001b[0m\u001b[1;33m.\u001b[0m\u001b[0mcommand_executor\u001b[0m\u001b[1;33m.\u001b[0m\u001b[0mexecute\u001b[0m\u001b[1;33m(\u001b[0m\u001b[0mdriver_command\u001b[0m\u001b[1;33m,\u001b[0m \u001b[0mparams\u001b[0m\u001b[1;33m)\u001b[0m\u001b[1;33m\u001b[0m\u001b[1;33m\u001b[0m\u001b[0m\n\u001b[0;32m    423\u001b[0m         \u001b[1;32mif\u001b[0m \u001b[0mresponse\u001b[0m\u001b[1;33m:\u001b[0m\u001b[1;33m\u001b[0m\u001b[1;33m\u001b[0m\u001b[0m\n\u001b[1;32m--> 424\u001b[1;33m             \u001b[0mself\u001b[0m\u001b[1;33m.\u001b[0m\u001b[0merror_handler\u001b[0m\u001b[1;33m.\u001b[0m\u001b[0mcheck_response\u001b[0m\u001b[1;33m(\u001b[0m\u001b[0mresponse\u001b[0m\u001b[1;33m)\u001b[0m\u001b[1;33m\u001b[0m\u001b[1;33m\u001b[0m\u001b[0m\n\u001b[0m\u001b[0;32m    425\u001b[0m             response['value'] = self._unwrap_value(\n\u001b[0;32m    426\u001b[0m                 response.get('value', None))\n",
      "\u001b[1;32m~\\anaconda3\\envs\\selenium\\lib\\site-packages\\selenium\\webdriver\\remote\\errorhandler.py\u001b[0m in \u001b[0;36mcheck_response\u001b[1;34m(self, response)\u001b[0m\n\u001b[0;32m    245\u001b[0m                 \u001b[0malert_text\u001b[0m \u001b[1;33m=\u001b[0m \u001b[0mvalue\u001b[0m\u001b[1;33m[\u001b[0m\u001b[1;34m'alert'\u001b[0m\u001b[1;33m]\u001b[0m\u001b[1;33m.\u001b[0m\u001b[0mget\u001b[0m\u001b[1;33m(\u001b[0m\u001b[1;34m'text'\u001b[0m\u001b[1;33m)\u001b[0m\u001b[1;33m\u001b[0m\u001b[1;33m\u001b[0m\u001b[0m\n\u001b[0;32m    246\u001b[0m             \u001b[1;32mraise\u001b[0m \u001b[0mexception_class\u001b[0m\u001b[1;33m(\u001b[0m\u001b[0mmessage\u001b[0m\u001b[1;33m,\u001b[0m \u001b[0mscreen\u001b[0m\u001b[1;33m,\u001b[0m \u001b[0mstacktrace\u001b[0m\u001b[1;33m,\u001b[0m \u001b[0malert_text\u001b[0m\u001b[1;33m)\u001b[0m  \u001b[1;31m# type: ignore[call-arg]  # mypy is not smart enough here\u001b[0m\u001b[1;33m\u001b[0m\u001b[1;33m\u001b[0m\u001b[0m\n\u001b[1;32m--> 247\u001b[1;33m         \u001b[1;32mraise\u001b[0m \u001b[0mexception_class\u001b[0m\u001b[1;33m(\u001b[0m\u001b[0mmessage\u001b[0m\u001b[1;33m,\u001b[0m \u001b[0mscreen\u001b[0m\u001b[1;33m,\u001b[0m \u001b[0mstacktrace\u001b[0m\u001b[1;33m)\u001b[0m\u001b[1;33m\u001b[0m\u001b[1;33m\u001b[0m\u001b[0m\n\u001b[0m\u001b[0;32m    248\u001b[0m \u001b[1;33m\u001b[0m\u001b[0m\n\u001b[0;32m    249\u001b[0m     \u001b[1;32mdef\u001b[0m \u001b[0m_value_or_default\u001b[0m\u001b[1;33m(\u001b[0m\u001b[0mself\u001b[0m\u001b[1;33m,\u001b[0m \u001b[0mobj\u001b[0m\u001b[1;33m:\u001b[0m \u001b[0mMapping\u001b[0m\u001b[1;33m[\u001b[0m\u001b[0m_KT\u001b[0m\u001b[1;33m,\u001b[0m \u001b[0m_VT\u001b[0m\u001b[1;33m]\u001b[0m\u001b[1;33m,\u001b[0m \u001b[0mkey\u001b[0m\u001b[1;33m:\u001b[0m \u001b[0m_KT\u001b[0m\u001b[1;33m,\u001b[0m \u001b[0mdefault\u001b[0m\u001b[1;33m:\u001b[0m \u001b[0m_VT\u001b[0m\u001b[1;33m)\u001b[0m \u001b[1;33m->\u001b[0m \u001b[0m_VT\u001b[0m\u001b[1;33m:\u001b[0m\u001b[1;33m\u001b[0m\u001b[1;33m\u001b[0m\u001b[0m\n",
      "\u001b[1;31mNoSuchElementException\u001b[0m: Message: no such element: Unable to locate element: {\"method\":\"css selector\",\"selector\":\"span.reply\"}\n  (Session info: chrome=97.0.4692.71)\nStacktrace:\nBacktrace:\n\tOrdinal0 [0x00A7FDC3+2555331]\n\tOrdinal0 [0x00A177F1+2127857]\n\tOrdinal0 [0x00912E08+1060360]\n\tOrdinal0 [0x0093E49E+1238174]\n\tOrdinal0 [0x0093E69B+1238683]\n\tOrdinal0 [0x00934A01+1198593]\n\tOrdinal0 [0x00957B54+1342292]\n\tOrdinal0 [0x00934984+1198468]\n\tOrdinal0 [0x00957C14+1342484]\n\tOrdinal0 [0x009675FA+1406458]\n\tOrdinal0 [0x00957976+1341814]\n\tOrdinal0 [0x009336B6+1193654]\n\tOrdinal0 [0x00934546+1197382]\n\tGetHandleVerifier [0x00C19622+1619522]\n\tGetHandleVerifier [0x00CC882C+2336844]\n\tGetHandleVerifier [0x00B123E1+541697]\n\tGetHandleVerifier [0x00B11443+537699]\n\tOrdinal0 [0x00A1D18E+2150798]\n\tOrdinal0 [0x00A21518+2168088]\n\tOrdinal0 [0x00A21660+2168416]\n\tOrdinal0 [0x00A2B330+2208560]\n\tBaseThreadInitThunk [0x76906739+25]\n\tRtlGetFullPathName_UEx [0x77518AFF+1215]\n\tRtlGetFullPathName_UEx [0x77518ACD+1165]\n"
     ]
    }
   ],
   "source": [
    "from selenium import webdriver\n",
    "import time\n",
    "from pandas import Series, DataFrame\n",
    "import pandas as pd\n",
    "browser = webdriver.Chrome()\n",
    "\n",
    "browser.get(\"https://section.blog.naver.com/BlogHome.naver?directoryNo=0&currentPage=1&groupId=0\")\n",
    "time.sleep(1)\n",
    "\n",
    "boxes = browser.find_elements_by_css_selector(\".info_post\")\n",
    "name=[]\n",
    "\n",
    "for box in boxes:\n",
    "    author = box.find_element_by_css_selector(\"em.name_author\").text\n",
    "    title = box.find_element_by_css_selector(\"div.desc > a.desc_inner > strong\").text\n",
    "    like = box.find_element_by_css_selector(\"span.like\").text\n",
    "    reply = box.find_element_by_css_selector(\"span.reply\").text\n",
    "    name.append([author, title, like, reply])\n",
    "    print(author, title, like, reply)\n",
    "\n"
   ]
  },
  {
   "cell_type": "code",
   "execution_count": 19,
   "id": "cc3a0ed5",
   "metadata": {
    "scrolled": true
   },
   "outputs": [
    {
     "data": {
      "text/html": [
       "<div>\n",
       "<style scoped>\n",
       "    .dataframe tbody tr th:only-of-type {\n",
       "        vertical-align: middle;\n",
       "    }\n",
       "\n",
       "    .dataframe tbody tr th {\n",
       "        vertical-align: top;\n",
       "    }\n",
       "\n",
       "    .dataframe thead th {\n",
       "        text-align: right;\n",
       "    }\n",
       "</style>\n",
       "<table border=\"1\" class=\"dataframe\">\n",
       "  <thead>\n",
       "    <tr style=\"text-align: right;\">\n",
       "      <th></th>\n",
       "      <th>글쓴이</th>\n",
       "      <th>제목</th>\n",
       "      <th>공감</th>\n",
       "      <th>댓글</th>\n",
       "    </tr>\n",
       "  </thead>\n",
       "  <tbody>\n",
       "    <tr>\n",
       "      <th>0</th>\n",
       "      <td>연꽃</td>\n",
       "      <td>기러기가 날아가는 형상을 한 망자들의 안식처, 제주시 봉개동 열안지오름</td>\n",
       "      <td>공감 103</td>\n",
       "      <td>댓글 13</td>\n",
       "    </tr>\n",
       "    <tr>\n",
       "      <th>1</th>\n",
       "      <td>리스크</td>\n",
       "      <td>아이원스-기업분석(feat 상상)</td>\n",
       "      <td>공감 329</td>\n",
       "      <td>댓글 42</td>\n",
       "    </tr>\n",
       "    <tr>\n",
       "      <th>2</th>\n",
       "      <td>낙서 한민아</td>\n",
       "      <td>로스카보스 르블랑 리조트, 독특한 레바논 요리 메제 Mezze, (디너 1회)</td>\n",
       "      <td>공감 31</td>\n",
       "      <td>댓글 7</td>\n",
       "    </tr>\n",
       "    <tr>\n",
       "      <th>3</th>\n",
       "      <td>청개구리</td>\n",
       "      <td>고양일산서구싱크대막힘 변기막힘 혼자서 해결하다 큰일 날 수도</td>\n",
       "      <td>공감 24</td>\n",
       "      <td>댓글 3</td>\n",
       "    </tr>\n",
       "    <tr>\n",
       "      <th>4</th>\n",
       "      <td>쥬쥬</td>\n",
       "      <td>프레쉬 뷰티 블랙티퍼밍세럼 추천🤎 새해선물로 좋은 대용량 리미티드 에디션 100ml</td>\n",
       "      <td>공감 22</td>\n",
       "      <td>댓글 2</td>\n",
       "    </tr>\n",
       "    <tr>\n",
       "      <th>5</th>\n",
       "      <td>차칸울프</td>\n",
       "      <td>경남 함안곶감 파수 반건시 유명 곶감(꽃감), 보관법</td>\n",
       "      <td>공감 52</td>\n",
       "      <td>댓글 7</td>\n",
       "    </tr>\n",
       "    <tr>\n",
       "      <th>6</th>\n",
       "      <td>슉슉이아빠</td>\n",
       "      <td>설날 부모님 명절선물은 안마의자 추천 세라젬 V6</td>\n",
       "      <td>공감 26</td>\n",
       "      <td>댓글 9</td>\n",
       "    </tr>\n",
       "    <tr>\n",
       "      <th>7</th>\n",
       "      <td>딱따구리</td>\n",
       "      <td>경기도 아이랑 갈만한곳 여주 곤충박물관</td>\n",
       "      <td>공감 63</td>\n",
       "      <td>댓글 7</td>\n",
       "    </tr>\n",
       "    <tr>\n",
       "      <th>8</th>\n",
       "      <td>마피드</td>\n",
       "      <td>새로운 Co2확산 방식 신제품 Neo Mixer의 정보입니다</td>\n",
       "      <td>공감 57</td>\n",
       "      <td>댓글 45</td>\n",
       "    </tr>\n",
       "  </tbody>\n",
       "</table>\n",
       "</div>"
      ],
      "text/plain": [
       "      글쓴이                                              제목      공감     댓글\n",
       "0      연꽃         기러기가 날아가는 형상을 한 망자들의 안식처, 제주시 봉개동 열안지오름  공감 103  댓글 13\n",
       "1     리스크                              아이원스-기업분석(feat 상상)  공감 329  댓글 42\n",
       "2  낙서 한민아     로스카보스 르블랑 리조트, 독특한 레바논 요리 메제 Mezze, (디너 1회)   공감 31   댓글 7\n",
       "3    청개구리               고양일산서구싱크대막힘 변기막힘 혼자서 해결하다 큰일 날 수도   공감 24   댓글 3\n",
       "4      쥬쥬  프레쉬 뷰티 블랙티퍼밍세럼 추천🤎 새해선물로 좋은 대용량 리미티드 에디션 100ml   공감 22   댓글 2\n",
       "5    차칸울프                   경남 함안곶감 파수 반건시 유명 곶감(꽃감), 보관법   공감 52   댓글 7\n",
       "6   슉슉이아빠                     설날 부모님 명절선물은 안마의자 추천 세라젬 V6   공감 26   댓글 9\n",
       "7    딱따구리                           경기도 아이랑 갈만한곳 여주 곤충박물관   공감 63   댓글 7\n",
       "8     마피드               새로운 Co2확산 방식 신제품 Neo Mixer의 정보입니다   공감 57  댓글 45"
      ]
     },
     "metadata": {},
     "output_type": "display_data"
    }
   ],
   "source": [
    "\n",
    "columns = [\"글쓴이\", \"제목\", \"공감\", \"댓글\"]\n",
    "pd_data = pd.DataFrame(name, columns = columns)\n",
    "display(pd_data)"
   ]
  }
 ],
 "metadata": {
  "kernelspec": {
   "display_name": "sel_ker",
   "language": "python",
   "name": "selenium"
  },
  "language_info": {
   "codemirror_mode": {
    "name": "ipython",
    "version": 3
   },
   "file_extension": ".py",
   "mimetype": "text/x-python",
   "name": "python",
   "nbconvert_exporter": "python",
   "pygments_lexer": "ipython3",
   "version": "3.7.11"
  }
 },
 "nbformat": 4,
 "nbformat_minor": 5
}
