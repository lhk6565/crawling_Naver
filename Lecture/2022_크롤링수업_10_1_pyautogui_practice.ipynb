{
 "cells": [
  {
   "cell_type": "code",
   "execution_count": 8,
   "id": "291a3c72",
   "metadata": {},
   "outputs": [],
   "source": [
    "#! pip install pyautogui"
   ]
  },
  {
   "cell_type": "markdown",
   "id": "adccca64",
   "metadata": {},
   "source": [
    "### 마우스 함수"
   ]
  },
  {
   "cell_type": "code",
   "execution_count": 37,
   "id": "61254d4d",
   "metadata": {},
   "outputs": [
    {
     "data": {
      "text/plain": [
       "Point(x=647, y=130)"
      ]
     },
     "execution_count": 37,
     "metadata": {},
     "output_type": "execute_result"
    }
   ],
   "source": [
    "import pyautogui\n",
    "\n",
    "# 좌표 객체 얻기 \n",
    "position = pyautogui.position()\n",
    "\n",
    "position"
   ]
  },
  {
   "cell_type": "code",
   "execution_count": 21,
   "id": "c6b04d7b",
   "metadata": {},
   "outputs": [
    {
     "name": "stdout",
     "output_type": "stream",
     "text": [
      "Size(width=1920, height=1080)\n"
     ]
    }
   ],
   "source": [
    "# 화면 전체 크기 확인하기\n",
    "print(pyautogui.size())\n",
    "\n"
   ]
  },
  {
   "cell_type": "code",
   "execution_count": 23,
   "id": "9a343490",
   "metadata": {},
   "outputs": [
    {
     "name": "stdout",
     "output_type": "stream",
     "text": [
      "39\n",
      "101\n"
     ]
    }
   ],
   "source": [
    "# x, y 좌표\n",
    "print(position.x)\n",
    "print(position.y)\n"
   ]
  },
  {
   "cell_type": "code",
   "execution_count": 25,
   "id": "e42ade6c",
   "metadata": {},
   "outputs": [],
   "source": [
    "# 마우스 이동 (x 좌표, y 좌표)\n",
    "pyautogui.moveTo(500, 500)"
   ]
  },
  {
   "cell_type": "code",
   "execution_count": 26,
   "id": "0356a41a",
   "metadata": {},
   "outputs": [],
   "source": [
    "# 마우스 이동 (x 좌표, y 좌표 2초간)\n",
    "pyautogui.moveTo(100, 100, 2)  "
   ]
  },
  {
   "cell_type": "code",
   "execution_count": 34,
   "id": "a5acd680",
   "metadata": {},
   "outputs": [],
   "source": [
    "# 마우스 이동 ( 현재위치에서 )\n",
    "pyautogui.moveRel(200, 300, 1)"
   ]
  },
  {
   "cell_type": "code",
   "execution_count": 35,
   "id": "5b1bd4f1",
   "metadata": {},
   "outputs": [],
   "source": [
    "# 마우스 클릭\n",
    "pyautogui.click()"
   ]
  },
  {
   "cell_type": "code",
   "execution_count": null,
   "id": "27ee0440",
   "metadata": {},
   "outputs": [],
   "source": [
    "# 2초 간격으로 2번 클릭\n",
    "pyautogui.click(clicks= 2, interval=2)"
   ]
  },
  {
   "cell_type": "code",
   "execution_count": null,
   "id": "d7242539",
   "metadata": {},
   "outputs": [],
   "source": [
    "# 더블 클릭\n",
    "pyautogui.doubleClick()"
   ]
  },
  {
   "cell_type": "code",
   "execution_count": null,
   "id": "bee2cd26",
   "metadata": {},
   "outputs": [],
   "source": [
    "# 오른쪽 클릭\n",
    "pyautogui.click(button='right')"
   ]
  },
  {
   "cell_type": "code",
   "execution_count": 36,
   "id": "5ef091f9",
   "metadata": {},
   "outputs": [],
   "source": [
    "# 스크롤하기 \n",
    "pyautogui.scroll(10)"
   ]
  },
  {
   "cell_type": "code",
   "execution_count": 42,
   "id": "8105573b",
   "metadata": {},
   "outputs": [],
   "source": [
    "# 드래그하기\n",
    "pyautogui.drag(0, 300, 1, button='left')"
   ]
  },
  {
   "cell_type": "code",
   "execution_count": null,
   "id": "c6ab6cd3",
   "metadata": {},
   "outputs": [],
   "source": []
  },
  {
   "cell_type": "code",
   "execution_count": 40,
   "id": "3073c68d",
   "metadata": {
    "scrolled": true
   },
   "outputs": [
    {
     "data": {
      "text/plain": [
       "Point(x=645, y=133)"
      ]
     },
     "execution_count": 40,
     "metadata": {},
     "output_type": "execute_result"
    }
   ],
   "source": [
    "# \"cell\" 버튼 좌표 객체 얻기 \n",
    "position = pyautogui.position()\n",
    "\n",
    "position"
   ]
  },
  {
   "cell_type": "markdown",
   "id": "484faabb",
   "metadata": {},
   "source": [
    "#### 실습"
   ]
  },
  {
   "cell_type": "code",
   "execution_count": 39,
   "id": "4a61bec0",
   "metadata": {},
   "outputs": [],
   "source": [
    "#\"cell\" 버튼으로 가기\n",
    "pyautogui.moveTo(647, 130, 2)  \n",
    "# 오른쪽 클릭\n",
    "pyautogui.click(button='right')"
   ]
  },
  {
   "cell_type": "markdown",
   "id": "ddb995e7",
   "metadata": {},
   "source": [
    "### 키보드 함수"
   ]
  },
  {
   "cell_type": "code",
   "execution_count": null,
   "id": "f1c9e487",
   "metadata": {},
   "outputs": [],
   "source": [
    "pyautogui.write('hello world!') # 괄호 안의 문자를 타이핑 합니다.\n",
    "pyautogui.write('hello world!', interval=0.25) # 각 문자를 0.25마다 타이핑합니다."
   ]
  },
  {
   "cell_type": "code",
   "execution_count": 50,
   "id": "b660a4c1",
   "metadata": {},
   "outputs": [
    {
     "name": "stdout",
     "output_type": "stream",
     "text": [
      "Requirement already satisfied: pyperclip in c:\\users\\user\\anaconda3\\envs\\selenium\\lib\\site-packages (1.8.2)\n"
     ]
    }
   ],
   "source": [
    "! pip install pyperclip"
   ]
  },
  {
   "cell_type": "code",
   "execution_count": null,
   "id": "6de81d3a",
   "metadata": {},
   "outputs": [],
   "source": [
    "#\"word\" 버튼으로 가기\n",
    "pyautogui.moveTo(709, 1057, 2)  \n",
    "# 오른쪽 클릭\n",
    "pyautogui.click(button='left')\n",
    "\n",
    "import time\n",
    "time.sleep(2)\n",
    "pyautogui.write('hello world!') # 괄호 안의 문자를 타이핑 합니다.\n",
    "pyautogui.write('hello world!', interval=0.25) # 각 문자를 0.25마다 타이핑합니다."
   ]
  },
  {
   "cell_type": "code",
   "execution_count": null,
   "id": "6838b7fd",
   "metadata": {},
   "outputs": [],
   "source": [
    "pyautogui.press('shift') # shift 키를 누릅니다.\n",
    "pyautogui.press('ctrl') # ctrl 키를 누릅니다. "
   ]
  },
  {
   "cell_type": "code",
   "execution_count": null,
   "id": "e6e9df2e",
   "metadata": {},
   "outputs": [],
   "source": [
    "pyautogui.keyDown('ctrl') # ctrl 키를 누른 상태를 유지합니다.\n",
    "pyautogui.press('c') # c key를 입력합니다. \n",
    "pyautogui.keyUp('ctrl') # ctrl 키를 뗍니다. "
   ]
  },
  {
   "cell_type": "code",
   "execution_count": null,
   "id": "3408c147",
   "metadata": {},
   "outputs": [],
   "source": [
    "pyautogui.press(['left', 'left', 'left']) # 왼쪽 방향키를 세번 입력합니다.\n",
    "pyautogui.press('left', presses=3) # 왼쪽 방향키를 세번 입력합니다. \n",
    "pyautogui.press('enter', presses=3, interval=3) # enter 키를 3초에 한번씩 세번 입력합니다. "
   ]
  },
  {
   "cell_type": "code",
   "execution_count": null,
   "id": "0b860d2b",
   "metadata": {},
   "outputs": [],
   "source": [
    "pyautogui.hotkey('ctrl', 'c') # ctrl + c 키를 입력합니다. "
   ]
  },
  {
   "cell_type": "code",
   "execution_count": 47,
   "id": "e752bfc6",
   "metadata": {},
   "outputs": [
    {
     "data": {
      "text/plain": [
       "['\\t',\n",
       " '\\n',\n",
       " '\\r',\n",
       " ' ',\n",
       " '!',\n",
       " '\"',\n",
       " '#',\n",
       " '$',\n",
       " '%',\n",
       " '&',\n",
       " \"'\",\n",
       " '(',\n",
       " ')',\n",
       " '*',\n",
       " '+',\n",
       " ',',\n",
       " '-',\n",
       " '.',\n",
       " '/',\n",
       " '0',\n",
       " '1',\n",
       " '2',\n",
       " '3',\n",
       " '4',\n",
       " '5',\n",
       " '6',\n",
       " '7',\n",
       " '8',\n",
       " '9',\n",
       " ':',\n",
       " ';',\n",
       " '<',\n",
       " '=',\n",
       " '>',\n",
       " '?',\n",
       " '@',\n",
       " '[',\n",
       " '\\\\',\n",
       " ']',\n",
       " '^',\n",
       " '_',\n",
       " '`',\n",
       " 'a',\n",
       " 'b',\n",
       " 'c',\n",
       " 'd',\n",
       " 'e',\n",
       " 'f',\n",
       " 'g',\n",
       " 'h',\n",
       " 'i',\n",
       " 'j',\n",
       " 'k',\n",
       " 'l',\n",
       " 'm',\n",
       " 'n',\n",
       " 'o',\n",
       " 'p',\n",
       " 'q',\n",
       " 'r',\n",
       " 's',\n",
       " 't',\n",
       " 'u',\n",
       " 'v',\n",
       " 'w',\n",
       " 'x',\n",
       " 'y',\n",
       " 'z',\n",
       " '{',\n",
       " '|',\n",
       " '}',\n",
       " '~',\n",
       " 'accept',\n",
       " 'add',\n",
       " 'alt',\n",
       " 'altleft',\n",
       " 'altright',\n",
       " 'apps',\n",
       " 'backspace',\n",
       " 'browserback',\n",
       " 'browserfavorites',\n",
       " 'browserforward',\n",
       " 'browserhome',\n",
       " 'browserrefresh',\n",
       " 'browsersearch',\n",
       " 'browserstop',\n",
       " 'capslock',\n",
       " 'clear',\n",
       " 'convert',\n",
       " 'ctrl',\n",
       " 'ctrlleft',\n",
       " 'ctrlright',\n",
       " 'decimal',\n",
       " 'del',\n",
       " 'delete',\n",
       " 'divide',\n",
       " 'down',\n",
       " 'end',\n",
       " 'enter',\n",
       " 'esc',\n",
       " 'escape',\n",
       " 'execute',\n",
       " 'f1',\n",
       " 'f10',\n",
       " 'f11',\n",
       " 'f12',\n",
       " 'f13',\n",
       " 'f14',\n",
       " 'f15',\n",
       " 'f16',\n",
       " 'f17',\n",
       " 'f18',\n",
       " 'f19',\n",
       " 'f2',\n",
       " 'f20',\n",
       " 'f21',\n",
       " 'f22',\n",
       " 'f23',\n",
       " 'f24',\n",
       " 'f3',\n",
       " 'f4',\n",
       " 'f5',\n",
       " 'f6',\n",
       " 'f7',\n",
       " 'f8',\n",
       " 'f9',\n",
       " 'final',\n",
       " 'fn',\n",
       " 'hanguel',\n",
       " 'hangul',\n",
       " 'hanja',\n",
       " 'help',\n",
       " 'home',\n",
       " 'insert',\n",
       " 'junja',\n",
       " 'kana',\n",
       " 'kanji',\n",
       " 'launchapp1',\n",
       " 'launchapp2',\n",
       " 'launchmail',\n",
       " 'launchmediaselect',\n",
       " 'left',\n",
       " 'modechange',\n",
       " 'multiply',\n",
       " 'nexttrack',\n",
       " 'nonconvert',\n",
       " 'num0',\n",
       " 'num1',\n",
       " 'num2',\n",
       " 'num3',\n",
       " 'num4',\n",
       " 'num5',\n",
       " 'num6',\n",
       " 'num7',\n",
       " 'num8',\n",
       " 'num9',\n",
       " 'numlock',\n",
       " 'pagedown',\n",
       " 'pageup',\n",
       " 'pause',\n",
       " 'pgdn',\n",
       " 'pgup',\n",
       " 'playpause',\n",
       " 'prevtrack',\n",
       " 'print',\n",
       " 'printscreen',\n",
       " 'prntscrn',\n",
       " 'prtsc',\n",
       " 'prtscr',\n",
       " 'return',\n",
       " 'right',\n",
       " 'scrolllock',\n",
       " 'select',\n",
       " 'separator',\n",
       " 'shift',\n",
       " 'shiftleft',\n",
       " 'shiftright',\n",
       " 'sleep',\n",
       " 'space',\n",
       " 'stop',\n",
       " 'subtract',\n",
       " 'tab',\n",
       " 'up',\n",
       " 'volumedown',\n",
       " 'volumemute',\n",
       " 'volumeup',\n",
       " 'win',\n",
       " 'winleft',\n",
       " 'winright',\n",
       " 'yen',\n",
       " 'command',\n",
       " 'option',\n",
       " 'optionleft',\n",
       " 'optionright']"
      ]
     },
     "execution_count": 47,
     "metadata": {},
     "output_type": "execute_result"
    }
   ],
   "source": [
    "#키보드 키의 명칭 리스트\n",
    "\n",
    "['\\t', '\\n', '\\r', ' ', '!', '\"', '#', '$', '%', '&', \"'\", '(',\n",
    "')', '*', '+', ',', '-', '.', '/', '0', '1', '2', '3', '4', '5', '6', '7',\n",
    "'8', '9', ':', ';', '<', '=', '>', '?', '@', '[', '\\\\', ']', '^', '_', '`',\n",
    "'a', 'b', 'c', 'd', 'e','f', 'g', 'h', 'i', 'j', 'k', 'l', 'm', 'n', 'o',\n",
    "'p', 'q', 'r', 's', 't', 'u', 'v', 'w', 'x', 'y', 'z', '{', '|', '}', '~',\n",
    "'accept', 'add', 'alt', 'altleft', 'altright', 'apps', 'backspace',\n",
    "'browserback', 'browserfavorites', 'browserforward', 'browserhome',\n",
    "'browserrefresh', 'browsersearch', 'browserstop', 'capslock', 'clear',\n",
    "'convert', 'ctrl', 'ctrlleft', 'ctrlright', 'decimal', 'del', 'delete',\n",
    "'divide', 'down', 'end', 'enter', 'esc', 'escape', 'execute', 'f1', 'f10',\n",
    "'f11', 'f12', 'f13', 'f14', 'f15', 'f16', 'f17', 'f18', 'f19', 'f2', 'f20',\n",
    "'f21', 'f22', 'f23', 'f24', 'f3', 'f4', 'f5', 'f6', 'f7', 'f8', 'f9',\n",
    "'final', 'fn', 'hanguel', 'hangul', 'hanja', 'help', 'home', 'insert', 'junja',\n",
    "'kana', 'kanji', 'launchapp1', 'launchapp2', 'launchmail',\n",
    "'launchmediaselect', 'left', 'modechange', 'multiply', 'nexttrack',\n",
    "'nonconvert', 'num0', 'num1', 'num2', 'num3', 'num4', 'num5', 'num6',\n",
    "'num7', 'num8', 'num9', 'numlock', 'pagedown', 'pageup', 'pause', 'pgdn',\n",
    "'pgup', 'playpause', 'prevtrack', 'print', 'printscreen', 'prntscrn',\n",
    "'prtsc', 'prtscr', 'return', 'right', 'scrolllock', 'select', 'separator',\n",
    "'shift', 'shiftleft', 'shiftright', 'sleep', 'space', 'stop', 'subtract', 'tab',\n",
    "'up', 'volumedown', 'volumemute', 'volumeup', 'win', 'winleft', 'winright', 'yen',\n",
    "'command', 'option', 'optionleft', 'optionright']"
   ]
  },
  {
   "cell_type": "markdown",
   "id": "700d5100",
   "metadata": {},
   "source": [
    "#### 실습"
   ]
  },
  {
   "cell_type": "code",
   "execution_count": null,
   "id": "981b570c",
   "metadata": {},
   "outputs": [],
   "source": [
    "# \"word\" 버튼 좌표 객체 얻기 \n",
    "position = pyautogui.position()\n",
    "\n",
    "position"
   ]
  },
  {
   "cell_type": "code",
   "execution_count": 51,
   "id": "2e136ff5",
   "metadata": {},
   "outputs": [],
   "source": [
    "#\"word\" 버튼으로 가기\n",
    "pyautogui.moveTo(709, 1057, 2)  \n",
    "# 오른쪽 클릭\n",
    "pyautogui.click(button='left')\n",
    "\n",
    "import time\n",
    "time.sleep(2)\n",
    "pyautogui.write('hello world!') # 괄호 안의 문자를 타이핑 합니다.\n",
    "pyautogui.press('enter') # shift 키를 누릅니다.\n",
    "pyautogui.write('hello world!', interval=0.25) # 각 문자를 0.25마다 타이핑합니다.\n",
    "\n",
    "import pyperclip\n",
    "\n",
    "pyperclip.copy(\"안녕하세요\") # 클립보드에 텍스트를 복사합니다. \n",
    "\n",
    "pyautogui.hotkey('ctrl', 'v') # 붙여넣기 (hotkey 설명은 아래에 있습니다.)"
   ]
  },
  {
   "cell_type": "code",
   "execution_count": null,
   "id": "8e21956a",
   "metadata": {},
   "outputs": [],
   "source": []
  }
 ],
 "metadata": {
  "kernelspec": {
   "display_name": "Python 3 (ipykernel)",
   "language": "python",
   "name": "python3"
  },
  "language_info": {
   "codemirror_mode": {
    "name": "ipython",
    "version": 3
   },
   "file_extension": ".py",
   "mimetype": "text/x-python",
   "name": "python",
   "nbconvert_exporter": "python",
   "pygments_lexer": "ipython3",
   "version": "3.7.11"
  }
 },
 "nbformat": 4,
 "nbformat_minor": 5
}
